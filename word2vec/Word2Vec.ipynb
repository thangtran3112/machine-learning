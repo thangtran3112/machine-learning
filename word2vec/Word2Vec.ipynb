{
 "cells": [
  {
   "cell_type": "markdown",
   "metadata": {},
   "source": [
    "# Getting started with Word2Vec in Gensim and making it work!\n",
    "\n",
    "The idea behind Word2Vec is pretty simple. We are making and assumption that you can tell the meaning of a word by the company it keeps. This is analogous to the saying *show me your friends, and I'll tell who you are*. So if you have two words that have very similar neighbors (i.e. the usage context is about the same), then these words are probably quite similar in meaning or are at least highly related. For example, the words `shocked`,`appalled` and `astonished` are typically used in a similar context. \n",
    "\n",
    "In this tutorial, you will learn how to use the Gensim implementation of Word2Vec and actually get it to work! I have heard a lot of complaints about poor performance etc, but its really a combination of two things, (1) your input data and (2) your parameter settings. Note that the training algorithms in this package were ported from the [original Word2Vec implementation by Google](https://arxiv.org/pdf/1301.3781.pdf) and extended with additional functionality."
   ]
  },
  {
   "cell_type": "markdown",
   "metadata": {},
   "source": [
    "### Imports and logging\n",
    "\n",
    "First, we start with our imports and get logging established:"
   ]
  },
  {
   "cell_type": "code",
   "execution_count": 1,
   "metadata": {},
   "outputs": [],
   "source": [
    "# imports needed and set up logging\n",
    "import gzip\n",
    "import gensim \n",
    "import logging\n",
    "\n",
    "logging.basicConfig(format='%(asctime)s : %(levelname)s : %(message)s', level=logging.INFO)\n"
   ]
  },
  {
   "cell_type": "markdown",
   "metadata": {},
   "source": [
    "### Dataset \n",
    "Next, is our dataset. The secret to getting Word2Vec really working for you is to have lots and lots of text data. In this case I am going to use data from the [OpinRank](http://kavita-ganesan.com/entity-ranking-data/) dataset. This dataset has full user reviews of cars and hotels. I have specifically concatenated all of the hotel reviews into one big file which is about 97MB compressed and 229MB uncompressed. We will use the compressed file for this tutorial. Each line in this file represents a hotel review. You can download the OpinRank Word2Vec dataset here.\n",
    "\n",
    "To avoid confusion, while gensim’s word2vec tutorial says that you need to pass it a sequence of sentences as its input, you can always pass it a whole review as a sentence (i.e. a much larger size of text), and it should not make much of a difference. \n",
    "\n",
    "Now, let's take a closer look at this data below by printing the first line. You can see that this is a pretty hefty review."
   ]
  },
  {
   "cell_type": "code",
   "execution_count": 2,
   "metadata": {},
   "outputs": [
    {
     "name": "stdout",
     "output_type": "stream",
     "text": [
      "b\"Oct 12 2009 \\tNice trendy hotel location not too bad.\\tI stayed in this hotel for one night. As this is a fairly new place some of the taxi drivers did not know where it was and/or did not want to drive there. Once I have eventually arrived at the hotel, I was very pleasantly surprised with the decor of the lobby/ground floor area. It was very stylish and modern. I found the reception's staff geeting me with 'Aloha' a bit out of place, but I guess they are briefed to say that to keep up the coroporate image.As I have a Starwood Preferred Guest member, I was given a small gift upon-check in. It was only a couple of fridge magnets in a gift box, but nevertheless a nice gesture.My room was nice and roomy, there are tea and coffee facilities in each room and you get two complimentary bottles of water plus some toiletries by 'bliss'.The location is not great. It is at the last metro stop and you then need to take a taxi, but if you are not planning on going to see the historic sites in Beijing, then you will be ok.I chose to have some breakfast in the hotel, which was really tasty and there was a good selection of dishes. There are a couple of computers to use in the communal area, as well as a pool table. There is also a small swimming pool and a gym area.I would definitely stay in this hotel again, but only if I did not plan to travel to central Beijing, as it can take a long time. The location is ok if you plan to do a lot of shopping, as there is a big shopping centre just few minutes away from the hotel and there are plenty of eating options around, including restaurants that serve a dog meat!\\t\\r\\n\"\n"
     ]
    }
   ],
   "source": [
    "data_file=\"reviews_data.txt.gz\"\n",
    "\n",
    "with gzip.open ('reviews_data.txt.gz', 'rb') as f:\n",
    "    for i,line in enumerate (f):\n",
    "        print(line)\n",
    "        break\n"
   ]
  },
  {
   "cell_type": "markdown",
   "metadata": {},
   "source": [
    "### Read files into a list\n",
    "Now that we've had a sneak peak of our dataset, we can read it into a list so that we can pass this on to the Word2Vec model. Notice in the code below, that I am directly reading the \n",
    "compressed file. I'm also doing a mild pre-processing of the reviews using `gensim.utils.simple_preprocess (line)`. This does some basic pre-processing such as tokenization, lowercasing, etc and returns back a list of tokens (words). Documentation of this pre-processing method can be found on the official [Gensim documentation site](https://radimrehurek.com/gensim/utils.html). \n",
    "\n"
   ]
  },
  {
   "cell_type": "code",
   "execution_count": null,
   "metadata": {},
   "outputs": [
    {
     "name": "stderr",
     "output_type": "stream",
     "text": [
      "2024-11-27 17:06:06,192 : INFO : reading file reviews_data.txt.gz...this may take a while\n",
      "2024-11-27 17:06:06,202 : INFO : read 0 reviews\n",
      "2024-11-27 17:06:07,276 : INFO : read 10000 reviews\n",
      "2024-11-27 17:06:08,343 : INFO : read 20000 reviews\n",
      "2024-11-27 17:06:09,560 : INFO : read 30000 reviews\n",
      "2024-11-27 17:06:10,707 : INFO : read 40000 reviews\n",
      "2024-11-27 17:06:11,959 : INFO : read 50000 reviews\n",
      "2024-11-27 17:06:13,186 : INFO : read 60000 reviews\n",
      "2024-11-27 17:06:14,226 : INFO : read 70000 reviews\n",
      "2024-11-27 17:06:15,320 : INFO : read 80000 reviews\n",
      "2024-11-27 17:06:16,352 : INFO : read 90000 reviews\n",
      "2024-11-27 17:06:17,340 : INFO : read 100000 reviews\n",
      "2024-11-27 17:06:18,345 : INFO : read 110000 reviews\n",
      "2024-11-27 17:06:19,319 : INFO : read 120000 reviews\n",
      "2024-11-27 17:06:20,322 : INFO : read 130000 reviews\n",
      "2024-11-27 17:06:21,398 : INFO : read 140000 reviews\n",
      "2024-11-27 17:06:22,377 : INFO : read 150000 reviews\n",
      "2024-11-27 17:06:23,399 : INFO : read 160000 reviews\n",
      "2024-11-27 17:06:24,725 : INFO : read 170000 reviews\n",
      "2024-11-27 17:06:25,767 : INFO : read 180000 reviews\n",
      "2024-11-27 17:06:26,782 : INFO : read 190000 reviews\n",
      "2024-11-27 17:06:27,890 : INFO : read 200000 reviews\n",
      "2024-11-27 17:06:28,957 : INFO : read 210000 reviews\n",
      "2024-11-27 17:06:30,026 : INFO : read 220000 reviews\n",
      "2024-11-27 17:06:31,010 : INFO : read 230000 reviews\n",
      "2024-11-27 17:06:32,027 : INFO : read 240000 reviews\n",
      "2024-11-27 17:06:33,050 : INFO : read 250000 reviews\n",
      "2024-11-27 17:06:33,591 : INFO : Done reading data file\n"
     ]
    }
   ],
   "source": [
    "\n",
    "def read_input(input_file):\n",
    "    \"\"\"This method reads the input file which is in gzip format\"\"\"\n",
    "    \n",
    "    logging.info(\"reading file {0}...this may take a while\".format(input_file))\n",
    "    \n",
    "    with gzip.open (input_file, 'rb') as f:\n",
    "        for i, line in enumerate (f): \n",
    "\n",
    "            if (i%10000==0):\n",
    "                logging.info (\"read {0} reviews\".format (i))\n",
    "            # lowercase, remove special characters, punctuations, numbers. Also tokenizes the text into a list of words.\n",
    "            # The yield statement turns the function into a generator, allowing the caller to process one line at a time.\n",
    "            yield gensim.utils.simple_preprocess (line)\n",
    "\n",
    "# read the tokenized reviews into a list\n",
    "# each review item becomes a serries of words\n",
    "# so this becomes a list of lists\n",
    "documents = list (read_input (data_file))\n",
    "logging.info (\"Done reading data file\")    "
   ]
  },
  {
   "cell_type": "markdown",
   "metadata": {},
   "source": [
    "## Training the Word2Vec model\n",
    "\n",
    "Training the model is fairly straightforward. You just instantiate Word2Vec and pass the reviews that we read in the previous step (the `documents`). So, we are essentially passing on a list of lists. Where each list within the main list contains a set of tokens from a user review. Word2Vec uses all these tokens to internally create a vocabulary. And by vocabulary, I mean a set of unique words.\n",
    "\n",
    "After building the vocabulary, we just need to call `train(...)` to start training the Word2Vec model. Training on the [OpinRank](http://kavita-ganesan.com/entity-ranking-data/) dataset takes about 10 minutes so please be patient while running your code on this dataset.\n",
    "\n",
    "Behind the scenes we are actually training a simple neural network with a single hidden layer. But, we are actually not going to use the neural network after training. Instead, the goal is to learn the weights of the hidden layer. These weights are essentially the word vectors that we’re trying to learn. "
   ]
  },
  {
   "cell_type": "code",
   "execution_count": 5,
   "metadata": {},
   "outputs": [
    {
     "name": "stderr",
     "output_type": "stream",
     "text": [
      "2024-11-27 17:37:51,644 : INFO : collecting all words and their counts\n",
      "2024-11-27 17:37:51,645 : INFO : PROGRESS: at sentence #0, processed 0 words, keeping 0 word types\n",
      "2024-11-27 17:37:52,346 : INFO : PROGRESS: at sentence #10000, processed 1655714 words, keeping 25777 word types\n",
      "2024-11-27 17:37:52,525 : INFO : PROGRESS: at sentence #20000, processed 3317863 words, keeping 35016 word types\n",
      "2024-11-27 17:37:52,698 : INFO : PROGRESS: at sentence #30000, processed 5264072 words, keeping 47518 word types\n",
      "2024-11-27 17:37:52,856 : INFO : PROGRESS: at sentence #40000, processed 7081746 words, keeping 56675 word types\n",
      "2024-11-27 17:37:53,036 : INFO : PROGRESS: at sentence #50000, processed 9089491 words, keeping 63744 word types\n",
      "2024-11-27 17:37:53,206 : INFO : PROGRESS: at sentence #60000, processed 11013728 words, keeping 76788 word types\n",
      "2024-11-27 17:37:53,350 : INFO : PROGRESS: at sentence #70000, processed 12637530 words, keeping 83201 word types\n",
      "2024-11-27 17:37:53,488 : INFO : PROGRESS: at sentence #80000, processed 14099756 words, keeping 88461 word types\n",
      "2024-11-27 17:37:53,635 : INFO : PROGRESS: at sentence #90000, processed 15662154 words, keeping 93359 word types\n",
      "2024-11-27 17:37:53,774 : INFO : PROGRESS: at sentence #100000, processed 17164492 words, keeping 97888 word types\n",
      "2024-11-27 17:37:53,913 : INFO : PROGRESS: at sentence #110000, processed 18652297 words, keeping 102134 word types\n",
      "2024-11-27 17:37:54,059 : INFO : PROGRESS: at sentence #120000, processed 20152534 words, keeping 105925 word types\n",
      "2024-11-27 17:37:54,208 : INFO : PROGRESS: at sentence #130000, processed 21684335 words, keeping 110106 word types\n",
      "2024-11-27 17:37:54,368 : INFO : PROGRESS: at sentence #140000, processed 23330211 words, keeping 114110 word types\n",
      "2024-11-27 17:37:54,508 : INFO : PROGRESS: at sentence #150000, processed 24838759 words, keeping 118176 word types\n",
      "2024-11-27 17:37:54,676 : INFO : PROGRESS: at sentence #160000, processed 26390915 words, keeping 118672 word types\n",
      "2024-11-27 17:37:54,819 : INFO : PROGRESS: at sentence #170000, processed 27913921 words, keeping 123358 word types\n",
      "2024-11-27 17:37:54,976 : INFO : PROGRESS: at sentence #180000, processed 29535617 words, keeping 126750 word types\n",
      "2024-11-27 17:37:55,121 : INFO : PROGRESS: at sentence #190000, processed 31096464 words, keeping 129849 word types\n",
      "2024-11-27 17:37:55,312 : INFO : PROGRESS: at sentence #200000, processed 32805276 words, keeping 133257 word types\n",
      "2024-11-27 17:37:55,465 : INFO : PROGRESS: at sentence #210000, processed 34434203 words, keeping 136366 word types\n",
      "2024-11-27 17:37:55,620 : INFO : PROGRESS: at sentence #220000, processed 36083487 words, keeping 139420 word types\n",
      "2024-11-27 17:37:55,761 : INFO : PROGRESS: at sentence #230000, processed 37571767 words, keeping 142401 word types\n",
      "2024-11-27 17:37:55,905 : INFO : PROGRESS: at sentence #240000, processed 39138195 words, keeping 145234 word types\n",
      "2024-11-27 17:37:56,054 : INFO : PROGRESS: at sentence #250000, processed 40695054 words, keeping 147968 word types\n",
      "2024-11-27 17:37:56,134 : INFO : collected 150061 word types from a corpus of 41519360 raw words and 255404 sentences\n",
      "2024-11-27 17:37:56,134 : INFO : Creating a fresh vocabulary\n",
      "2024-11-27 17:37:56,266 : INFO : Word2Vec lifecycle event {'msg': 'effective_min_count=2 retains 70537 unique words (47.01% of original 150061, drops 79524)', 'datetime': '2024-11-27T17:37:56.266224', 'gensim': '4.3.3', 'python': '3.12.7 | packaged by conda-forge | (main, Oct  4 2024, 15:57:01) [Clang 17.0.6 ]', 'platform': 'macOS-15.1-arm64-arm-64bit', 'event': 'prepare_vocab'}\n",
      "2024-11-27 17:37:56,266 : INFO : Word2Vec lifecycle event {'msg': 'effective_min_count=2 leaves 41439836 word corpus (99.81% of original 41519360, drops 79524)', 'datetime': '2024-11-27T17:37:56.266629', 'gensim': '4.3.3', 'python': '3.12.7 | packaged by conda-forge | (main, Oct  4 2024, 15:57:01) [Clang 17.0.6 ]', 'platform': 'macOS-15.1-arm64-arm-64bit', 'event': 'prepare_vocab'}\n",
      "2024-11-27 17:37:56,428 : INFO : deleting the raw counts dictionary of 150061 items\n",
      "2024-11-27 17:37:56,430 : INFO : sample=0.001 downsamples 55 most-common words\n",
      "2024-11-27 17:37:56,430 : INFO : Word2Vec lifecycle event {'msg': 'downsampling leaves estimated 30349251.36700416 word corpus (73.2%% of prior 41439836)', 'datetime': '2024-11-27T17:37:56.430703', 'gensim': '4.3.3', 'python': '3.12.7 | packaged by conda-forge | (main, Oct  4 2024, 15:57:01) [Clang 17.0.6 ]', 'platform': 'macOS-15.1-arm64-arm-64bit', 'event': 'prepare_vocab'}\n",
      "2024-11-27 17:37:56,697 : INFO : estimated required memory for 70537 words and 100 dimensions: 91698100 bytes\n",
      "2024-11-27 17:37:56,698 : INFO : resetting layer weights\n",
      "2024-11-27 17:37:56,718 : INFO : Word2Vec lifecycle event {'update': False, 'trim_rule': 'None', 'datetime': '2024-11-27T17:37:56.717980', 'gensim': '4.3.3', 'python': '3.12.7 | packaged by conda-forge | (main, Oct  4 2024, 15:57:01) [Clang 17.0.6 ]', 'platform': 'macOS-15.1-arm64-arm-64bit', 'event': 'build_vocab'}\n",
      "2024-11-27 17:37:56,718 : INFO : Word2Vec lifecycle event {'msg': 'training model with 10 workers on 70537 vocabulary and 100 features, using sg=0 hs=0 sample=0.001 negative=5 window=10 shrink_windows=True', 'datetime': '2024-11-27T17:37:56.718478', 'gensim': '4.3.3', 'python': '3.12.7 | packaged by conda-forge | (main, Oct  4 2024, 15:57:01) [Clang 17.0.6 ]', 'platform': 'macOS-15.1-arm64-arm-64bit', 'event': 'train'}\n",
      "2024-11-27 17:37:57,723 : INFO : EPOCH 0 - PROGRESS: at 10.31% examples, 3294124 words/s, in_qsize 20, out_qsize 0\n",
      "2024-11-27 17:37:58,729 : INFO : EPOCH 0 - PROGRESS: at 18.53% examples, 3107352 words/s, in_qsize 18, out_qsize 1\n",
      "2024-11-27 17:37:59,729 : INFO : EPOCH 0 - PROGRESS: at 28.96% examples, 3211264 words/s, in_qsize 19, out_qsize 0\n",
      "2024-11-27 17:38:00,731 : INFO : EPOCH 0 - PROGRESS: at 40.29% examples, 3211603 words/s, in_qsize 20, out_qsize 1\n",
      "2024-11-27 17:38:01,732 : INFO : EPOCH 0 - PROGRESS: at 52.32% examples, 3249375 words/s, in_qsize 19, out_qsize 0\n",
      "2024-11-27 17:38:02,745 : INFO : EPOCH 0 - PROGRESS: at 63.67% examples, 3247929 words/s, in_qsize 20, out_qsize 1\n",
      "2024-11-27 17:38:03,747 : INFO : EPOCH 0 - PROGRESS: at 74.73% examples, 3249669 words/s, in_qsize 19, out_qsize 1\n",
      "2024-11-27 17:38:04,748 : INFO : EPOCH 0 - PROGRESS: at 85.51% examples, 3264256 words/s, in_qsize 19, out_qsize 0\n",
      "2024-11-27 17:38:05,748 : INFO : EPOCH 0 - PROGRESS: at 97.32% examples, 3276464 words/s, in_qsize 19, out_qsize 1\n",
      "2024-11-27 17:38:05,970 : INFO : EPOCH 0: training on 41519360 raw words (30351412 effective words) took 9.2s, 3281571 effective words/s\n",
      "2024-11-27 17:38:06,976 : INFO : EPOCH 1 - PROGRESS: at 9.96% examples, 3158791 words/s, in_qsize 18, out_qsize 1\n",
      "2024-11-27 17:38:07,976 : INFO : EPOCH 1 - PROGRESS: at 19.23% examples, 3247251 words/s, in_qsize 19, out_qsize 0\n",
      "2024-11-27 17:38:08,980 : INFO : EPOCH 1 - PROGRESS: at 29.71% examples, 3283192 words/s, in_qsize 19, out_qsize 0\n",
      "2024-11-27 17:38:09,982 : INFO : EPOCH 1 - PROGRESS: at 41.74% examples, 3305028 words/s, in_qsize 18, out_qsize 1\n",
      "2024-11-27 17:38:10,982 : INFO : EPOCH 1 - PROGRESS: at 53.16% examples, 3306275 words/s, in_qsize 19, out_qsize 0\n",
      "2024-11-27 17:38:11,983 : INFO : EPOCH 1 - PROGRESS: at 64.74% examples, 3300602 words/s, in_qsize 19, out_qsize 0\n",
      "2024-11-27 17:38:12,988 : INFO : EPOCH 1 - PROGRESS: at 75.66% examples, 3297548 words/s, in_qsize 19, out_qsize 0\n",
      "2024-11-27 17:38:13,993 : INFO : EPOCH 1 - PROGRESS: at 86.22% examples, 3290459 words/s, in_qsize 18, out_qsize 1\n",
      "2024-11-27 17:38:14,996 : INFO : EPOCH 1 - PROGRESS: at 97.87% examples, 3295939 words/s, in_qsize 18, out_qsize 1\n",
      "2024-11-27 17:38:15,218 : INFO : EPOCH 1: training on 41519360 raw words (30351094 effective words) took 9.2s, 3282888 effective words/s\n",
      "2024-11-27 17:38:16,234 : INFO : EPOCH 2 - PROGRESS: at 9.78% examples, 3046325 words/s, in_qsize 19, out_qsize 0\n",
      "2024-11-27 17:38:17,234 : INFO : EPOCH 2 - PROGRESS: at 18.58% examples, 3103600 words/s, in_qsize 18, out_qsize 1\n",
      "2024-11-27 17:38:18,237 : INFO : EPOCH 2 - PROGRESS: at 27.78% examples, 3090836 words/s, in_qsize 18, out_qsize 1\n",
      "2024-11-27 17:38:19,244 : INFO : EPOCH 2 - PROGRESS: at 39.29% examples, 3127577 words/s, in_qsize 17, out_qsize 2\n",
      "2024-11-27 17:38:20,246 : INFO : EPOCH 2 - PROGRESS: at 50.78% examples, 3146085 words/s, in_qsize 19, out_qsize 1\n",
      "2024-11-27 17:38:21,248 : INFO : EPOCH 2 - PROGRESS: at 60.37% examples, 3091704 words/s, in_qsize 18, out_qsize 1\n",
      "2024-11-27 17:38:22,254 : INFO : EPOCH 2 - PROGRESS: at 70.23% examples, 3060146 words/s, in_qsize 20, out_qsize 1\n",
      "2024-11-27 17:38:23,254 : INFO : EPOCH 2 - PROGRESS: at 80.58% examples, 3071814 words/s, in_qsize 17, out_qsize 2\n",
      "2024-11-27 17:38:24,258 : INFO : EPOCH 2 - PROGRESS: at 90.71% examples, 3059009 words/s, in_qsize 19, out_qsize 0\n",
      "2024-11-27 17:38:25,129 : INFO : EPOCH 2: training on 41519360 raw words (30350174 effective words) took 9.9s, 3062631 effective words/s\n",
      "2024-11-27 17:38:26,135 : INFO : EPOCH 3 - PROGRESS: at 10.42% examples, 3323406 words/s, in_qsize 20, out_qsize 0\n",
      "2024-11-27 17:38:27,135 : INFO : EPOCH 3 - PROGRESS: at 19.77% examples, 3355179 words/s, in_qsize 19, out_qsize 0\n",
      "2024-11-27 17:38:28,137 : INFO : EPOCH 3 - PROGRESS: at 30.09% examples, 3323079 words/s, in_qsize 19, out_qsize 0\n",
      "2024-11-27 17:38:29,155 : INFO : EPOCH 3 - PROGRESS: at 41.47% examples, 3277293 words/s, in_qsize 19, out_qsize 0\n",
      "2024-11-27 17:38:30,157 : INFO : EPOCH 3 - PROGRESS: at 52.23% examples, 3233866 words/s, in_qsize 19, out_qsize 0\n",
      "2024-11-27 17:38:31,158 : INFO : EPOCH 3 - PROGRESS: at 62.44% examples, 3192032 words/s, in_qsize 18, out_qsize 1\n",
      "2024-11-27 17:38:32,164 : INFO : EPOCH 3 - PROGRESS: at 72.58% examples, 3160510 words/s, in_qsize 19, out_qsize 2\n",
      "2024-11-27 17:38:33,171 : INFO : EPOCH 3 - PROGRESS: at 82.31% examples, 3134506 words/s, in_qsize 20, out_qsize 1\n",
      "2024-11-27 17:38:34,171 : INFO : EPOCH 3 - PROGRESS: at 93.32% examples, 3145017 words/s, in_qsize 19, out_qsize 0\n",
      "2024-11-27 17:38:34,780 : INFO : EPOCH 3: training on 41519360 raw words (30351504 effective words) took 9.6s, 3145739 effective words/s\n",
      "2024-11-27 17:38:35,784 : INFO : EPOCH 4 - PROGRESS: at 9.84% examples, 3112153 words/s, in_qsize 19, out_qsize 0\n",
      "2024-11-27 17:38:36,788 : INFO : EPOCH 4 - PROGRESS: at 18.26% examples, 3062420 words/s, in_qsize 19, out_qsize 0\n",
      "2024-11-27 17:38:37,831 : INFO : EPOCH 4 - PROGRESS: at 26.41% examples, 2940349 words/s, in_qsize 13, out_qsize 4\n",
      "2024-11-27 17:38:38,835 : INFO : EPOCH 4 - PROGRESS: at 29.25% examples, 2404533 words/s, in_qsize 19, out_qsize 0\n",
      "2024-11-27 17:38:39,837 : INFO : EPOCH 4 - PROGRESS: at 39.36% examples, 2494054 words/s, in_qsize 19, out_qsize 0\n",
      "2024-11-27 17:38:40,843 : INFO : EPOCH 4 - PROGRESS: at 50.25% examples, 2584113 words/s, in_qsize 17, out_qsize 2\n",
      "2024-11-27 17:38:41,850 : INFO : EPOCH 4 - PROGRESS: at 60.75% examples, 2651101 words/s, in_qsize 19, out_qsize 0\n",
      "2024-11-27 17:38:42,852 : INFO : EPOCH 4 - PROGRESS: at 70.92% examples, 2693999 words/s, in_qsize 20, out_qsize 0\n",
      "2024-11-27 17:38:43,856 : INFO : EPOCH 4 - PROGRESS: at 80.60% examples, 2720640 words/s, in_qsize 19, out_qsize 0\n",
      "2024-11-27 17:38:44,856 : INFO : EPOCH 4 - PROGRESS: at 90.47% examples, 2737903 words/s, in_qsize 18, out_qsize 1\n",
      "2024-11-27 17:38:45,857 : INFO : EPOCH 4 - PROGRESS: at 99.62% examples, 2730761 words/s, in_qsize 14, out_qsize 1\n",
      "2024-11-27 17:38:45,885 : INFO : EPOCH 4: training on 41519360 raw words (30348749 effective words) took 11.1s, 2733327 effective words/s\n",
      "2024-11-27 17:38:45,886 : INFO : Word2Vec lifecycle event {'msg': 'training on 207596800 raw words (151752933 effective words) took 49.2s, 3086480 effective words/s', 'datetime': '2024-11-27T17:38:45.886236', 'gensim': '4.3.3', 'python': '3.12.7 | packaged by conda-forge | (main, Oct  4 2024, 15:57:01) [Clang 17.0.6 ]', 'platform': 'macOS-15.1-arm64-arm-64bit', 'event': 'train'}\n",
      "2024-11-27 17:38:45,886 : INFO : Word2Vec lifecycle event {'params': 'Word2Vec<vocab=70537, vector_size=100, alpha=0.025>', 'datetime': '2024-11-27T17:38:45.886580', 'gensim': '4.3.3', 'python': '3.12.7 | packaged by conda-forge | (main, Oct  4 2024, 15:57:01) [Clang 17.0.6 ]', 'platform': 'macOS-15.1-arm64-arm-64bit', 'event': 'created'}\n",
      "2024-11-27 17:38:45,886 : WARNING : Effective 'alpha' higher than previous training cycles\n",
      "2024-11-27 17:38:45,887 : INFO : Word2Vec lifecycle event {'msg': 'training model with 10 workers on 70537 vocabulary and 100 features, using sg=0 hs=0 sample=0.001 negative=5 window=10 shrink_windows=True', 'datetime': '2024-11-27T17:38:45.887145', 'gensim': '4.3.3', 'python': '3.12.7 | packaged by conda-forge | (main, Oct  4 2024, 15:57:01) [Clang 17.0.6 ]', 'platform': 'macOS-15.1-arm64-arm-64bit', 'event': 'train'}\n",
      "2024-11-27 17:38:46,890 : INFO : EPOCH 0 - PROGRESS: at 10.12% examples, 3223889 words/s, in_qsize 20, out_qsize 1\n",
      "2024-11-27 17:38:47,894 : INFO : EPOCH 0 - PROGRESS: at 18.99% examples, 3198887 words/s, in_qsize 20, out_qsize 0\n",
      "2024-11-27 17:38:48,896 : INFO : EPOCH 0 - PROGRESS: at 28.71% examples, 3189437 words/s, in_qsize 18, out_qsize 3\n",
      "2024-11-27 17:38:49,897 : INFO : EPOCH 0 - PROGRESS: at 40.00% examples, 3189884 words/s, in_qsize 18, out_qsize 1\n",
      "2024-11-27 17:38:50,899 : INFO : EPOCH 0 - PROGRESS: at 51.34% examples, 3190158 words/s, in_qsize 18, out_qsize 2\n",
      "2024-11-27 17:38:51,902 : INFO : EPOCH 0 - PROGRESS: at 62.31% examples, 3193304 words/s, in_qsize 19, out_qsize 0\n",
      "2024-11-27 17:38:52,909 : INFO : EPOCH 0 - PROGRESS: at 72.93% examples, 3177965 words/s, in_qsize 20, out_qsize 0\n",
      "2024-11-27 17:38:53,909 : INFO : EPOCH 0 - PROGRESS: at 83.54% examples, 3187459 words/s, in_qsize 19, out_qsize 0\n",
      "2024-11-27 17:38:54,910 : INFO : EPOCH 0 - PROGRESS: at 94.43% examples, 3185643 words/s, in_qsize 20, out_qsize 0\n",
      "2024-11-27 17:38:55,398 : INFO : EPOCH 0: training on 41519360 raw words (30349001 effective words) took 9.5s, 3191440 effective words/s\n",
      "2024-11-27 17:38:56,403 : INFO : EPOCH 1 - PROGRESS: at 10.14% examples, 3230823 words/s, in_qsize 19, out_qsize 0\n",
      "2024-11-27 17:38:57,405 : INFO : EPOCH 1 - PROGRESS: at 19.17% examples, 3235274 words/s, in_qsize 19, out_qsize 0\n",
      "2024-11-27 17:38:58,409 : INFO : EPOCH 1 - PROGRESS: at 29.09% examples, 3222151 words/s, in_qsize 19, out_qsize 0\n",
      "2024-11-27 17:38:59,416 : INFO : EPOCH 1 - PROGRESS: at 41.16% examples, 3263940 words/s, in_qsize 19, out_qsize 0\n",
      "2024-11-27 17:39:00,417 : INFO : EPOCH 1 - PROGRESS: at 52.23% examples, 3239449 words/s, in_qsize 18, out_qsize 1\n",
      "2024-11-27 17:39:01,420 : INFO : EPOCH 1 - PROGRESS: at 63.47% examples, 3241701 words/s, in_qsize 19, out_qsize 0\n",
      "2024-11-27 17:39:02,420 : INFO : EPOCH 1 - PROGRESS: at 75.10% examples, 3270609 words/s, in_qsize 18, out_qsize 0\n",
      "2024-11-27 17:39:03,420 : INFO : EPOCH 1 - PROGRESS: at 85.96% examples, 3281730 words/s, in_qsize 18, out_qsize 1\n",
      "2024-11-27 17:39:04,422 : INFO : EPOCH 1 - PROGRESS: at 97.38% examples, 3279495 words/s, in_qsize 20, out_qsize 1\n",
      "2024-11-27 17:39:04,643 : INFO : EPOCH 1: training on 41519360 raw words (30347564 effective words) took 9.2s, 3283554 effective words/s\n",
      "2024-11-27 17:39:05,646 : INFO : EPOCH 2 - PROGRESS: at 10.49% examples, 3352690 words/s, in_qsize 20, out_qsize 0\n",
      "2024-11-27 17:39:06,648 : INFO : EPOCH 2 - PROGRESS: at 20.00% examples, 3399025 words/s, in_qsize 19, out_qsize 0\n",
      "2024-11-27 17:39:07,649 : INFO : EPOCH 2 - PROGRESS: at 30.77% examples, 3385444 words/s, in_qsize 19, out_qsize 0\n",
      "2024-11-27 17:39:08,651 : INFO : EPOCH 2 - PROGRESS: at 42.53% examples, 3366271 words/s, in_qsize 20, out_qsize 0\n",
      "2024-11-27 17:39:09,654 : INFO : EPOCH 2 - PROGRESS: at 52.31% examples, 3250318 words/s, in_qsize 17, out_qsize 2\n",
      "2024-11-27 17:39:10,654 : INFO : EPOCH 2 - PROGRESS: at 62.03% examples, 3182393 words/s, in_qsize 20, out_qsize 2\n",
      "2024-11-27 17:39:11,656 : INFO : EPOCH 2 - PROGRESS: at 72.87% examples, 3180102 words/s, in_qsize 19, out_qsize 0\n",
      "2024-11-27 17:39:12,659 : INFO : EPOCH 2 - PROGRESS: at 83.64% examples, 3194238 words/s, in_qsize 20, out_qsize 1\n",
      "2024-11-27 17:39:13,660 : INFO : EPOCH 2 - PROGRESS: at 94.81% examples, 3200506 words/s, in_qsize 19, out_qsize 0\n",
      "2024-11-27 17:39:14,130 : INFO : EPOCH 2: training on 41519360 raw words (30348204 effective words) took 9.5s, 3199632 effective words/s\n",
      "2024-11-27 17:39:15,134 : INFO : EPOCH 3 - PROGRESS: at 10.55% examples, 3369641 words/s, in_qsize 20, out_qsize 0\n",
      "2024-11-27 17:39:16,134 : INFO : EPOCH 3 - PROGRESS: at 19.68% examples, 3338753 words/s, in_qsize 19, out_qsize 0\n",
      "2024-11-27 17:39:17,138 : INFO : EPOCH 3 - PROGRESS: at 29.75% examples, 3286598 words/s, in_qsize 18, out_qsize 1\n",
      "2024-11-27 17:39:18,139 : INFO : EPOCH 3 - PROGRESS: at 41.86% examples, 3313792 words/s, in_qsize 19, out_qsize 0\n",
      "2024-11-27 17:39:19,143 : INFO : EPOCH 3 - PROGRESS: at 53.28% examples, 3311964 words/s, in_qsize 18, out_qsize 1\n",
      "2024-11-27 17:39:20,146 : INFO : EPOCH 3 - PROGRESS: at 65.11% examples, 3317397 words/s, in_qsize 19, out_qsize 0\n",
      "2024-11-27 17:39:21,149 : INFO : EPOCH 3 - PROGRESS: at 75.91% examples, 3307586 words/s, in_qsize 19, out_qsize 0\n",
      "2024-11-27 17:39:22,150 : INFO : EPOCH 3 - PROGRESS: at 86.92% examples, 3315462 words/s, in_qsize 20, out_qsize 0\n",
      "2024-11-27 17:39:23,157 : INFO : EPOCH 3 - PROGRESS: at 98.76% examples, 3322970 words/s, in_qsize 18, out_qsize 1\n",
      "2024-11-27 17:39:23,260 : INFO : EPOCH 3: training on 41519360 raw words (30347945 effective words) took 9.1s, 3324500 effective words/s\n",
      "2024-11-27 17:39:24,266 : INFO : EPOCH 4 - PROGRESS: at 9.89% examples, 3134715 words/s, in_qsize 19, out_qsize 1\n",
      "2024-11-27 17:39:25,268 : INFO : EPOCH 4 - PROGRESS: at 19.19% examples, 3235975 words/s, in_qsize 19, out_qsize 0\n",
      "2024-11-27 17:39:26,269 : INFO : EPOCH 4 - PROGRESS: at 29.83% examples, 3293296 words/s, in_qsize 19, out_qsize 0\n",
      "2024-11-27 17:39:27,269 : INFO : EPOCH 4 - PROGRESS: at 41.83% examples, 3311681 words/s, in_qsize 18, out_qsize 1\n",
      "2024-11-27 17:39:28,274 : INFO : EPOCH 4 - PROGRESS: at 53.47% examples, 3322719 words/s, in_qsize 18, out_qsize 1\n",
      "2024-11-27 17:39:29,276 : INFO : EPOCH 4 - PROGRESS: at 64.13% examples, 3271786 words/s, in_qsize 16, out_qsize 3\n",
      "2024-11-27 17:39:30,281 : INFO : EPOCH 4 - PROGRESS: at 75.08% examples, 3269539 words/s, in_qsize 17, out_qsize 2\n",
      "2024-11-27 17:39:31,282 : INFO : EPOCH 4 - PROGRESS: at 85.77% examples, 3275247 words/s, in_qsize 20, out_qsize 0\n",
      "2024-11-27 17:39:32,286 : INFO : EPOCH 4 - PROGRESS: at 97.48% examples, 3282575 words/s, in_qsize 19, out_qsize 0\n",
      "2024-11-27 17:39:32,498 : INFO : EPOCH 4: training on 41519360 raw words (30346388 effective words) took 9.2s, 3285700 effective words/s\n",
      "2024-11-27 17:39:33,502 : INFO : EPOCH 5 - PROGRESS: at 10.03% examples, 3191480 words/s, in_qsize 17, out_qsize 2\n",
      "2024-11-27 17:39:34,502 : INFO : EPOCH 5 - PROGRESS: at 19.37% examples, 3281398 words/s, in_qsize 19, out_qsize 0\n",
      "2024-11-27 17:39:35,507 : INFO : EPOCH 5 - PROGRESS: at 30.09% examples, 3322144 words/s, in_qsize 19, out_qsize 1\n",
      "2024-11-27 17:39:36,510 : INFO : EPOCH 5 - PROGRESS: at 42.34% examples, 3348381 words/s, in_qsize 19, out_qsize 0\n",
      "2024-11-27 17:39:37,515 : INFO : EPOCH 5 - PROGRESS: at 53.60% examples, 3328238 words/s, in_qsize 19, out_qsize 0\n",
      "2024-11-27 17:39:38,519 : INFO : EPOCH 5 - PROGRESS: at 65.65% examples, 3344536 words/s, in_qsize 19, out_qsize 0\n",
      "2024-11-27 17:39:39,522 : INFO : EPOCH 5 - PROGRESS: at 77.05% examples, 3357939 words/s, in_qsize 19, out_qsize 0\n",
      "2024-11-27 17:39:40,523 : INFO : EPOCH 5 - PROGRESS: at 88.19% examples, 3357809 words/s, in_qsize 20, out_qsize 0\n",
      "2024-11-27 17:39:41,523 : INFO : EPOCH 5 - PROGRESS: at 99.39% examples, 3344776 words/s, in_qsize 19, out_qsize 0\n",
      "2024-11-27 17:39:41,567 : INFO : EPOCH 5: training on 41519360 raw words (30349483 effective words) took 9.1s, 3347276 effective words/s\n",
      "2024-11-27 17:39:42,573 : INFO : EPOCH 6 - PROGRESS: at 10.63% examples, 3384272 words/s, in_qsize 20, out_qsize 0\n",
      "2024-11-27 17:39:43,574 : INFO : EPOCH 6 - PROGRESS: at 20.08% examples, 3413213 words/s, in_qsize 19, out_qsize 0\n",
      "2024-11-27 17:39:44,575 : INFO : EPOCH 6 - PROGRESS: at 30.33% examples, 3346661 words/s, in_qsize 20, out_qsize 0\n",
      "2024-11-27 17:39:45,578 : INFO : EPOCH 6 - PROGRESS: at 41.53% examples, 3292086 words/s, in_qsize 20, out_qsize 0\n",
      "2024-11-27 17:39:46,580 : INFO : EPOCH 6 - PROGRESS: at 53.19% examples, 3306237 words/s, in_qsize 20, out_qsize 0\n",
      "2024-11-27 17:39:47,580 : INFO : EPOCH 6 - PROGRESS: at 65.19% examples, 3323489 words/s, in_qsize 19, out_qsize 0\n",
      "2024-11-27 17:39:48,581 : INFO : EPOCH 6 - PROGRESS: at 76.30% examples, 3329381 words/s, in_qsize 19, out_qsize 0\n",
      "2024-11-27 17:39:49,582 : INFO : EPOCH 6 - PROGRESS: at 87.30% examples, 3331041 words/s, in_qsize 20, out_qsize 0\n",
      "2024-11-27 17:39:50,587 : INFO : EPOCH 6 - PROGRESS: at 98.84% examples, 3327887 words/s, in_qsize 19, out_qsize 0\n",
      "2024-11-27 17:39:50,687 : INFO : EPOCH 6: training on 41519360 raw words (30347993 effective words) took 9.1s, 3328337 effective words/s\n",
      "2024-11-27 17:39:51,690 : INFO : EPOCH 7 - PROGRESS: at 10.28% examples, 3287239 words/s, in_qsize 19, out_qsize 0\n",
      "2024-11-27 17:39:52,694 : INFO : EPOCH 7 - PROGRESS: at 19.59% examples, 3316239 words/s, in_qsize 19, out_qsize 0\n",
      "2024-11-27 17:39:53,699 : INFO : EPOCH 7 - PROGRESS: at 30.17% examples, 3324872 words/s, in_qsize 19, out_qsize 0\n",
      "2024-11-27 17:39:54,701 : INFO : EPOCH 7 - PROGRESS: at 42.12% examples, 3329074 words/s, in_qsize 18, out_qsize 1\n",
      "2024-11-27 17:39:55,701 : INFO : EPOCH 7 - PROGRESS: at 53.47% examples, 3322627 words/s, in_qsize 18, out_qsize 1\n",
      "2024-11-27 17:39:56,702 : INFO : EPOCH 7 - PROGRESS: at 65.35% examples, 3331470 words/s, in_qsize 19, out_qsize 0\n",
      "2024-11-27 17:39:57,703 : INFO : EPOCH 7 - PROGRESS: at 76.17% examples, 3322743 words/s, in_qsize 18, out_qsize 1\n",
      "2024-11-27 17:39:58,703 : INFO : EPOCH 7 - PROGRESS: at 87.16% examples, 3325570 words/s, in_qsize 19, out_qsize 0\n",
      "2024-11-27 17:39:59,708 : INFO : EPOCH 7 - PROGRESS: at 99.07% examples, 3335288 words/s, in_qsize 20, out_qsize 1\n",
      "2024-11-27 17:39:59,781 : INFO : EPOCH 7: training on 41519360 raw words (30351509 effective words) took 9.1s, 3338148 effective words/s\n",
      "2024-11-27 17:40:00,784 : INFO : EPOCH 8 - PROGRESS: at 10.43% examples, 3331360 words/s, in_qsize 18, out_qsize 1\n",
      "2024-11-27 17:40:01,786 : INFO : EPOCH 8 - PROGRESS: at 19.55% examples, 3313153 words/s, in_qsize 20, out_qsize 0\n",
      "2024-11-27 17:40:02,787 : INFO : EPOCH 8 - PROGRESS: at 30.08% examples, 3325057 words/s, in_qsize 19, out_qsize 1\n",
      "2024-11-27 17:40:03,790 : INFO : EPOCH 8 - PROGRESS: at 42.12% examples, 3333893 words/s, in_qsize 19, out_qsize 0\n",
      "2024-11-27 17:40:04,792 : INFO : EPOCH 8 - PROGRESS: at 53.76% examples, 3341106 words/s, in_qsize 18, out_qsize 1\n",
      "2024-11-27 17:40:05,794 : INFO : EPOCH 8 - PROGRESS: at 65.37% examples, 3333516 words/s, in_qsize 19, out_qsize 0\n",
      "2024-11-27 17:40:06,797 : INFO : EPOCH 8 - PROGRESS: at 76.54% examples, 3339921 words/s, in_qsize 19, out_qsize 0\n",
      "2024-11-27 17:40:07,798 : INFO : EPOCH 8 - PROGRESS: at 87.83% examples, 3347758 words/s, in_qsize 19, out_qsize 0\n",
      "2024-11-27 17:40:08,798 : INFO : EPOCH 8 - PROGRESS: at 99.63% examples, 3354748 words/s, in_qsize 15, out_qsize 0\n",
      "2024-11-27 17:40:08,821 : INFO : EPOCH 8: training on 41519360 raw words (30347479 effective words) took 9.0s, 3357931 effective words/s\n",
      "2024-11-27 17:40:09,823 : INFO : EPOCH 9 - PROGRESS: at 10.36% examples, 3310514 words/s, in_qsize 19, out_qsize 0\n",
      "2024-11-27 17:40:10,827 : INFO : EPOCH 9 - PROGRESS: at 18.63% examples, 3129487 words/s, in_qsize 19, out_qsize 0\n",
      "2024-11-27 17:40:11,831 : INFO : EPOCH 9 - PROGRESS: at 28.84% examples, 3198690 words/s, in_qsize 20, out_qsize 0\n",
      "2024-11-27 17:40:12,835 : INFO : EPOCH 9 - PROGRESS: at 40.27% examples, 3206480 words/s, in_qsize 20, out_qsize 0\n",
      "2024-11-27 17:40:13,838 : INFO : EPOCH 9 - PROGRESS: at 51.76% examples, 3211618 words/s, in_qsize 20, out_qsize 0\n",
      "2024-11-27 17:40:14,840 : INFO : EPOCH 9 - PROGRESS: at 62.50% examples, 3199016 words/s, in_qsize 18, out_qsize 1\n",
      "2024-11-27 17:40:15,843 : INFO : EPOCH 9 - PROGRESS: at 73.88% examples, 3214937 words/s, in_qsize 18, out_qsize 1\n",
      "2024-11-27 17:40:16,843 : INFO : EPOCH 9 - PROGRESS: at 84.74% examples, 3236602 words/s, in_qsize 19, out_qsize 0\n",
      "2024-11-27 17:40:17,845 : INFO : EPOCH 9 - PROGRESS: at 96.09% examples, 3239400 words/s, in_qsize 20, out_qsize 2\n",
      "2024-11-27 17:40:18,206 : INFO : EPOCH 9: training on 41519360 raw words (30348682 effective words) took 9.4s, 3234431 effective words/s\n",
      "2024-11-27 17:40:18,206 : INFO : Word2Vec lifecycle event {'msg': 'training on 415193600 raw words (303484248 effective words) took 92.3s, 3287355 effective words/s', 'datetime': '2024-11-27T17:40:18.206719', 'gensim': '4.3.3', 'python': '3.12.7 | packaged by conda-forge | (main, Oct  4 2024, 15:57:01) [Clang 17.0.6 ]', 'platform': 'macOS-15.1-arm64-arm-64bit', 'event': 'train'}\n"
     ]
    },
    {
     "data": {
      "text/plain": [
       "(303484248, 415193600)"
      ]
     },
     "execution_count": 5,
     "metadata": {},
     "output_type": "execute_result"
    }
   ],
   "source": [
    "# 150 features vector, \n",
    "# window=10: maximum distance between the target words and context words to consider during training\n",
    "# workers = 10, 10 threads\n",
    "# min_count=2, Ignores words that appear fewer than 2 times in the corpus\n",
    "model = gensim.models.Word2Vec (documents, window=10, min_count=2, workers=10, vector_size=150)\n",
    "model.train(documents,total_examples=len(documents),epochs=10)"
   ]
  },
  {
   "cell_type": "markdown",
   "metadata": {},
   "source": [
    "## Now, let's look at some output \n",
    "This first example shows a simple case of looking up words similar to the word `dirty`. All we need to do here is to call the `most_similar` function and provide the word `dirty` as the positive example. This returns the top 10 similar words. "
   ]
  },
  {
   "cell_type": "code",
   "execution_count": 6,
   "metadata": {},
   "outputs": [
    {
     "data": {
      "text/plain": [
       "[('filthy', 0.899747908115387),\n",
       " ('stained', 0.8173495531082153),\n",
       " ('grubby', 0.8132308125495911),\n",
       " ('dusty', 0.8078852891921997),\n",
       " ('unclean', 0.7988189458847046),\n",
       " ('smelly', 0.7799620032310486),\n",
       " ('grimy', 0.772834300994873),\n",
       " ('gross', 0.7715904116630554),\n",
       " ('dingy', 0.7679505944252014),\n",
       " ('soiled', 0.754100501537323)]"
      ]
     },
     "execution_count": 6,
     "metadata": {},
     "output_type": "execute_result"
    }
   ],
   "source": [
    "\n",
    "w1 = \"dirty\"\n",
    "model.wv.most_similar (positive=w1)\n"
   ]
  },
  {
   "cell_type": "markdown",
   "metadata": {},
   "source": [
    "That looks pretty good, right? Let's look at a few more. Let's look at similarity for `polite`, `france` and `shocked`. "
   ]
  },
  {
   "cell_type": "code",
   "execution_count": 7,
   "metadata": {},
   "outputs": [
    {
     "data": {
      "text/plain": [
       "[('courteous', 0.9302603006362915),\n",
       " ('cordial', 0.8585420250892639),\n",
       " ('friendly', 0.85205078125),\n",
       " ('curteous', 0.8489306569099426),\n",
       " ('attentive', 0.8277871608734131),\n",
       " ('professional', 0.8228940367698669)]"
      ]
     },
     "execution_count": 7,
     "metadata": {},
     "output_type": "execute_result"
    }
   ],
   "source": [
    "# look up top 6 words similar to 'polite'\n",
    "w1 = [\"polite\"]\n",
    "model.wv.most_similar (positive=w1,topn=6)\n"
   ]
  },
  {
   "cell_type": "code",
   "execution_count": 53,
   "metadata": {},
   "outputs": [
    {
     "data": {
      "text/plain": [
       "[('canada', 0.6603403091430664),\n",
       " ('germany', 0.6510637998580933),\n",
       " ('spain', 0.6431018114089966),\n",
       " ('barcelona', 0.61174076795578),\n",
       " ('mexico', 0.6070996522903442),\n",
       " ('rome', 0.6065913438796997)]"
      ]
     },
     "execution_count": 53,
     "metadata": {},
     "output_type": "execute_result"
    }
   ],
   "source": [
    "# look up top 6 words similar to 'france'\n",
    "w1 = [\"france\"]\n",
    "model.wv.most_similar (positive=w1,topn=6)\n"
   ]
  },
  {
   "cell_type": "code",
   "execution_count": 8,
   "metadata": {},
   "outputs": [
    {
     "data": {
      "text/plain": [
       "[('horrified', 0.8324597477912903),\n",
       " ('amazed', 0.7985029816627502),\n",
       " ('appalled', 0.7876924872398376),\n",
       " ('astonished', 0.781569242477417),\n",
       " ('stunned', 0.7780076861381531),\n",
       " ('dismayed', 0.7765069007873535)]"
      ]
     },
     "execution_count": 8,
     "metadata": {},
     "output_type": "execute_result"
    }
   ],
   "source": [
    "# look up top 6 words similar to 'shocked'\n",
    "w1 = [\"shocked\"]\n",
    "model.wv.most_similar (positive=w1,topn=6)\n"
   ]
  },
  {
   "cell_type": "markdown",
   "metadata": {},
   "source": [
    "That's, nice. You can even specify several positive examples to get things that are related in the provided context and provide negative examples to say what should not be considered as related. In the example below we are asking for all items that *relate to bed* only:"
   ]
  },
  {
   "cell_type": "code",
   "execution_count": 55,
   "metadata": {},
   "outputs": [
    {
     "data": {
      "text/plain": [
       "[('duvet', 0.7086508274078369),\n",
       " ('blanket', 0.7016597390174866),\n",
       " ('mattress', 0.7002605199813843),\n",
       " ('quilt', 0.6868821978569031),\n",
       " ('matress', 0.6777950525283813),\n",
       " ('pillowcase', 0.6413239240646362),\n",
       " ('sheets', 0.6382123827934265),\n",
       " ('foam', 0.6322235465049744),\n",
       " ('pillows', 0.6320573687553406),\n",
       " ('comforter', 0.5972476601600647)]"
      ]
     },
     "execution_count": 55,
     "metadata": {},
     "output_type": "execute_result"
    }
   ],
   "source": [
    "# get everything related to stuff on the bed\n",
    "w1 = [\"bed\",'sheet','pillow']\n",
    "w2 = ['couch']\n",
    "model.wv.most_similar (positive=w1,negative=w2,topn=10)\n"
   ]
  },
  {
   "cell_type": "markdown",
   "metadata": {},
   "source": [
    "### Similarity between two words in the vocabulary"
   ]
  },
  {
   "cell_type": "markdown",
   "metadata": {},
   "source": [
    "You can even use the Word2Vec model to return the similarity between two words that are present in the vocabulary. "
   ]
  },
  {
   "cell_type": "code",
   "execution_count": 9,
   "metadata": {},
   "outputs": [
    {
     "data": {
      "text/plain": [
       "0.77996206"
      ]
     },
     "execution_count": 9,
     "metadata": {},
     "output_type": "execute_result"
    }
   ],
   "source": [
    "# similarity between two different words\n",
    "model.wv.similarity(w1=\"dirty\",w2=\"smelly\")"
   ]
  },
  {
   "cell_type": "code",
   "execution_count": 10,
   "metadata": {},
   "outputs": [
    {
     "data": {
      "text/plain": [
       "1.0"
      ]
     },
     "execution_count": 10,
     "metadata": {},
     "output_type": "execute_result"
    }
   ],
   "source": [
    "# similarity between two identical words\n",
    "model.wv.similarity(w1=\"dirty\",w2=\"dirty\")"
   ]
  },
  {
   "cell_type": "code",
   "execution_count": 59,
   "metadata": {},
   "outputs": [
    {
     "data": {
      "text/plain": [
       "0.25355593501920781"
      ]
     },
     "execution_count": 59,
     "metadata": {},
     "output_type": "execute_result"
    }
   ],
   "source": [
    "# similarity between two unrelated words\n",
    "model.wv.similarity(w1=\"dirty\",w2=\"clean\")"
   ]
  },
  {
   "cell_type": "markdown",
   "metadata": {},
   "source": [
    "Under the hood, the above three snippets computes the cosine similarity between the two specified words using word vectors of each. From the scores, it makes sense that `dirty` is highly similar to `smelly` but `dirty` is dissimilar to `clean`. If you do a similarity between two identical words, the score will be 1.0 as the range of the cosine similarity score will always be between [0.0-1.0]. You can read more about cosine similarity scoring [here](https://en.wikipedia.org/wiki/Cosine_similarity)."
   ]
  },
  {
   "cell_type": "markdown",
   "metadata": {},
   "source": [
    "### Find the odd one out\n",
    "You can even use Word2Vec to find odd items given a list of items."
   ]
  },
  {
   "cell_type": "code",
   "execution_count": 11,
   "metadata": {},
   "outputs": [
    {
     "data": {
      "text/plain": [
       "'france'"
      ]
     },
     "execution_count": 11,
     "metadata": {},
     "output_type": "execute_result"
    }
   ],
   "source": [
    "# Which one is the odd one out in this list?\n",
    "model.wv.doesnt_match([\"cat\",\"dog\",\"france\"])"
   ]
  },
  {
   "cell_type": "code",
   "execution_count": 12,
   "metadata": {},
   "outputs": [
    {
     "data": {
      "text/plain": [
       "'shower'"
      ]
     },
     "execution_count": 12,
     "metadata": {},
     "output_type": "execute_result"
    }
   ],
   "source": [
    "# Which one is the odd one out in this list?\n",
    "model.wv.doesnt_match([\"bed\",\"pillow\",\"duvet\",\"shower\"])\n"
   ]
  },
  {
   "cell_type": "markdown",
   "metadata": {},
   "source": [
    "## Understanding some of the parameters\n",
    "To train the model earlier, we had to set some parameters. Now, let's try to understand what some of them mean. For reference, this is the command that we used to train the model.\n",
    "\n",
    "```\n",
    "model = gensim.models.Word2Vec (documents, size=150, window=10, min_count=2, workers=10)\n",
    "```\n",
    "\n",
    "### `vector_size`\n",
    "The size of the dense vector to represent each token or word. If you have very limited data, then size should be a much smaller value. If you have lots of data, its good to experiment with various sizes. A value of 100-150 has worked well for me. \n",
    "\n",
    "### `window`\n",
    "The maximum distance between the target word and its neighboring word. If your neighbor's position is greater than the maximum window width to the left and the right, then, some neighbors are not considered as being related to the target word. In theory, a smaller window should give you terms that are more related. If you have lots of data, then the window size should not matter too much, as long as its a decent sized window. \n",
    "\n",
    "### `min_count`\n",
    "Minimium frequency count of words. The model would ignore words that do not statisfy the `min_count`. Extremely infrequent words are usually unimportant, so its best to get rid of those. Unless your dataset is really tiny, this does not really affect the model.\n",
    "\n",
    "### `workers`\n",
    "How many threads to use behind the scenes?\n"
   ]
  },
  {
   "cell_type": "markdown",
   "metadata": {},
   "source": [
    "## When should you use Word2Vec?\n",
    "\n",
    "There are many application scenarios for Word2Vec. Imagine if you need to build a sentiment lexicon. Training a Word2Vec model on large amounts of user reviews helps you achieve that. You have a lexicon for not just sentiment, but for most words in the vocabulary. \n",
    "\n",
    "Beyond, raw unstructured text data, you could also use Word2Vec for more structured data. For example, if you had tags for a million stackoverflow questions and answers, you could find tags that are related to a given tag and recommend the related ones for exploration. You can do this by treating each set of co-occuring tags as a \"sentence\" and train a Word2Vec model on this data. Granted, you still need a large number of examples to make it work. \n"
   ]
  }
 ],
 "metadata": {
  "kernelspec": {
   "display_name": "Python 3",
   "language": "python",
   "name": "python3"
  },
  "language_info": {
   "codemirror_mode": {
    "name": "ipython",
    "version": 3
   },
   "file_extension": ".py",
   "mimetype": "text/x-python",
   "name": "python",
   "nbconvert_exporter": "python",
   "pygments_lexer": "ipython3",
   "version": "3.12.7"
  }
 },
 "nbformat": 4,
 "nbformat_minor": 2
}
