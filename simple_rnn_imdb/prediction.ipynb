{
 "cells": [
  {
   "cell_type": "code",
   "execution_count": 1,
   "metadata": {},
   "outputs": [],
   "source": [
    "# Step 1: Import Libraries and Load the Model\n",
    "import numpy as np\n",
    "import tensorflow as tf\n",
    "from tensorflow.keras.datasets import imdb\n",
    "from tensorflow.keras.preprocessing import sequence\n",
    "from tensorflow.keras.models import load_model"
   ]
  },
  {
   "cell_type": "code",
   "execution_count": 2,
   "metadata": {},
   "outputs": [],
   "source": [
    "\n",
    "# Load the IMDB dataset word index\n",
    "word_index = imdb.get_word_index()\n",
    "reverse_word_index = {value: key for key, value in word_index.items()}"
   ]
  },
  {
   "cell_type": "code",
   "execution_count": 3,
   "metadata": {},
   "outputs": [
    {
     "name": "stderr",
     "output_type": "stream",
     "text": [
      "WARNING:absl:Compiled the loaded model, but the compiled metrics have yet to be built. `model.compile_metrics` will be empty until you train or evaluate the model.\n"
     ]
    },
    {
     "data": {
      "text/html": [
       "<pre style=\"white-space:pre;overflow-x:auto;line-height:normal;font-family:Menlo,'DejaVu Sans Mono',consolas,'Courier New',monospace\"><span style=\"font-weight: bold\">Model: \"sequential_14\"</span>\n",
       "</pre>\n"
      ],
      "text/plain": [
       "\u001b[1mModel: \"sequential_14\"\u001b[0m\n"
      ]
     },
     "metadata": {},
     "output_type": "display_data"
    },
    {
     "data": {
      "text/html": [
       "<pre style=\"white-space:pre;overflow-x:auto;line-height:normal;font-family:Menlo,'DejaVu Sans Mono',consolas,'Courier New',monospace\">┏━━━━━━━━━━━━━━━━━━━━━━━━━━━━━━━━━┳━━━━━━━━━━━━━━━━━━━━━━━━┳━━━━━━━━━━━━━━━┓\n",
       "┃<span style=\"font-weight: bold\"> Layer (type)                    </span>┃<span style=\"font-weight: bold\"> Output Shape           </span>┃<span style=\"font-weight: bold\">       Param # </span>┃\n",
       "┡━━━━━━━━━━━━━━━━━━━━━━━━━━━━━━━━━╇━━━━━━━━━━━━━━━━━━━━━━━━╇━━━━━━━━━━━━━━━┩\n",
       "│ embedding_14 (<span style=\"color: #0087ff; text-decoration-color: #0087ff\">Embedding</span>)        │ (<span style=\"color: #00d7ff; text-decoration-color: #00d7ff\">None</span>, <span style=\"color: #00af00; text-decoration-color: #00af00\">500</span>, <span style=\"color: #00af00; text-decoration-color: #00af00\">128</span>)       │     <span style=\"color: #00af00; text-decoration-color: #00af00\">1,280,000</span> │\n",
       "├─────────────────────────────────┼────────────────────────┼───────────────┤\n",
       "│ simple_rnn_14 (<span style=\"color: #0087ff; text-decoration-color: #0087ff\">SimpleRNN</span>)       │ (<span style=\"color: #00d7ff; text-decoration-color: #00d7ff\">None</span>, <span style=\"color: #00af00; text-decoration-color: #00af00\">128</span>)            │        <span style=\"color: #00af00; text-decoration-color: #00af00\">32,896</span> │\n",
       "├─────────────────────────────────┼────────────────────────┼───────────────┤\n",
       "│ dense_14 (<span style=\"color: #0087ff; text-decoration-color: #0087ff\">Dense</span>)                │ (<span style=\"color: #00d7ff; text-decoration-color: #00d7ff\">None</span>, <span style=\"color: #00af00; text-decoration-color: #00af00\">1</span>)              │           <span style=\"color: #00af00; text-decoration-color: #00af00\">129</span> │\n",
       "└─────────────────────────────────┴────────────────────────┴───────────────┘\n",
       "</pre>\n"
      ],
      "text/plain": [
       "┏━━━━━━━━━━━━━━━━━━━━━━━━━━━━━━━━━┳━━━━━━━━━━━━━━━━━━━━━━━━┳━━━━━━━━━━━━━━━┓\n",
       "┃\u001b[1m \u001b[0m\u001b[1mLayer (type)                   \u001b[0m\u001b[1m \u001b[0m┃\u001b[1m \u001b[0m\u001b[1mOutput Shape          \u001b[0m\u001b[1m \u001b[0m┃\u001b[1m \u001b[0m\u001b[1m      Param #\u001b[0m\u001b[1m \u001b[0m┃\n",
       "┡━━━━━━━━━━━━━━━━━━━━━━━━━━━━━━━━━╇━━━━━━━━━━━━━━━━━━━━━━━━╇━━━━━━━━━━━━━━━┩\n",
       "│ embedding_14 (\u001b[38;5;33mEmbedding\u001b[0m)        │ (\u001b[38;5;45mNone\u001b[0m, \u001b[38;5;34m500\u001b[0m, \u001b[38;5;34m128\u001b[0m)       │     \u001b[38;5;34m1,280,000\u001b[0m │\n",
       "├─────────────────────────────────┼────────────────────────┼───────────────┤\n",
       "│ simple_rnn_14 (\u001b[38;5;33mSimpleRNN\u001b[0m)       │ (\u001b[38;5;45mNone\u001b[0m, \u001b[38;5;34m128\u001b[0m)            │        \u001b[38;5;34m32,896\u001b[0m │\n",
       "├─────────────────────────────────┼────────────────────────┼───────────────┤\n",
       "│ dense_14 (\u001b[38;5;33mDense\u001b[0m)                │ (\u001b[38;5;45mNone\u001b[0m, \u001b[38;5;34m1\u001b[0m)              │           \u001b[38;5;34m129\u001b[0m │\n",
       "└─────────────────────────────────┴────────────────────────┴───────────────┘\n"
      ]
     },
     "metadata": {},
     "output_type": "display_data"
    },
    {
     "data": {
      "text/html": [
       "<pre style=\"white-space:pre;overflow-x:auto;line-height:normal;font-family:Menlo,'DejaVu Sans Mono',consolas,'Courier New',monospace\"><span style=\"font-weight: bold\"> Total params: </span><span style=\"color: #00af00; text-decoration-color: #00af00\">1,313,027</span> (5.01 MB)\n",
       "</pre>\n"
      ],
      "text/plain": [
       "\u001b[1m Total params: \u001b[0m\u001b[38;5;34m1,313,027\u001b[0m (5.01 MB)\n"
      ]
     },
     "metadata": {},
     "output_type": "display_data"
    },
    {
     "data": {
      "text/html": [
       "<pre style=\"white-space:pre;overflow-x:auto;line-height:normal;font-family:Menlo,'DejaVu Sans Mono',consolas,'Courier New',monospace\"><span style=\"font-weight: bold\"> Trainable params: </span><span style=\"color: #00af00; text-decoration-color: #00af00\">1,313,025</span> (5.01 MB)\n",
       "</pre>\n"
      ],
      "text/plain": [
       "\u001b[1m Trainable params: \u001b[0m\u001b[38;5;34m1,313,025\u001b[0m (5.01 MB)\n"
      ]
     },
     "metadata": {},
     "output_type": "display_data"
    },
    {
     "data": {
      "text/html": [
       "<pre style=\"white-space:pre;overflow-x:auto;line-height:normal;font-family:Menlo,'DejaVu Sans Mono',consolas,'Courier New',monospace\"><span style=\"font-weight: bold\"> Non-trainable params: </span><span style=\"color: #00af00; text-decoration-color: #00af00\">0</span> (0.00 B)\n",
       "</pre>\n"
      ],
      "text/plain": [
       "\u001b[1m Non-trainable params: \u001b[0m\u001b[38;5;34m0\u001b[0m (0.00 B)\n"
      ]
     },
     "metadata": {},
     "output_type": "display_data"
    },
    {
     "data": {
      "text/html": [
       "<pre style=\"white-space:pre;overflow-x:auto;line-height:normal;font-family:Menlo,'DejaVu Sans Mono',consolas,'Courier New',monospace\"><span style=\"font-weight: bold\"> Optimizer params: </span><span style=\"color: #00af00; text-decoration-color: #00af00\">2</span> (12.00 B)\n",
       "</pre>\n"
      ],
      "text/plain": [
       "\u001b[1m Optimizer params: \u001b[0m\u001b[38;5;34m2\u001b[0m (12.00 B)\n"
      ]
     },
     "metadata": {},
     "output_type": "display_data"
    }
   ],
   "source": [
    "# Load the pre-trained model with ReLU activation\n",
    "model = load_model('simple_rnn_imdb.h5')\n",
    "model.summary()"
   ]
  },
  {
   "cell_type": "code",
   "execution_count": 4,
   "metadata": {},
   "outputs": [
    {
     "data": {
      "text/plain": [
       "[array([[ 1.03316307e+00, -3.10234278e-01,  4.29531604e-01, ...,\n",
       "         -3.08296829e-01, -3.13371599e-01, -1.40710190e-01],\n",
       "        [ 1.85571518e-02,  2.73981933e-02,  3.08836307e-02, ...,\n",
       "          3.95635888e-02,  8.85871518e-03, -7.15899765e-02],\n",
       "        [ 8.00950173e-03,  5.41627873e-03,  8.39312561e-03, ...,\n",
       "         -1.77522041e-02,  6.30834997e-02, -3.12414090e-03],\n",
       "        ...,\n",
       "        [ 3.89736556e-02, -5.67428283e-02,  2.88945506e-03, ...,\n",
       "         -9.41686856e-04, -1.51754096e-01,  3.91737074e-02],\n",
       "        [-1.01976834e-01, -2.18943655e-02, -5.56719229e-02, ...,\n",
       "          1.18146986e-01,  7.99636394e-02, -5.01983240e-02],\n",
       "        [ 4.09688056e-02, -1.15532331e-01,  1.39636263e-01, ...,\n",
       "         -1.06901415e-01, -9.53789428e-02, -2.07976875e-04]], dtype=float32),\n",
       " array([[ 0.10704306,  0.02585173, -0.08063602, ..., -0.06372414,\n",
       "         -0.06334812, -0.03938407],\n",
       "        [-0.07613647,  0.17322122, -0.02406035, ..., -0.11684337,\n",
       "          0.08109251, -0.08215267],\n",
       "        [ 0.03188555, -0.15186898,  0.12489604, ...,  0.17082952,\n",
       "         -0.14467107,  0.1563966 ],\n",
       "        ...,\n",
       "        [ 0.00076789, -0.02013141,  0.02726752, ..., -0.03743204,\n",
       "         -0.07082818, -0.00100766],\n",
       "        [ 0.14874116, -0.03863557,  0.06100276, ...,  0.01474162,\n",
       "         -0.07683545,  0.09048764],\n",
       "        [-0.12838054, -0.05039252, -0.04752187, ..., -0.09995542,\n",
       "         -0.04400381, -0.1298188 ]], dtype=float32),\n",
       " array([[-0.0768426 , -0.24706906, -0.11947592, ...,  0.08222961,\n",
       "         -0.06924804,  0.02432855],\n",
       "        [ 0.0847565 ,  0.3565702 , -0.04459874, ..., -0.01778734,\n",
       "         -0.27254257, -0.08004492],\n",
       "        [-0.1813241 ,  0.46168748, -0.11989957, ..., -0.13093983,\n",
       "          0.00203626, -0.13857767],\n",
       "        ...,\n",
       "        [-0.04968235, -0.03553336, -0.07326078, ...,  0.04902012,\n",
       "         -0.0699423 ,  0.03880481],\n",
       "        [-0.03983243,  0.1607492 ,  0.06566951, ..., -0.04255217,\n",
       "         -0.11102462, -0.01931529],\n",
       "        [ 0.08199657, -0.09669508, -0.18681677, ..., -0.13053925,\n",
       "         -0.18749733, -0.00857378]], dtype=float32),\n",
       " array([-0.01628025,  0.01108575, -0.00283555,  0.00324733, -0.00652627,\n",
       "        -0.01436678, -0.00212133, -0.02960772, -0.00183806, -0.00960553,\n",
       "         0.03672562, -0.02580424,  0.02480802, -0.03117224, -0.01108884,\n",
       "        -0.04001342,  0.01541251, -0.03323924, -0.02147495,  0.01254248,\n",
       "        -0.02164912, -0.02015385, -0.03612502, -0.00100429, -0.00628738,\n",
       "        -0.03037575,  0.0004655 , -0.02163175, -0.03196685,  0.01837085,\n",
       "         0.00240116, -0.01147259, -0.03756362, -0.04066828, -0.01248634,\n",
       "        -0.03170104, -0.00524057, -0.02383166,  0.00482849, -0.04473637,\n",
       "        -0.04029397,  0.00954023, -0.03343109, -0.02945987, -0.00473802,\n",
       "        -0.00966846, -0.00846843, -0.00326178, -0.05471538, -0.03635358,\n",
       "        -0.04795584, -0.01445529,  0.00318717,  0.00246217, -0.04334241,\n",
       "        -0.02109123, -0.02028351, -0.02066451, -0.00659055, -0.03879812,\n",
       "         0.02189723, -0.02561307, -0.00572225, -0.02916676, -0.0032754 ,\n",
       "        -0.0443968 , -0.01822238, -0.00417504, -0.03406988, -0.02396925,\n",
       "        -0.01247574, -0.01947123, -0.05268486, -0.03464721,  0.01075769,\n",
       "        -0.00605905, -0.02999612,  0.01804383, -0.02668048, -0.04744532,\n",
       "        -0.03378338, -0.04797212,  0.01720784, -0.02282126, -0.04971267,\n",
       "        -0.00377353, -0.0534262 ,  0.00690182, -0.01181439, -0.02597065,\n",
       "        -0.00310301, -0.02770364, -0.0158886 , -0.00822659, -0.03526999,\n",
       "        -0.04919998, -0.06307542,  0.00661695, -0.0216643 , -0.00023185,\n",
       "        -0.05710642, -0.00991276,  0.02009427, -0.00359404, -0.00939218,\n",
       "         0.04285894, -0.00829006, -0.03370874, -0.01399925, -0.02751216,\n",
       "         0.01460861,  0.01080588,  0.00021312, -0.03183689, -0.01065751,\n",
       "        -0.01100777, -0.0363954 ,  0.01771266, -0.00225884, -0.0197388 ,\n",
       "        -0.0063932 , -0.04132668,  0.01402798, -0.03474633, -0.03882405,\n",
       "        -0.00116795, -0.00018047, -0.01227694], dtype=float32),\n",
       " array([[ 1.78088978e-01],\n",
       "        [-3.83978963e-01],\n",
       "        [-2.44100839e-01],\n",
       "        [ 1.03596020e+00],\n",
       "        [ 1.99260190e-01],\n",
       "        [ 1.67661980e-02],\n",
       "        [-2.48843115e-02],\n",
       "        [ 5.83308399e-01],\n",
       "        [ 3.15370224e-02],\n",
       "        [ 2.37327814e-01],\n",
       "        [ 2.30385497e-01],\n",
       "        [ 1.65338004e+00],\n",
       "        [ 1.46484271e-01],\n",
       "        [ 3.79429936e-01],\n",
       "        [ 3.28438133e-01],\n",
       "        [-1.25861252e-02],\n",
       "        [-2.11737808e-02],\n",
       "        [ 1.88275635e-01],\n",
       "        [-6.41430199e-01],\n",
       "        [-8.73869210e-02],\n",
       "        [ 8.26159492e-02],\n",
       "        [-1.53500214e-01],\n",
       "        [-2.40279585e-02],\n",
       "        [-7.52506703e-02],\n",
       "        [-5.12853041e-02],\n",
       "        [-5.93537509e-01],\n",
       "        [-8.05816576e-02],\n",
       "        [ 4.43002582e-02],\n",
       "        [-9.16667096e-03],\n",
       "        [ 4.75886390e-02],\n",
       "        [ 5.64450145e-01],\n",
       "        [-1.89047046e-02],\n",
       "        [-9.21716690e-02],\n",
       "        [ 2.13163495e-01],\n",
       "        [-1.73360002e+00],\n",
       "        [-1.40206330e-02],\n",
       "        [ 7.43065000e-01],\n",
       "        [-3.52194846e-01],\n",
       "        [ 2.99932420e-01],\n",
       "        [-1.13238417e-01],\n",
       "        [ 1.06488180e-03],\n",
       "        [ 5.51332906e-02],\n",
       "        [-1.04546010e+00],\n",
       "        [ 3.08748204e-02],\n",
       "        [-1.58297017e-01],\n",
       "        [ 2.09254012e-01],\n",
       "        [ 1.18807591e-01],\n",
       "        [ 3.96985412e-01],\n",
       "        [-6.68399572e-01],\n",
       "        [ 3.78415167e-01],\n",
       "        [-2.51558125e-01],\n",
       "        [ 1.09279089e-01],\n",
       "        [ 1.18544847e-01],\n",
       "        [-1.80718943e-01],\n",
       "        [-4.07502472e-01],\n",
       "        [ 1.04849443e-01],\n",
       "        [-7.26140067e-02],\n",
       "        [ 4.10217158e-02],\n",
       "        [ 2.13592649e-01],\n",
       "        [-1.66146368e-01],\n",
       "        [-1.69085845e-01],\n",
       "        [ 4.38694656e-01],\n",
       "        [-1.54322550e-01],\n",
       "        [ 3.95224303e-01],\n",
       "        [ 2.11622879e-01],\n",
       "        [ 3.14938873e-01],\n",
       "        [ 1.98917538e-01],\n",
       "        [-1.44623825e-02],\n",
       "        [ 2.11792856e-01],\n",
       "        [-8.01997900e-01],\n",
       "        [-4.21130247e-02],\n",
       "        [-1.08040133e-02],\n",
       "        [-1.31827861e-01],\n",
       "        [ 5.79150617e-01],\n",
       "        [ 1.10931255e-01],\n",
       "        [ 8.41998383e-02],\n",
       "        [-2.98342675e-01],\n",
       "        [-1.15987182e-01],\n",
       "        [ 1.39835462e-01],\n",
       "        [-1.75304070e-01],\n",
       "        [-1.29227772e-01],\n",
       "        [ 3.01192075e-01],\n",
       "        [ 2.67348975e-01],\n",
       "        [ 1.15274325e-01],\n",
       "        [ 2.24963605e-01],\n",
       "        [-1.14966044e-02],\n",
       "        [-3.59237820e-01],\n",
       "        [-4.84692723e-01],\n",
       "        [ 1.34484753e-01],\n",
       "        [-1.19957134e-01],\n",
       "        [-7.60115236e-02],\n",
       "        [-4.45706062e-02],\n",
       "        [-2.51513630e-01],\n",
       "        [-7.06005618e-02],\n",
       "        [-1.56590119e-01],\n",
       "        [ 3.07939528e-03],\n",
       "        [-1.67242512e-01],\n",
       "        [ 3.27609293e-02],\n",
       "        [-6.41118921e-03],\n",
       "        [-8.98108065e-01],\n",
       "        [-4.43205208e-01],\n",
       "        [ 1.67119935e-01],\n",
       "        [ 2.44209781e-01],\n",
       "        [ 2.00864241e-01],\n",
       "        [ 8.36880356e-02],\n",
       "        [ 5.04979134e-01],\n",
       "        [ 2.12713748e-01],\n",
       "        [ 6.19211316e-01],\n",
       "        [ 2.88085546e-02],\n",
       "        [ 1.75687149e-01],\n",
       "        [ 4.11557585e-01],\n",
       "        [ 1.64009348e-01],\n",
       "        [-7.20913261e-02],\n",
       "        [-6.52930140e-01],\n",
       "        [-2.46197119e-01],\n",
       "        [ 1.06526259e-02],\n",
       "        [-2.44045064e-01],\n",
       "        [ 3.83060090e-02],\n",
       "        [-6.05330877e-02],\n",
       "        [ 7.27847815e-02],\n",
       "        [-1.50657833e-01],\n",
       "        [-7.71782734e-03],\n",
       "        [ 2.33238384e-01],\n",
       "        [ 1.58082873e-01],\n",
       "        [-1.86101124e-01],\n",
       "        [ 1.90268084e-01],\n",
       "        [-4.50246222e-02],\n",
       "        [ 1.04986854e-01]], dtype=float32),\n",
       " array([0.7800462], dtype=float32)]"
      ]
     },
     "execution_count": 4,
     "metadata": {},
     "output_type": "execute_result"
    }
   ],
   "source": [
    "model.get_weights()"
   ]
  },
  {
   "cell_type": "code",
   "execution_count": 5,
   "metadata": {},
   "outputs": [],
   "source": [
    "# Step 2: Helper Functions\n",
    "# Function to decode reviews\n",
    "def decode_review(encoded_review):\n",
    "    return ' '.join([reverse_word_index.get(i - 3, '?') for i in encoded_review])\n",
    "\n",
    "# Function to preprocess user input\n",
    "def preprocess_text(text):\n",
    "    words = text.lower().split()\n",
    "    encoded_review = [word_index.get(word, 2) + 3 for word in words]\n",
    "    padded_review = sequence.pad_sequences([encoded_review], maxlen=500)\n",
    "    return padded_review"
   ]
  },
  {
   "cell_type": "code",
   "execution_count": 6,
   "metadata": {},
   "outputs": [],
   "source": [
    "### Prediction  function\n",
    "\n",
    "def predict_sentiment(review):\n",
    "    preprocessed_input=preprocess_text(review)\n",
    "\n",
    "    prediction=model.predict(preprocessed_input)\n",
    "\n",
    "    sentiment = 'Positive' if prediction[0][0] > 0.5 else 'Negative'\n",
    "    \n",
    "    return sentiment, prediction[0][0]\n",
    "\n"
   ]
  },
  {
   "cell_type": "code",
   "execution_count": 8,
   "metadata": {},
   "outputs": [
    {
     "name": "stdout",
     "output_type": "stream",
     "text": [
      "\u001b[1m1/1\u001b[0m \u001b[32m━━━━━━━━━━━━━━━━━━━━\u001b[0m\u001b[37m\u001b[0m \u001b[1m0s\u001b[0m 30ms/step\n",
      "Review: This movie is bad! The actor was boring and the plot was dull.\n",
      "Sentiment: Negative\n",
      "Prediction Score: 0.29953065514564514\n"
     ]
    }
   ],
   "source": [
    "# Step 4: User Input and Prediction\n",
    "# Example review for prediction\n",
    "example_review = \"This movie is bad! The actor was boring and the plot was dull.\"\n",
    "\n",
    "sentiment,score=predict_sentiment(example_review)\n",
    "\n",
    "print(f'Review: {example_review}')\n",
    "print(f'Sentiment: {sentiment}')\n",
    "print(f'Prediction Score: {score}')"
   ]
  }
 ],
 "metadata": {
  "kernelspec": {
   "display_name": "Python 3",
   "language": "python",
   "name": "python3"
  },
  "language_info": {
   "codemirror_mode": {
    "name": "ipython",
    "version": 3
   },
   "file_extension": ".py",
   "mimetype": "text/x-python",
   "name": "python",
   "nbconvert_exporter": "python",
   "pygments_lexer": "ipython3",
   "version": "3.12.8"
  }
 },
 "nbformat": 4,
 "nbformat_minor": 2
}
