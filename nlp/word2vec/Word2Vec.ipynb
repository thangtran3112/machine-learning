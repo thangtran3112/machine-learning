{
 "cells": [
  {
   "cell_type": "markdown",
   "metadata": {},
   "source": [
    "# Getting started with Word2Vec in Gensim and making it work!\n",
    "\n",
    "The idea behind Word2Vec is pretty simple. We are making and assumption that you can tell the meaning of a word by the company it keeps. This is analogous to the saying *show me your friends, and I'll tell who you are*. So if you have two words that have very similar neighbors (i.e. the usage context is about the same), then these words are probably quite similar in meaning or are at least highly related. For example, the words `shocked`,`appalled` and `astonished` are typically used in a similar context. \n",
    "\n",
    "In this tutorial, you will learn how to use the Gensim implementation of Word2Vec and actually get it to work! I have heard a lot of complaints about poor performance etc, but its really a combination of two things, (1) your input data and (2) your parameter settings. Note that the training algorithms in this package were ported from the [original Word2Vec implementation by Google](https://arxiv.org/pdf/1301.3781.pdf) and extended with additional functionality."
   ]
  },
  {
   "cell_type": "markdown",
   "metadata": {},
   "source": [
    "### Imports and logging\n",
    "\n",
    "First, we start with our imports and get logging established:"
   ]
  },
  {
   "cell_type": "code",
   "execution_count": 3,
   "metadata": {},
   "outputs": [],
   "source": [
    "# imports needed and set up logging\n",
    "import gzip\n",
    "import gensim \n",
    "import logging\n",
    "\n",
    "logging.basicConfig(format='%(asctime)s : %(levelname)s : %(message)s', level=logging.INFO)\n"
   ]
  },
  {
   "cell_type": "markdown",
   "metadata": {},
   "source": [
    "### Dataset \n",
    "Next, is our dataset. The secret to getting Word2Vec really working for you is to have lots and lots of text data. In this case I am going to use data from the [OpinRank](http://kavita-ganesan.com/entity-ranking-data/) dataset. This dataset has full user reviews of cars and hotels. I have specifically concatenated all of the hotel reviews into one big file which is about 97MB compressed and 229MB uncompressed. We will use the compressed file for this tutorial. Each line in this file represents a hotel review. You can download the OpinRank Word2Vec dataset here.\n",
    "\n",
    "To avoid confusion, while gensim’s word2vec tutorial says that you need to pass it a sequence of sentences as its input, you can always pass it a whole review as a sentence (i.e. a much larger size of text), and it should not make much of a difference. \n",
    "\n",
    "Now, let's take a closer look at this data below by printing the first line. You can see that this is a pretty hefty review."
   ]
  },
  {
   "cell_type": "code",
   "execution_count": 4,
   "metadata": {},
   "outputs": [
    {
     "name": "stdout",
     "output_type": "stream",
     "text": [
      "b\"Oct 12 2009 \\tNice trendy hotel location not too bad.\\tI stayed in this hotel for one night. As this is a fairly new place some of the taxi drivers did not know where it was and/or did not want to drive there. Once I have eventually arrived at the hotel, I was very pleasantly surprised with the decor of the lobby/ground floor area. It was very stylish and modern. I found the reception's staff geeting me with 'Aloha' a bit out of place, but I guess they are briefed to say that to keep up the coroporate image.As I have a Starwood Preferred Guest member, I was given a small gift upon-check in. It was only a couple of fridge magnets in a gift box, but nevertheless a nice gesture.My room was nice and roomy, there are tea and coffee facilities in each room and you get two complimentary bottles of water plus some toiletries by 'bliss'.The location is not great. It is at the last metro stop and you then need to take a taxi, but if you are not planning on going to see the historic sites in Beijing, then you will be ok.I chose to have some breakfast in the hotel, which was really tasty and there was a good selection of dishes. There are a couple of computers to use in the communal area, as well as a pool table. There is also a small swimming pool and a gym area.I would definitely stay in this hotel again, but only if I did not plan to travel to central Beijing, as it can take a long time. The location is ok if you plan to do a lot of shopping, as there is a big shopping centre just few minutes away from the hotel and there are plenty of eating options around, including restaurants that serve a dog meat!\\t\\r\\n\"\n"
     ]
    }
   ],
   "source": [
    "data_file=\"reviews_data.txt.gz\"\n",
    "\n",
    "with gzip.open ('reviews_data.txt.gz', 'rb') as f:\n",
    "    for i,line in enumerate (f):\n",
    "        print(line)\n",
    "        break\n"
   ]
  },
  {
   "cell_type": "markdown",
   "metadata": {},
   "source": [
    "### Read files into a list\n",
    "Now that we've had a sneak peak of our dataset, we can read it into a list so that we can pass this on to the Word2Vec model. Notice in the code below, that I am directly reading the \n",
    "compressed file. I'm also doing a mild pre-processing of the reviews using `gensim.utils.simple_preprocess (line)`. This does some basic pre-processing such as tokenization, lowercasing, etc and returns back a list of tokens (words). Documentation of this pre-processing method can be found on the official [Gensim documentation site](https://radimrehurek.com/gensim/utils.html). \n",
    "\n"
   ]
  },
  {
   "cell_type": "code",
   "execution_count": 5,
   "metadata": {},
   "outputs": [
    {
     "name": "stderr",
     "output_type": "stream",
     "text": [
      "2024-11-27 17:52:13,621 : INFO : reading file reviews_data.txt.gz...this may take a while\n",
      "2024-11-27 17:52:13,630 : INFO : read 0 reviews\n",
      "2024-11-27 17:52:14,708 : INFO : read 10000 reviews\n",
      "2024-11-27 17:52:15,832 : INFO : read 20000 reviews\n",
      "2024-11-27 17:52:17,108 : INFO : read 30000 reviews\n",
      "2024-11-27 17:52:18,276 : INFO : read 40000 reviews\n",
      "2024-11-27 17:52:19,689 : INFO : read 50000 reviews\n",
      "2024-11-27 17:52:20,945 : INFO : read 60000 reviews\n",
      "2024-11-27 17:52:22,043 : INFO : read 70000 reviews\n",
      "2024-11-27 17:52:23,007 : INFO : read 80000 reviews\n",
      "2024-11-27 17:52:24,054 : INFO : read 90000 reviews\n",
      "2024-11-27 17:52:25,042 : INFO : read 100000 reviews\n",
      "2024-11-27 17:52:26,019 : INFO : read 110000 reviews\n",
      "2024-11-27 17:52:27,010 : INFO : read 120000 reviews\n",
      "2024-11-27 17:52:28,063 : INFO : read 130000 reviews\n",
      "2024-11-27 17:52:29,154 : INFO : read 140000 reviews\n",
      "2024-11-27 17:52:30,422 : INFO : read 150000 reviews\n",
      "2024-11-27 17:52:31,448 : INFO : read 160000 reviews\n",
      "2024-11-27 17:52:32,452 : INFO : read 170000 reviews\n",
      "2024-11-27 17:52:33,538 : INFO : read 180000 reviews\n",
      "2024-11-27 17:52:34,576 : INFO : read 190000 reviews\n",
      "2024-11-27 17:52:35,713 : INFO : read 200000 reviews\n",
      "2024-11-27 17:52:36,781 : INFO : read 210000 reviews\n",
      "2024-11-27 17:52:37,867 : INFO : read 220000 reviews\n",
      "2024-11-27 17:52:38,858 : INFO : read 230000 reviews\n",
      "2024-11-27 17:52:40,433 : INFO : read 240000 reviews\n",
      "2024-11-27 17:52:41,495 : INFO : read 250000 reviews\n",
      "2024-11-27 17:52:42,051 : INFO : Done reading data file\n"
     ]
    }
   ],
   "source": [
    "\n",
    "def read_input(input_file):\n",
    "    \"\"\"This method reads the input file which is in gzip format\"\"\"\n",
    "    \n",
    "    logging.info(\"reading file {0}...this may take a while\".format(input_file))\n",
    "    \n",
    "    with gzip.open (input_file, 'rb') as f:\n",
    "        for i, line in enumerate (f): \n",
    "\n",
    "            if (i%10000==0):\n",
    "                logging.info (\"read {0} reviews\".format (i))\n",
    "            # lowercase, remove special characters, punctuations, numbers. Also tokenizes the text into a list of words.\n",
    "            # The yield statement turns the function into a generator, allowing the caller to process one line at a time.\n",
    "            yield gensim.utils.simple_preprocess (line)\n",
    "\n",
    "# read the tokenized reviews into a list\n",
    "# each review item becomes a serries of words\n",
    "# so this becomes a list of lists\n",
    "documents = list (read_input (data_file))\n",
    "logging.info (\"Done reading data file\")    "
   ]
  },
  {
   "cell_type": "markdown",
   "metadata": {},
   "source": [
    "## Training the Word2Vec model\n",
    "\n",
    "Training the model is fairly straightforward. You just instantiate Word2Vec and pass the reviews that we read in the previous step (the `documents`). So, we are essentially passing on a list of lists. Where each list within the main list contains a set of tokens from a user review. Word2Vec uses all these tokens to internally create a vocabulary. And by vocabulary, I mean a set of unique words.\n",
    "\n",
    "After building the vocabulary, we just need to call `train(...)` to start training the Word2Vec model. Training on the [OpinRank](http://kavita-ganesan.com/entity-ranking-data/) dataset takes about 10 minutes so please be patient while running your code on this dataset.\n",
    "\n",
    "Behind the scenes we are actually training a simple neural network with a single hidden layer. But, we are actually not going to use the neural network after training. Instead, the goal is to learn the weights of the hidden layer. These weights are essentially the word vectors that we’re trying to learn. "
   ]
  },
  {
   "cell_type": "code",
   "execution_count": 12,
   "metadata": {},
   "outputs": [
    {
     "name": "stderr",
     "output_type": "stream",
     "text": [
      "2024-11-27 17:56:29,629 : INFO : collecting all words and their counts\n",
      "2024-11-27 17:56:29,630 : INFO : PROGRESS: at sentence #0, processed 0 words, keeping 0 word types\n",
      "2024-11-27 17:56:29,791 : INFO : PROGRESS: at sentence #10000, processed 1655714 words, keeping 25777 word types\n",
      "2024-11-27 17:56:29,949 : INFO : PROGRESS: at sentence #20000, processed 3317863 words, keeping 35016 word types\n",
      "2024-11-27 17:56:30,139 : INFO : PROGRESS: at sentence #30000, processed 5264072 words, keeping 47518 word types\n",
      "2024-11-27 17:56:30,312 : INFO : PROGRESS: at sentence #40000, processed 7081746 words, keeping 56675 word types\n",
      "2024-11-27 17:56:30,498 : INFO : PROGRESS: at sentence #50000, processed 9089491 words, keeping 63744 word types\n",
      "2024-11-27 17:56:30,679 : INFO : PROGRESS: at sentence #60000, processed 11013728 words, keeping 76788 word types\n",
      "2024-11-27 17:56:30,828 : INFO : PROGRESS: at sentence #70000, processed 12637530 words, keeping 83201 word types\n",
      "2024-11-27 17:56:30,967 : INFO : PROGRESS: at sentence #80000, processed 14099756 words, keeping 88461 word types\n",
      "2024-11-27 17:56:31,115 : INFO : PROGRESS: at sentence #90000, processed 15662154 words, keeping 93359 word types\n",
      "2024-11-27 17:56:31,260 : INFO : PROGRESS: at sentence #100000, processed 17164492 words, keeping 97888 word types\n",
      "2024-11-27 17:56:31,404 : INFO : PROGRESS: at sentence #110000, processed 18652297 words, keeping 102134 word types\n",
      "2024-11-27 17:56:31,551 : INFO : PROGRESS: at sentence #120000, processed 20152534 words, keeping 105925 word types\n",
      "2024-11-27 17:56:31,703 : INFO : PROGRESS: at sentence #130000, processed 21684335 words, keeping 110106 word types\n",
      "2024-11-27 17:56:31,855 : INFO : PROGRESS: at sentence #140000, processed 23330211 words, keeping 114110 word types\n",
      "2024-11-27 17:56:32,002 : INFO : PROGRESS: at sentence #150000, processed 24838759 words, keeping 118176 word types\n",
      "2024-11-27 17:56:32,151 : INFO : PROGRESS: at sentence #160000, processed 26390915 words, keeping 118672 word types\n",
      "2024-11-27 17:56:32,297 : INFO : PROGRESS: at sentence #170000, processed 27913921 words, keeping 123358 word types\n",
      "2024-11-27 17:56:32,447 : INFO : PROGRESS: at sentence #180000, processed 29535617 words, keeping 126750 word types\n",
      "2024-11-27 17:56:32,598 : INFO : PROGRESS: at sentence #190000, processed 31096464 words, keeping 129849 word types\n",
      "2024-11-27 17:56:32,758 : INFO : PROGRESS: at sentence #200000, processed 32805276 words, keeping 133257 word types\n",
      "2024-11-27 17:56:32,911 : INFO : PROGRESS: at sentence #210000, processed 34434203 words, keeping 136366 word types\n",
      "2024-11-27 17:56:33,066 : INFO : PROGRESS: at sentence #220000, processed 36083487 words, keeping 139420 word types\n",
      "2024-11-27 17:56:33,205 : INFO : PROGRESS: at sentence #230000, processed 37571767 words, keeping 142401 word types\n",
      "2024-11-27 17:56:33,354 : INFO : PROGRESS: at sentence #240000, processed 39138195 words, keeping 145234 word types\n",
      "2024-11-27 17:56:33,506 : INFO : PROGRESS: at sentence #250000, processed 40695054 words, keeping 147968 word types\n",
      "2024-11-27 17:56:33,591 : INFO : collected 150061 word types from a corpus of 41519360 raw words and 255404 sentences\n",
      "2024-11-27 17:56:33,591 : INFO : Creating a fresh vocabulary\n",
      "2024-11-27 17:56:33,734 : INFO : Word2Vec lifecycle event {'msg': 'effective_min_count=2 retains 70537 unique words (47.01% of original 150061, drops 79524)', 'datetime': '2024-11-27T17:56:33.734068', 'gensim': '4.3.3', 'python': '3.12.7 | packaged by conda-forge | (main, Oct  4 2024, 15:57:01) [Clang 17.0.6 ]', 'platform': 'macOS-15.1-arm64-arm-64bit', 'event': 'prepare_vocab'}\n",
      "2024-11-27 17:56:33,734 : INFO : Word2Vec lifecycle event {'msg': 'effective_min_count=2 leaves 41439836 word corpus (99.81% of original 41519360, drops 79524)', 'datetime': '2024-11-27T17:56:33.734677', 'gensim': '4.3.3', 'python': '3.12.7 | packaged by conda-forge | (main, Oct  4 2024, 15:57:01) [Clang 17.0.6 ]', 'platform': 'macOS-15.1-arm64-arm-64bit', 'event': 'prepare_vocab'}\n",
      "2024-11-27 17:56:33,900 : INFO : deleting the raw counts dictionary of 150061 items\n",
      "2024-11-27 17:56:33,903 : INFO : sample=0.001 downsamples 55 most-common words\n",
      "2024-11-27 17:56:33,903 : INFO : Word2Vec lifecycle event {'msg': 'downsampling leaves estimated 30349251.36700416 word corpus (73.2%% of prior 41439836)', 'datetime': '2024-11-27T17:56:33.903744', 'gensim': '4.3.3', 'python': '3.12.7 | packaged by conda-forge | (main, Oct  4 2024, 15:57:01) [Clang 17.0.6 ]', 'platform': 'macOS-15.1-arm64-arm-64bit', 'event': 'prepare_vocab'}\n",
      "2024-11-27 17:56:34,166 : INFO : estimated required memory for 70537 words and 100 dimensions: 91698100 bytes\n",
      "2024-11-27 17:56:34,167 : INFO : resetting layer weights\n",
      "2024-11-27 17:56:34,186 : INFO : Word2Vec lifecycle event {'update': False, 'trim_rule': 'None', 'datetime': '2024-11-27T17:56:34.186400', 'gensim': '4.3.3', 'python': '3.12.7 | packaged by conda-forge | (main, Oct  4 2024, 15:57:01) [Clang 17.0.6 ]', 'platform': 'macOS-15.1-arm64-arm-64bit', 'event': 'build_vocab'}\n",
      "2024-11-27 17:56:34,186 : INFO : Word2Vec lifecycle event {'msg': 'training model with 10 workers on 70537 vocabulary and 100 features, using sg=0 hs=0 sample=0.001 negative=5 window=10 shrink_windows=True', 'datetime': '2024-11-27T17:56:34.186947', 'gensim': '4.3.3', 'python': '3.12.7 | packaged by conda-forge | (main, Oct  4 2024, 15:57:01) [Clang 17.0.6 ]', 'platform': 'macOS-15.1-arm64-arm-64bit', 'event': 'train'}\n",
      "2024-11-27 17:56:35,192 : INFO : EPOCH 0 - PROGRESS: at 9.19% examples, 2863948 words/s, in_qsize 19, out_qsize 0\n",
      "2024-11-27 17:56:36,192 : INFO : EPOCH 0 - PROGRESS: at 17.40% examples, 2910474 words/s, in_qsize 19, out_qsize 0\n",
      "2024-11-27 17:56:37,193 : INFO : EPOCH 0 - PROGRESS: at 26.23% examples, 2970973 words/s, in_qsize 19, out_qsize 0\n",
      "2024-11-27 17:56:38,194 : INFO : EPOCH 0 - PROGRESS: at 36.33% examples, 2934741 words/s, in_qsize 20, out_qsize 1\n",
      "2024-11-27 17:56:39,194 : INFO : EPOCH 0 - PROGRESS: at 46.83% examples, 2934113 words/s, in_qsize 18, out_qsize 1\n",
      "2024-11-27 17:56:40,195 : INFO : EPOCH 0 - PROGRESS: at 57.18% examples, 2947174 words/s, in_qsize 20, out_qsize 1\n",
      "2024-11-27 17:56:41,195 : INFO : EPOCH 0 - PROGRESS: at 67.73% examples, 2961687 words/s, in_qsize 18, out_qsize 1\n",
      "2024-11-27 17:56:42,197 : INFO : EPOCH 0 - PROGRESS: at 77.31% examples, 2955515 words/s, in_qsize 19, out_qsize 0\n",
      "2024-11-27 17:56:43,198 : INFO : EPOCH 0 - PROGRESS: at 87.28% examples, 2962714 words/s, in_qsize 17, out_qsize 2\n",
      "2024-11-27 17:56:44,199 : INFO : EPOCH 0 - PROGRESS: at 97.45% examples, 2959199 words/s, in_qsize 19, out_qsize 0\n",
      "2024-11-27 17:56:44,432 : INFO : EPOCH 0: training on 41519360 raw words (30348850 effective words) took 10.2s, 2963294 effective words/s\n",
      "2024-11-27 17:56:45,438 : INFO : EPOCH 1 - PROGRESS: at 9.47% examples, 2960392 words/s, in_qsize 19, out_qsize 0\n",
      "2024-11-27 17:56:46,438 : INFO : EPOCH 1 - PROGRESS: at 17.68% examples, 2966203 words/s, in_qsize 19, out_qsize 0\n",
      "2024-11-27 17:56:47,441 : INFO : EPOCH 1 - PROGRESS: at 25.95% examples, 2946857 words/s, in_qsize 19, out_qsize 0\n",
      "2024-11-27 17:56:48,444 : INFO : EPOCH 1 - PROGRESS: at 36.66% examples, 2956893 words/s, in_qsize 20, out_qsize 0\n",
      "2024-11-27 17:56:49,445 : INFO : EPOCH 1 - PROGRESS: at 47.53% examples, 2974257 words/s, in_qsize 19, out_qsize 1\n",
      "2024-11-27 17:56:50,447 : INFO : EPOCH 1 - PROGRESS: at 57.67% examples, 2970222 words/s, in_qsize 17, out_qsize 2\n",
      "2024-11-27 17:56:51,448 : INFO : EPOCH 1 - PROGRESS: at 67.97% examples, 2969666 words/s, in_qsize 19, out_qsize 0\n",
      "2024-11-27 17:56:52,450 : INFO : EPOCH 1 - PROGRESS: at 77.84% examples, 2975133 words/s, in_qsize 20, out_qsize 0\n",
      "2024-11-27 17:56:53,455 : INFO : EPOCH 1 - PROGRESS: at 87.37% examples, 2962666 words/s, in_qsize 19, out_qsize 0\n",
      "2024-11-27 17:56:54,457 : INFO : EPOCH 1 - PROGRESS: at 97.55% examples, 2959367 words/s, in_qsize 17, out_qsize 2\n",
      "2024-11-27 17:56:54,684 : INFO : EPOCH 1: training on 41519360 raw words (30346959 effective words) took 10.2s, 2961645 effective words/s\n",
      "2024-11-27 17:56:55,691 : INFO : EPOCH 2 - PROGRESS: at 9.36% examples, 2910854 words/s, in_qsize 18, out_qsize 1\n",
      "2024-11-27 17:56:56,694 : INFO : EPOCH 2 - PROGRESS: at 17.89% examples, 2995853 words/s, in_qsize 19, out_qsize 0\n",
      "2024-11-27 17:56:57,697 : INFO : EPOCH 2 - PROGRESS: at 26.95% examples, 3030329 words/s, in_qsize 19, out_qsize 0\n",
      "2024-11-27 17:56:58,702 : INFO : EPOCH 2 - PROGRESS: at 36.99% examples, 2976622 words/s, in_qsize 19, out_qsize 0\n",
      "2024-11-27 17:56:59,702 : INFO : EPOCH 2 - PROGRESS: at 47.76% examples, 2983565 words/s, in_qsize 18, out_qsize 1\n",
      "2024-11-27 17:57:00,702 : INFO : EPOCH 2 - PROGRESS: at 58.05% examples, 2987201 words/s, in_qsize 19, out_qsize 0\n",
      "2024-11-27 17:57:01,709 : INFO : EPOCH 2 - PROGRESS: at 68.31% examples, 2980058 words/s, in_qsize 19, out_qsize 0\n",
      "2024-11-27 17:57:02,711 : INFO : EPOCH 2 - PROGRESS: at 77.94% examples, 2975053 words/s, in_qsize 17, out_qsize 2\n",
      "2024-11-27 17:57:03,711 : INFO : EPOCH 2 - PROGRESS: at 87.95% examples, 2978003 words/s, in_qsize 19, out_qsize 1\n",
      "2024-11-27 17:57:04,711 : INFO : EPOCH 2 - PROGRESS: at 98.35% examples, 2981766 words/s, in_qsize 18, out_qsize 1\n",
      "2024-11-27 17:57:04,884 : INFO : EPOCH 2: training on 41519360 raw words (30350397 effective words) took 10.2s, 2977006 effective words/s\n",
      "2024-11-27 17:57:05,890 : INFO : EPOCH 3 - PROGRESS: at 9.12% examples, 2838270 words/s, in_qsize 19, out_qsize 0\n",
      "2024-11-27 17:57:06,893 : INFO : EPOCH 3 - PROGRESS: at 17.23% examples, 2873119 words/s, in_qsize 19, out_qsize 0\n",
      "2024-11-27 17:57:07,894 : INFO : EPOCH 3 - PROGRESS: at 25.87% examples, 2935615 words/s, in_qsize 17, out_qsize 2\n",
      "2024-11-27 17:57:08,895 : INFO : EPOCH 3 - PROGRESS: at 36.69% examples, 2958829 words/s, in_qsize 20, out_qsize 0\n",
      "2024-11-27 17:57:09,897 : INFO : EPOCH 3 - PROGRESS: at 47.59% examples, 2975741 words/s, in_qsize 20, out_qsize 0\n",
      "2024-11-27 17:57:10,906 : INFO : EPOCH 3 - PROGRESS: at 57.49% examples, 2956038 words/s, in_qsize 20, out_qsize 0\n",
      "2024-11-27 17:57:11,911 : INFO : EPOCH 3 - PROGRESS: at 67.81% examples, 2957126 words/s, in_qsize 20, out_qsize 0\n",
      "2024-11-27 17:57:12,913 : INFO : EPOCH 3 - PROGRESS: at 77.74% examples, 2965805 words/s, in_qsize 19, out_qsize 0\n",
      "2024-11-27 17:57:13,913 : INFO : EPOCH 3 - PROGRESS: at 87.93% examples, 2976115 words/s, in_qsize 19, out_qsize 0\n",
      "2024-11-27 17:57:14,915 : INFO : EPOCH 3 - PROGRESS: at 97.97% examples, 2968727 words/s, in_qsize 19, out_qsize 0\n",
      "2024-11-27 17:57:15,100 : INFO : EPOCH 3: training on 41519360 raw words (30348469 effective words) took 10.2s, 2971731 effective words/s\n",
      "2024-11-27 17:57:16,109 : INFO : EPOCH 4 - PROGRESS: at 9.66% examples, 3017874 words/s, in_qsize 19, out_qsize 0\n",
      "2024-11-27 17:57:17,111 : INFO : EPOCH 4 - PROGRESS: at 17.87% examples, 2989094 words/s, in_qsize 16, out_qsize 3\n",
      "2024-11-27 17:57:18,111 : INFO : EPOCH 4 - PROGRESS: at 26.95% examples, 3031189 words/s, in_qsize 20, out_qsize 0\n",
      "2024-11-27 17:57:19,114 : INFO : EPOCH 4 - PROGRESS: at 37.18% examples, 2995612 words/s, in_qsize 19, out_qsize 0\n",
      "2024-11-27 17:57:20,116 : INFO : EPOCH 4 - PROGRESS: at 48.10% examples, 3004412 words/s, in_qsize 20, out_qsize 0\n",
      "2024-11-27 17:57:21,120 : INFO : EPOCH 4 - PROGRESS: at 58.17% examples, 2992034 words/s, in_qsize 18, out_qsize 1\n",
      "2024-11-27 17:57:22,120 : INFO : EPOCH 4 - PROGRESS: at 68.19% examples, 2976854 words/s, in_qsize 19, out_qsize 0\n",
      "2024-11-27 17:57:23,123 : INFO : EPOCH 4 - PROGRESS: at 77.27% examples, 2950330 words/s, in_qsize 18, out_qsize 1\n",
      "2024-11-27 17:57:24,125 : INFO : EPOCH 4 - PROGRESS: at 87.21% examples, 2956181 words/s, in_qsize 19, out_qsize 0\n",
      "2024-11-27 17:57:25,125 : INFO : EPOCH 4 - PROGRESS: at 97.57% examples, 2959222 words/s, in_qsize 20, out_qsize 0\n",
      "2024-11-27 17:57:25,361 : INFO : EPOCH 4: training on 41519360 raw words (30351123 effective words) took 10.3s, 2959122 effective words/s\n",
      "2024-11-27 17:57:25,361 : INFO : Word2Vec lifecycle event {'msg': 'training on 207596800 raw words (151745798 effective words) took 51.2s, 2965274 effective words/s', 'datetime': '2024-11-27T17:57:25.361940', 'gensim': '4.3.3', 'python': '3.12.7 | packaged by conda-forge | (main, Oct  4 2024, 15:57:01) [Clang 17.0.6 ]', 'platform': 'macOS-15.1-arm64-arm-64bit', 'event': 'train'}\n",
      "2024-11-27 17:57:25,362 : INFO : Word2Vec lifecycle event {'params': 'Word2Vec<vocab=70537, vector_size=100, alpha=0.025>', 'datetime': '2024-11-27T17:57:25.362212', 'gensim': '4.3.3', 'python': '3.12.7 | packaged by conda-forge | (main, Oct  4 2024, 15:57:01) [Clang 17.0.6 ]', 'platform': 'macOS-15.1-arm64-arm-64bit', 'event': 'created'}\n",
      "2024-11-27 17:57:25,365 : WARNING : Effective 'alpha' higher than previous training cycles\n",
      "2024-11-27 17:57:25,366 : INFO : Word2Vec lifecycle event {'msg': 'training model with 10 workers on 70537 vocabulary and 100 features, using sg=0 hs=0 sample=0.001 negative=5 window=10 shrink_windows=True', 'datetime': '2024-11-27T17:57:25.366137', 'gensim': '4.3.3', 'python': '3.12.7 | packaged by conda-forge | (main, Oct  4 2024, 15:57:01) [Clang 17.0.6 ]', 'platform': 'macOS-15.1-arm64-arm-64bit', 'event': 'train'}\n",
      "2024-11-27 17:57:26,373 : INFO : EPOCH 0 - PROGRESS: at 9.45% examples, 2953914 words/s, in_qsize 19, out_qsize 0\n",
      "2024-11-27 17:57:27,376 : INFO : EPOCH 0 - PROGRESS: at 17.48% examples, 2919966 words/s, in_qsize 20, out_qsize 0\n",
      "2024-11-27 17:57:28,378 : INFO : EPOCH 0 - PROGRESS: at 26.05% examples, 2951783 words/s, in_qsize 18, out_qsize 1\n",
      "2024-11-27 17:57:29,380 : INFO : EPOCH 0 - PROGRESS: at 36.61% examples, 2950212 words/s, in_qsize 18, out_qsize 1\n",
      "2024-11-27 17:57:30,383 : INFO : EPOCH 0 - PROGRESS: at 47.34% examples, 2960500 words/s, in_qsize 19, out_qsize 0\n",
      "2024-11-27 17:57:31,388 : INFO : EPOCH 0 - PROGRESS: at 57.38% examples, 2951516 words/s, in_qsize 20, out_qsize 2\n",
      "2024-11-27 17:57:32,389 : INFO : EPOCH 0 - PROGRESS: at 67.43% examples, 2943733 words/s, in_qsize 20, out_qsize 0\n",
      "2024-11-27 17:57:33,391 : INFO : EPOCH 0 - PROGRESS: at 77.41% examples, 2954780 words/s, in_qsize 18, out_qsize 1\n",
      "2024-11-27 17:57:34,393 : INFO : EPOCH 0 - PROGRESS: at 87.45% examples, 2962711 words/s, in_qsize 19, out_qsize 0\n",
      "2024-11-27 17:57:35,393 : INFO : EPOCH 0 - PROGRESS: at 97.18% examples, 2947131 words/s, in_qsize 19, out_qsize 0\n",
      "2024-11-27 17:57:35,675 : INFO : EPOCH 0: training on 41519360 raw words (30349060 effective words) took 10.3s, 2945139 effective words/s\n",
      "2024-11-27 17:57:36,682 : INFO : EPOCH 1 - PROGRESS: at 9.72% examples, 3046689 words/s, in_qsize 19, out_qsize 0\n",
      "2024-11-27 17:57:37,686 : INFO : EPOCH 1 - PROGRESS: at 18.30% examples, 3069178 words/s, in_qsize 18, out_qsize 1\n",
      "2024-11-27 17:57:38,689 : INFO : EPOCH 1 - PROGRESS: at 27.30% examples, 3058331 words/s, in_qsize 19, out_qsize 0\n",
      "2024-11-27 17:57:39,692 : INFO : EPOCH 1 - PROGRESS: at 37.57% examples, 3020504 words/s, in_qsize 19, out_qsize 0\n",
      "2024-11-27 17:57:40,696 : INFO : EPOCH 1 - PROGRESS: at 47.78% examples, 2982889 words/s, in_qsize 18, out_qsize 1\n",
      "2024-11-27 17:57:41,698 : INFO : EPOCH 1 - PROGRESS: at 58.01% examples, 2983650 words/s, in_qsize 19, out_qsize 0\n",
      "2024-11-27 17:57:42,699 : INFO : EPOCH 1 - PROGRESS: at 68.38% examples, 2983465 words/s, in_qsize 20, out_qsize 0\n",
      "2024-11-27 17:57:43,704 : INFO : EPOCH 1 - PROGRESS: at 78.05% examples, 2979556 words/s, in_qsize 18, out_qsize 1\n",
      "2024-11-27 17:57:44,710 : INFO : EPOCH 1 - PROGRESS: at 88.17% examples, 2982396 words/s, in_qsize 17, out_qsize 2\n",
      "2024-11-27 17:57:45,715 : INFO : EPOCH 1 - PROGRESS: at 98.66% examples, 2986381 words/s, in_qsize 19, out_qsize 0\n",
      "2024-11-27 17:57:45,833 : INFO : EPOCH 1: training on 41519360 raw words (30350604 effective words) took 10.2s, 2989224 effective words/s\n",
      "2024-11-27 17:57:46,837 : INFO : EPOCH 2 - PROGRESS: at 9.39% examples, 2931984 words/s, in_qsize 19, out_qsize 0\n",
      "2024-11-27 17:57:47,840 : INFO : EPOCH 2 - PROGRESS: at 17.50% examples, 2927090 words/s, in_qsize 19, out_qsize 0\n",
      "2024-11-27 17:57:48,840 : INFO : EPOCH 2 - PROGRESS: at 26.36% examples, 2980368 words/s, in_qsize 18, out_qsize 1\n",
      "2024-11-27 17:57:49,844 : INFO : EPOCH 2 - PROGRESS: at 37.14% examples, 2993538 words/s, in_qsize 18, out_qsize 1\n",
      "2024-11-27 17:57:50,845 : INFO : EPOCH 2 - PROGRESS: at 48.01% examples, 3000833 words/s, in_qsize 18, out_qsize 1\n",
      "2024-11-27 17:57:51,850 : INFO : EPOCH 2 - PROGRESS: at 57.65% examples, 2966828 words/s, in_qsize 18, out_qsize 1\n",
      "2024-11-27 17:57:52,850 : INFO : EPOCH 2 - PROGRESS: at 67.98% examples, 2968386 words/s, in_qsize 18, out_qsize 1\n",
      "2024-11-27 17:57:53,852 : INFO : EPOCH 2 - PROGRESS: at 77.97% examples, 2979099 words/s, in_qsize 20, out_qsize 1\n",
      "2024-11-27 17:57:54,856 : INFO : EPOCH 2 - PROGRESS: at 87.93% examples, 2978012 words/s, in_qsize 19, out_qsize 0\n",
      "2024-11-27 17:57:55,856 : INFO : EPOCH 2 - PROGRESS: at 98.09% examples, 2975169 words/s, in_qsize 19, out_qsize 0\n",
      "2024-11-27 17:57:56,040 : INFO : EPOCH 2: training on 41519360 raw words (30348144 effective words) took 10.2s, 2974340 effective words/s\n",
      "2024-11-27 17:57:57,049 : INFO : EPOCH 3 - PROGRESS: at 9.70% examples, 3031913 words/s, in_qsize 19, out_qsize 0\n",
      "2024-11-27 17:57:58,051 : INFO : EPOCH 3 - PROGRESS: at 18.03% examples, 3017454 words/s, in_qsize 20, out_qsize 0\n",
      "2024-11-27 17:57:59,052 : INFO : EPOCH 3 - PROGRESS: at 26.65% examples, 3002822 words/s, in_qsize 19, out_qsize 0\n",
      "2024-11-27 17:58:00,053 : INFO : EPOCH 3 - PROGRESS: at 37.01% examples, 2982030 words/s, in_qsize 18, out_qsize 1\n",
      "2024-11-27 17:58:01,053 : INFO : EPOCH 3 - PROGRESS: at 47.89% examples, 2993499 words/s, in_qsize 17, out_qsize 2\n",
      "2024-11-27 17:58:02,053 : INFO : EPOCH 3 - PROGRESS: at 57.91% examples, 2982595 words/s, in_qsize 19, out_qsize 0\n",
      "2024-11-27 17:58:03,058 : INFO : EPOCH 3 - PROGRESS: at 68.42% examples, 2988044 words/s, in_qsize 18, out_qsize 1\n",
      "2024-11-27 17:58:04,061 : INFO : EPOCH 3 - PROGRESS: at 78.19% examples, 2987104 words/s, in_qsize 20, out_qsize 0\n",
      "2024-11-27 17:58:05,064 : INFO : EPOCH 3 - PROGRESS: at 88.01% examples, 2980522 words/s, in_qsize 19, out_qsize 0\n",
      "2024-11-27 17:58:06,064 : INFO : EPOCH 3 - PROGRESS: at 98.28% examples, 2980373 words/s, in_qsize 19, out_qsize 0\n",
      "2024-11-27 17:58:06,215 : INFO : EPOCH 3: training on 41519360 raw words (30351922 effective words) took 10.2s, 2984145 effective words/s\n",
      "2024-11-27 17:58:07,221 : INFO : EPOCH 4 - PROGRESS: at 9.73% examples, 3054328 words/s, in_qsize 19, out_qsize 0\n",
      "2024-11-27 17:58:08,222 : INFO : EPOCH 4 - PROGRESS: at 17.76% examples, 2976907 words/s, in_qsize 19, out_qsize 1\n",
      "2024-11-27 17:58:09,223 : INFO : EPOCH 4 - PROGRESS: at 26.87% examples, 3027241 words/s, in_qsize 19, out_qsize 0\n",
      "2024-11-27 17:58:10,228 : INFO : EPOCH 4 - PROGRESS: at 37.38% examples, 3008371 words/s, in_qsize 18, out_qsize 1\n",
      "2024-11-27 17:58:11,230 : INFO : EPOCH 4 - PROGRESS: at 47.98% examples, 2997782 words/s, in_qsize 20, out_qsize 0\n",
      "2024-11-27 17:58:12,233 : INFO : EPOCH 4 - PROGRESS: at 57.93% examples, 2981060 words/s, in_qsize 18, out_qsize 1\n",
      "2024-11-27 17:58:13,240 : INFO : EPOCH 4 - PROGRESS: at 68.31% examples, 2979794 words/s, in_qsize 17, out_qsize 2\n",
      "2024-11-27 17:58:14,241 : INFO : EPOCH 4 - PROGRESS: at 78.27% examples, 2988587 words/s, in_qsize 19, out_qsize 0\n",
      "2024-11-27 17:58:15,243 : INFO : EPOCH 4 - PROGRESS: at 88.40% examples, 2991622 words/s, in_qsize 18, out_qsize 1\n",
      "2024-11-27 17:58:16,253 : INFO : EPOCH 4 - PROGRESS: at 98.50% examples, 2982591 words/s, in_qsize 18, out_qsize 1\n",
      "2024-11-27 17:58:16,381 : INFO : EPOCH 4: training on 41519360 raw words (30348288 effective words) took 10.2s, 2986610 effective words/s\n",
      "2024-11-27 17:58:17,392 : INFO : EPOCH 5 - PROGRESS: at 9.14% examples, 2839049 words/s, in_qsize 20, out_qsize 1\n",
      "2024-11-27 17:58:18,395 : INFO : EPOCH 5 - PROGRESS: at 17.58% examples, 2933090 words/s, in_qsize 19, out_qsize 0\n",
      "2024-11-27 17:58:19,396 : INFO : EPOCH 5 - PROGRESS: at 26.63% examples, 2998820 words/s, in_qsize 19, out_qsize 0\n",
      "2024-11-27 17:58:20,399 : INFO : EPOCH 5 - PROGRESS: at 37.05% examples, 2982740 words/s, in_qsize 19, out_qsize 0\n",
      "2024-11-27 17:58:21,399 : INFO : EPOCH 5 - PROGRESS: at 47.67% examples, 2979831 words/s, in_qsize 19, out_qsize 0\n",
      "2024-11-27 17:58:22,399 : INFO : EPOCH 5 - PROGRESS: at 58.02% examples, 2985309 words/s, in_qsize 19, out_qsize 0\n",
      "2024-11-27 17:58:23,403 : INFO : EPOCH 5 - PROGRESS: at 67.93% examples, 2965120 words/s, in_qsize 19, out_qsize 0\n",
      "2024-11-27 17:58:24,407 : INFO : EPOCH 5 - PROGRESS: at 77.46% examples, 2957164 words/s, in_qsize 19, out_qsize 0\n",
      "2024-11-27 17:58:25,407 : INFO : EPOCH 5 - PROGRESS: at 87.06% examples, 2951291 words/s, in_qsize 19, out_qsize 0\n",
      "2024-11-27 17:58:26,408 : INFO : EPOCH 5 - PROGRESS: at 97.00% examples, 2942704 words/s, in_qsize 20, out_qsize 0\n",
      "2024-11-27 17:58:26,685 : INFO : EPOCH 5: training on 41519360 raw words (30348646 effective words) took 10.3s, 2947063 effective words/s\n",
      "2024-11-27 17:58:27,692 : INFO : EPOCH 6 - PROGRESS: at 9.56% examples, 2994459 words/s, in_qsize 19, out_qsize 0\n",
      "2024-11-27 17:58:28,692 : INFO : EPOCH 6 - PROGRESS: at 17.71% examples, 2973105 words/s, in_qsize 19, out_qsize 0\n",
      "2024-11-27 17:58:29,692 : INFO : EPOCH 6 - PROGRESS: at 25.96% examples, 2948635 words/s, in_qsize 20, out_qsize 0\n",
      "2024-11-27 17:58:30,694 : INFO : EPOCH 6 - PROGRESS: at 36.57% examples, 2952204 words/s, in_qsize 20, out_qsize 0\n",
      "2024-11-27 17:58:31,696 : INFO : EPOCH 6 - PROGRESS: at 47.18% examples, 2955555 words/s, in_qsize 19, out_qsize 0\n",
      "2024-11-27 17:58:32,696 : INFO : EPOCH 6 - PROGRESS: at 57.12% examples, 2944722 words/s, in_qsize 17, out_qsize 2\n",
      "2024-11-27 17:58:33,698 : INFO : EPOCH 6 - PROGRESS: at 67.08% examples, 2934336 words/s, in_qsize 19, out_qsize 0\n",
      "2024-11-27 17:58:34,702 : INFO : EPOCH 6 - PROGRESS: at 77.13% examples, 2946859 words/s, in_qsize 19, out_qsize 0\n",
      "2024-11-27 17:58:35,703 : INFO : EPOCH 6 - PROGRESS: at 86.73% examples, 2944526 words/s, in_qsize 19, out_qsize 0\n",
      "2024-11-27 17:58:36,704 : INFO : EPOCH 6 - PROGRESS: at 97.07% examples, 2947082 words/s, in_qsize 19, out_qsize 0\n",
      "2024-11-27 17:58:36,996 : INFO : EPOCH 6: training on 41519360 raw words (30348400 effective words) took 10.3s, 2944992 effective words/s\n",
      "2024-11-27 17:58:38,001 : INFO : EPOCH 7 - PROGRESS: at 9.45% examples, 2960837 words/s, in_qsize 19, out_qsize 0\n",
      "2024-11-27 17:58:39,002 : INFO : EPOCH 7 - PROGRESS: at 17.80% examples, 2988404 words/s, in_qsize 20, out_qsize 0\n",
      "2024-11-27 17:58:40,002 : INFO : EPOCH 7 - PROGRESS: at 26.61% examples, 3005022 words/s, in_qsize 19, out_qsize 0\n",
      "2024-11-27 17:58:41,007 : INFO : EPOCH 7 - PROGRESS: at 36.52% examples, 2948234 words/s, in_qsize 20, out_qsize 1\n",
      "2024-11-27 17:58:42,007 : INFO : EPOCH 7 - PROGRESS: at 46.97% examples, 2942193 words/s, in_qsize 19, out_qsize 0\n",
      "2024-11-27 17:58:43,010 : INFO : EPOCH 7 - PROGRESS: at 57.33% examples, 2953911 words/s, in_qsize 18, out_qsize 1\n",
      "2024-11-27 17:58:44,010 : INFO : EPOCH 7 - PROGRESS: at 67.66% examples, 2957237 words/s, in_qsize 18, out_qsize 1\n",
      "2024-11-27 17:58:45,011 : INFO : EPOCH 7 - PROGRESS: at 77.44% examples, 2960314 words/s, in_qsize 18, out_qsize 1\n",
      "2024-11-27 17:58:46,011 : INFO : EPOCH 7 - PROGRESS: at 87.51% examples, 2968616 words/s, in_qsize 19, out_qsize 0\n",
      "2024-11-27 17:58:47,015 : INFO : EPOCH 7 - PROGRESS: at 97.61% examples, 2962783 words/s, in_qsize 19, out_qsize 0\n",
      "2024-11-27 17:58:47,241 : INFO : EPOCH 7: training on 41519360 raw words (30353955 effective words) took 10.2s, 2964103 effective words/s\n",
      "2024-11-27 17:58:48,251 : INFO : EPOCH 8 - PROGRESS: at 9.51% examples, 2964369 words/s, in_qsize 16, out_qsize 3\n",
      "2024-11-27 17:58:49,254 : INFO : EPOCH 8 - PROGRESS: at 17.85% examples, 2982801 words/s, in_qsize 19, out_qsize 0\n",
      "2024-11-27 17:58:50,254 : INFO : EPOCH 8 - PROGRESS: at 26.48% examples, 2983915 words/s, in_qsize 19, out_qsize 0\n",
      "2024-11-27 17:58:51,254 : INFO : EPOCH 8 - PROGRESS: at 37.03% examples, 2982729 words/s, in_qsize 20, out_qsize 0\n",
      "2024-11-27 17:58:52,256 : INFO : EPOCH 8 - PROGRESS: at 47.53% examples, 2971752 words/s, in_qsize 18, out_qsize 1\n",
      "2024-11-27 17:58:53,257 : INFO : EPOCH 8 - PROGRESS: at 57.54% examples, 2961820 words/s, in_qsize 18, out_qsize 1\n",
      "2024-11-27 17:58:54,258 : INFO : EPOCH 8 - PROGRESS: at 67.72% examples, 2958214 words/s, in_qsize 18, out_qsize 1\n",
      "2024-11-27 17:58:55,260 : INFO : EPOCH 8 - PROGRESS: at 77.77% examples, 2970417 words/s, in_qsize 19, out_qsize 0\n",
      "2024-11-27 17:58:56,261 : INFO : EPOCH 8 - PROGRESS: at 87.73% examples, 2973710 words/s, in_qsize 18, out_qsize 1\n",
      "2024-11-27 17:58:57,261 : INFO : EPOCH 8 - PROGRESS: at 97.86% examples, 2969007 words/s, in_qsize 18, out_qsize 0\n",
      "2024-11-27 17:58:57,506 : INFO : EPOCH 8: training on 41519360 raw words (30349331 effective words) took 10.3s, 2957613 effective words/s\n",
      "2024-11-27 17:58:58,515 : INFO : EPOCH 9 - PROGRESS: at 9.30% examples, 2891424 words/s, in_qsize 18, out_qsize 1\n",
      "2024-11-27 17:58:59,519 : INFO : EPOCH 9 - PROGRESS: at 17.39% examples, 2901565 words/s, in_qsize 17, out_qsize 2\n",
      "2024-11-27 17:59:00,530 : INFO : EPOCH 9 - PROGRESS: at 26.08% examples, 2940411 words/s, in_qsize 16, out_qsize 3\n",
      "2024-11-27 17:59:01,530 : INFO : EPOCH 9 - PROGRESS: at 36.34% examples, 2923697 words/s, in_qsize 19, out_qsize 0\n",
      "2024-11-27 17:59:02,532 : INFO : EPOCH 9 - PROGRESS: at 46.96% examples, 2932654 words/s, in_qsize 19, out_qsize 0\n",
      "2024-11-27 17:59:03,535 : INFO : EPOCH 9 - PROGRESS: at 57.13% examples, 2935213 words/s, in_qsize 19, out_qsize 0\n",
      "2024-11-27 17:59:04,542 : INFO : EPOCH 9 - PROGRESS: at 67.34% examples, 2934259 words/s, in_qsize 20, out_qsize 2\n",
      "2024-11-27 17:59:05,546 : INFO : EPOCH 9 - PROGRESS: at 76.87% examples, 2927080 words/s, in_qsize 20, out_qsize 1\n",
      "2024-11-27 17:59:06,547 : INFO : EPOCH 9 - PROGRESS: at 86.92% examples, 2941861 words/s, in_qsize 20, out_qsize 0\n",
      "2024-11-27 17:59:07,552 : INFO : EPOCH 9 - PROGRESS: at 97.07% examples, 2938765 words/s, in_qsize 16, out_qsize 3\n",
      "2024-11-27 17:59:07,813 : INFO : EPOCH 9: training on 41519360 raw words (30348467 effective words) took 10.3s, 2945768 effective words/s\n",
      "2024-11-27 17:59:07,814 : INFO : Word2Vec lifecycle event {'msg': 'training on 415193600 raw words (303496817 effective words) took 102.4s, 2962472 effective words/s', 'datetime': '2024-11-27T17:59:07.814076', 'gensim': '4.3.3', 'python': '3.12.7 | packaged by conda-forge | (main, Oct  4 2024, 15:57:01) [Clang 17.0.6 ]', 'platform': 'macOS-15.1-arm64-arm-64bit', 'event': 'train'}\n"
     ]
    },
    {
     "data": {
      "text/plain": [
       "(303496817, 415193600)"
      ]
     },
     "execution_count": 12,
     "metadata": {},
     "output_type": "execute_result"
    }
   ],
   "source": [
    "# 100 features vector, \n",
    "# window=10: maximum distance between the target words and context words to consider during training\n",
    "# workers = 10, 10 threads\n",
    "# min_count=2, Ignores words that appear fewer than 2 times in the corpus\n",
    "model = gensim.models.Word2Vec (documents, window=10, min_count=2, workers=10, vector_size=100)\n",
    "model.train(documents,total_examples=len(documents),epochs=10)"
   ]
  },
  {
   "cell_type": "markdown",
   "metadata": {},
   "source": [
    "## Now, let's look at some output \n",
    "This first example shows a simple case of looking up words similar to the word `dirty`. All we need to do here is to call the `most_similar` function and provide the word `dirty` as the positive example. This returns the top 10 similar words. "
   ]
  },
  {
   "cell_type": "code",
   "execution_count": 7,
   "metadata": {},
   "outputs": [
    {
     "data": {
      "text/plain": [
       "[('filthy', 0.8634127974510193),\n",
       " ('stained', 0.7752071022987366),\n",
       " ('unclean', 0.7722263336181641),\n",
       " ('smelly', 0.7663547396659851),\n",
       " ('dusty', 0.7622085213661194),\n",
       " ('grubby', 0.742056667804718),\n",
       " ('dingy', 0.7373906970024109),\n",
       " ('disgusting', 0.7170394062995911),\n",
       " ('grimy', 0.709922194480896),\n",
       " ('mouldy', 0.7083764672279358)]"
      ]
     },
     "execution_count": 7,
     "metadata": {},
     "output_type": "execute_result"
    }
   ],
   "source": [
    "\n",
    "w1 = \"dirty\"\n",
    "model.wv.most_similar (positive=w1)\n"
   ]
  },
  {
   "cell_type": "markdown",
   "metadata": {},
   "source": [
    "That looks pretty good, right? Let's look at a few more. Let's look at similarity for `polite`, `france` and `shocked`. "
   ]
  },
  {
   "cell_type": "code",
   "execution_count": 8,
   "metadata": {},
   "outputs": [
    {
     "data": {
      "text/plain": [
       "[('courteous', 0.9191972017288208),\n",
       " ('friendly', 0.8196632862091064),\n",
       " ('curteous', 0.7884572744369507),\n",
       " ('professional', 0.7882914543151855),\n",
       " ('cordial', 0.784886360168457),\n",
       " ('attentive', 0.7762936949729919)]"
      ]
     },
     "execution_count": 8,
     "metadata": {},
     "output_type": "execute_result"
    }
   ],
   "source": [
    "# look up top 6 words similar to 'polite'\n",
    "w1 = [\"polite\"]\n",
    "model.wv.most_similar (positive=w1,topn=6)\n"
   ]
  },
  {
   "cell_type": "code",
   "execution_count": 9,
   "metadata": {},
   "outputs": [
    {
     "data": {
      "text/plain": [
       "[('canada', 0.6823714971542358),\n",
       " ('germany', 0.6659719347953796),\n",
       " ('spain', 0.6570398211479187),\n",
       " ('mexico', 0.6134476065635681),\n",
       " ('hawaii', 0.6121428608894348),\n",
       " ('england', 0.6112246513366699)]"
      ]
     },
     "execution_count": 9,
     "metadata": {},
     "output_type": "execute_result"
    }
   ],
   "source": [
    "# look up top 6 words similar to 'france'\n",
    "w1 = [\"france\"]\n",
    "model.wv.most_similar (positive=w1,topn=6)\n"
   ]
  },
  {
   "cell_type": "code",
   "execution_count": 10,
   "metadata": {},
   "outputs": [
    {
     "data": {
      "text/plain": [
       "[('horrified', 0.7981869578361511),\n",
       " ('amazed', 0.781319260597229),\n",
       " ('dismayed', 0.7661396265029907),\n",
       " ('astonished', 0.763482928276062),\n",
       " ('appalled', 0.7575596570968628),\n",
       " ('stunned', 0.7556308507919312)]"
      ]
     },
     "execution_count": 10,
     "metadata": {},
     "output_type": "execute_result"
    }
   ],
   "source": [
    "# look up top 6 words similar to 'shocked'\n",
    "w1 = [\"shocked\"]\n",
    "model.wv.most_similar (positive=w1,topn=6)\n"
   ]
  },
  {
   "cell_type": "markdown",
   "metadata": {},
   "source": [
    "That's, nice. You can even specify several positive examples to get things that are related in the provided context and provide negative examples to say what should not be considered as related. In the example below we are asking for all items that *relate to bed* only:"
   ]
  },
  {
   "cell_type": "code",
   "execution_count": 11,
   "metadata": {},
   "outputs": [
    {
     "data": {
      "text/plain": [
       "[('mattress', 0.7134687900543213),\n",
       " ('blanket', 0.6933295130729675),\n",
       " ('duvet', 0.6915439963340759),\n",
       " ('matress', 0.6841074228286743),\n",
       " ('quilt', 0.6617224216461182),\n",
       " ('pillowcase', 0.6444460153579712),\n",
       " ('sheets', 0.6385989785194397),\n",
       " ('pillows', 0.629342794418335),\n",
       " ('foam', 0.6265518665313721),\n",
       " ('bolster', 0.6236247420310974)]"
      ]
     },
     "execution_count": 11,
     "metadata": {},
     "output_type": "execute_result"
    }
   ],
   "source": [
    "# get everything related to stuff on the bed\n",
    "w1 = [\"bed\",'sheet','pillow']\n",
    "w2 = ['couch']\n",
    "model.wv.most_similar (positive=w1,negative=w2,topn=10)\n"
   ]
  },
  {
   "cell_type": "markdown",
   "metadata": {},
   "source": [
    "### Similarity between two words in the vocabulary"
   ]
  },
  {
   "cell_type": "markdown",
   "metadata": {},
   "source": [
    "You can even use the Word2Vec model to return the similarity between two words that are present in the vocabulary. "
   ]
  },
  {
   "cell_type": "code",
   "execution_count": 9,
   "metadata": {},
   "outputs": [
    {
     "data": {
      "text/plain": [
       "0.77996206"
      ]
     },
     "execution_count": 9,
     "metadata": {},
     "output_type": "execute_result"
    }
   ],
   "source": [
    "# similarity between two different words\n",
    "model.wv.similarity(w1=\"dirty\",w2=\"smelly\")"
   ]
  },
  {
   "cell_type": "code",
   "execution_count": 10,
   "metadata": {},
   "outputs": [
    {
     "data": {
      "text/plain": [
       "1.0"
      ]
     },
     "execution_count": 10,
     "metadata": {},
     "output_type": "execute_result"
    }
   ],
   "source": [
    "# similarity between two identical words\n",
    "model.wv.similarity(w1=\"dirty\",w2=\"dirty\")"
   ]
  },
  {
   "cell_type": "code",
   "execution_count": 59,
   "metadata": {},
   "outputs": [
    {
     "data": {
      "text/plain": [
       "0.25355593501920781"
      ]
     },
     "execution_count": 59,
     "metadata": {},
     "output_type": "execute_result"
    }
   ],
   "source": [
    "# similarity between two unrelated words\n",
    "model.wv.similarity(w1=\"dirty\",w2=\"clean\")"
   ]
  },
  {
   "cell_type": "markdown",
   "metadata": {},
   "source": [
    "Under the hood, the above three snippets computes the cosine similarity between the two specified words using word vectors of each. From the scores, it makes sense that `dirty` is highly similar to `smelly` but `dirty` is dissimilar to `clean`. If you do a similarity between two identical words, the score will be 1.0 as the range of the cosine similarity score will always be between [0.0-1.0]. You can read more about cosine similarity scoring [here](https://en.wikipedia.org/wiki/Cosine_similarity)."
   ]
  },
  {
   "cell_type": "markdown",
   "metadata": {},
   "source": [
    "### Find the odd one out\n",
    "You can even use Word2Vec to find odd items given a list of items."
   ]
  },
  {
   "cell_type": "code",
   "execution_count": 11,
   "metadata": {},
   "outputs": [
    {
     "data": {
      "text/plain": [
       "'france'"
      ]
     },
     "execution_count": 11,
     "metadata": {},
     "output_type": "execute_result"
    }
   ],
   "source": [
    "# Which one is the odd one out in this list?\n",
    "model.wv.doesnt_match([\"cat\",\"dog\",\"france\"])"
   ]
  },
  {
   "cell_type": "code",
   "execution_count": 12,
   "metadata": {},
   "outputs": [
    {
     "data": {
      "text/plain": [
       "'shower'"
      ]
     },
     "execution_count": 12,
     "metadata": {},
     "output_type": "execute_result"
    }
   ],
   "source": [
    "# Which one is the odd one out in this list?\n",
    "model.wv.doesnt_match([\"bed\",\"pillow\",\"duvet\",\"shower\"])\n"
   ]
  },
  {
   "cell_type": "markdown",
   "metadata": {},
   "source": [
    "## Understanding some of the parameters\n",
    "To train the model earlier, we had to set some parameters. Now, let's try to understand what some of them mean. For reference, this is the command that we used to train the model.\n",
    "\n",
    "```\n",
    "model = gensim.models.Word2Vec (documents, size=150, window=10, min_count=2, workers=10)\n",
    "```\n",
    "\n",
    "### `vector_size`\n",
    "The size of the dense vector to represent each token or word. If you have very limited data, then size should be a much smaller value. If you have lots of data, its good to experiment with various sizes. A value of 100-150 has worked well for me. \n",
    "\n",
    "### `window`\n",
    "The maximum distance between the target word and its neighboring word. If your neighbor's position is greater than the maximum window width to the left and the right, then, some neighbors are not considered as being related to the target word. In theory, a smaller window should give you terms that are more related. If you have lots of data, then the window size should not matter too much, as long as its a decent sized window. \n",
    "\n",
    "### `min_count`\n",
    "Minimium frequency count of words. The model would ignore words that do not statisfy the `min_count`. Extremely infrequent words are usually unimportant, so its best to get rid of those. Unless your dataset is really tiny, this does not really affect the model.\n",
    "\n",
    "### `workers`\n",
    "How many threads to use behind the scenes?\n"
   ]
  },
  {
   "cell_type": "markdown",
   "metadata": {},
   "source": [
    "## When should you use Word2Vec?\n",
    "\n",
    "There are many application scenarios for Word2Vec. Imagine if you need to build a sentiment lexicon. Training a Word2Vec model on large amounts of user reviews helps you achieve that. You have a lexicon for not just sentiment, but for most words in the vocabulary. \n",
    "\n",
    "Beyond, raw unstructured text data, you could also use Word2Vec for more structured data. For example, if you had tags for a million stackoverflow questions and answers, you could find tags that are related to a given tag and recommend the related ones for exploration. You can do this by treating each set of co-occuring tags as a \"sentence\" and train a Word2Vec model on this data. Granted, you still need a large number of examples to make it work. \n"
   ]
  }
 ],
 "metadata": {
  "kernelspec": {
   "display_name": "Python 3",
   "language": "python",
   "name": "python3"
  },
  "language_info": {
   "codemirror_mode": {
    "name": "ipython",
    "version": 3
   },
   "file_extension": ".py",
   "mimetype": "text/x-python",
   "name": "python",
   "nbconvert_exporter": "python",
   "pygments_lexer": "ipython3",
   "version": "3.12.7"
  }
 },
 "nbformat": 4,
 "nbformat_minor": 2
}
