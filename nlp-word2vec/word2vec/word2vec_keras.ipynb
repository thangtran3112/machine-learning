{
 "cells": [
  {
   "cell_type": "code",
   "execution_count": 20,
   "metadata": {},
   "outputs": [],
   "source": [
    "from tensorflow.keras.preprocessing.text import one_hot"
   ]
  },
  {
   "cell_type": "code",
   "execution_count": 21,
   "metadata": {},
   "outputs": [],
   "source": [
    "### sentences\n",
    "sentences=[  'the glass of milk',\n",
    "     'the glass of juice',\n",
    "     'the cup of tea',\n",
    "    'I am a good boy',\n",
    "     'I am a good developer',\n",
    "     'understand the meaning of words',\n",
    "     'your videos are good',]"
   ]
  },
  {
   "cell_type": "code",
   "execution_count": 22,
   "metadata": {},
   "outputs": [
    {
     "data": {
      "text/plain": [
       "['the glass of milk',\n",
       " 'the glass of juice',\n",
       " 'the cup of tea',\n",
       " 'I am a good boy',\n",
       " 'I am a good developer',\n",
       " 'understand the meaning of words',\n",
       " 'your videos are good']"
      ]
     },
     "execution_count": 22,
     "metadata": {},
     "output_type": "execute_result"
    }
   ],
   "source": [
    "sentences"
   ]
  },
  {
   "cell_type": "code",
   "execution_count": 23,
   "metadata": {},
   "outputs": [],
   "source": [
    "## Define the vocabulary size\n",
    "voc_size=10000"
   ]
  },
  {
   "cell_type": "code",
   "execution_count": 24,
   "metadata": {},
   "outputs": [
    {
     "data": {
      "text/plain": [
       "['the glass of milk',\n",
       " 'the glass of juice',\n",
       " 'the cup of tea',\n",
       " 'I am a good boy',\n",
       " 'I am a good developer',\n",
       " 'understand the meaning of words',\n",
       " 'your videos are good']"
      ]
     },
     "execution_count": 24,
     "metadata": {},
     "output_type": "execute_result"
    }
   ],
   "source": [
    "sentences"
   ]
  },
  {
   "cell_type": "code",
   "execution_count": 25,
   "metadata": {},
   "outputs": [
    {
     "data": {
      "text/plain": [
       "[[6812, 9322, 4221, 488],\n",
       " [6812, 9322, 4221, 5795],\n",
       " [6812, 2104, 4221, 821],\n",
       " [4420, 1948, 3133, 9077, 4427],\n",
       " [4420, 1948, 3133, 9077, 4541],\n",
       " [6148, 6812, 7842, 4221, 788],\n",
       " [6630, 2478, 803, 9077]]"
      ]
     },
     "execution_count": 25,
     "metadata": {},
     "output_type": "execute_result"
    }
   ],
   "source": [
    "# One Hot Representation of each sentence. \n",
    "one_hot_repr=[one_hot(words,voc_size) for words in sentences]\n",
    "one_hot_repr"
   ]
  },
  {
   "cell_type": "code",
   "execution_count": 26,
   "metadata": {},
   "outputs": [],
   "source": [
    "## word Embedding Representation\n",
    "\n",
    "from tensorflow.keras.layers import Embedding, Input\n",
    "from tensorflow.keras.utils import pad_sequences\n",
    "from tensorflow.keras.models import Sequential\n",
    "import numpy as np"
   ]
  },
  {
   "cell_type": "code",
   "execution_count": 27,
   "metadata": {},
   "outputs": [
    {
     "name": "stdout",
     "output_type": "stream",
     "text": [
      "[[   0    0    0 6812 9322 4221  488]\n",
      " [   0    0    0 6812 9322 4221 5795]\n",
      " [   0    0    0 6812 2104 4221  821]\n",
      " [   0    0 4420 1948 3133 9077 4427]\n",
      " [   0    0 4420 1948 3133 9077 4541]\n",
      " [   0    0 6148 6812 7842 4221  788]\n",
      " [   0    0    0 6630 2478  803 9077]]\n"
     ]
    }
   ],
   "source": [
    "sentences_length=len(sentences)\n",
    "# Padding the sentences to make them of equal length. Using 0 as padding\n",
    "embedded_docs=pad_sequences(one_hot_repr,padding='pre',maxlen=sentences_length)\n",
    "print(embedded_docs)"
   ]
  },
  {
   "cell_type": "code",
   "execution_count": 28,
   "metadata": {},
   "outputs": [],
   "source": [
    "## feature representation, 10 dimensional vector\n",
    "dimensions=10"
   ]
  },
  {
   "cell_type": "code",
   "execution_count": 29,
   "metadata": {},
   "outputs": [
    {
     "name": "stderr",
     "output_type": "stream",
     "text": [
      "c:\\Users\\user\\machine-learning\\simple_rnn_imdb\\venv\\Lib\\site-packages\\keras\\src\\layers\\core\\embedding.py:90: UserWarning: Argument `input_length` is deprecated. Just remove it.\n",
      "  warnings.warn(\n"
     ]
    }
   ],
   "source": [
    "model=Sequential()\n",
    "# Add an Input layer to explicitly define the input shape\n",
    "model.add(Input(shape=(sentences_length,)))\n",
    "model.add(Embedding(voc_size,dimensions,input_length=sentences_length))\n",
    "model.compile('adam','mse')"
   ]
  },
  {
   "cell_type": "code",
   "execution_count": 30,
   "metadata": {},
   "outputs": [
    {
     "data": {
      "text/html": [
       "<pre style=\"white-space:pre;overflow-x:auto;line-height:normal;font-family:Menlo,'DejaVu Sans Mono',consolas,'Courier New',monospace\"><span style=\"font-weight: bold\">Model: \"sequential_2\"</span>\n",
       "</pre>\n"
      ],
      "text/plain": [
       "\u001b[1mModel: \"sequential_2\"\u001b[0m\n"
      ]
     },
     "metadata": {},
     "output_type": "display_data"
    },
    {
     "data": {
      "text/html": [
       "<pre style=\"white-space:pre;overflow-x:auto;line-height:normal;font-family:Menlo,'DejaVu Sans Mono',consolas,'Courier New',monospace\">┏━━━━━━━━━━━━━━━━━━━━━━━━━━━━━━━━━┳━━━━━━━━━━━━━━━━━━━━━━━━┳━━━━━━━━━━━━━━━┓\n",
       "┃<span style=\"font-weight: bold\"> Layer (type)                    </span>┃<span style=\"font-weight: bold\"> Output Shape           </span>┃<span style=\"font-weight: bold\">       Param # </span>┃\n",
       "┡━━━━━━━━━━━━━━━━━━━━━━━━━━━━━━━━━╇━━━━━━━━━━━━━━━━━━━━━━━━╇━━━━━━━━━━━━━━━┩\n",
       "│ embedding_2 (<span style=\"color: #0087ff; text-decoration-color: #0087ff\">Embedding</span>)         │ (<span style=\"color: #00d7ff; text-decoration-color: #00d7ff\">None</span>, <span style=\"color: #00af00; text-decoration-color: #00af00\">7</span>, <span style=\"color: #00af00; text-decoration-color: #00af00\">10</span>)          │       <span style=\"color: #00af00; text-decoration-color: #00af00\">100,000</span> │\n",
       "└─────────────────────────────────┴────────────────────────┴───────────────┘\n",
       "</pre>\n"
      ],
      "text/plain": [
       "┏━━━━━━━━━━━━━━━━━━━━━━━━━━━━━━━━━┳━━━━━━━━━━━━━━━━━━━━━━━━┳━━━━━━━━━━━━━━━┓\n",
       "┃\u001b[1m \u001b[0m\u001b[1mLayer (type)                   \u001b[0m\u001b[1m \u001b[0m┃\u001b[1m \u001b[0m\u001b[1mOutput Shape          \u001b[0m\u001b[1m \u001b[0m┃\u001b[1m \u001b[0m\u001b[1m      Param #\u001b[0m\u001b[1m \u001b[0m┃\n",
       "┡━━━━━━━━━━━━━━━━━━━━━━━━━━━━━━━━━╇━━━━━━━━━━━━━━━━━━━━━━━━╇━━━━━━━━━━━━━━━┩\n",
       "│ embedding_2 (\u001b[38;5;33mEmbedding\u001b[0m)         │ (\u001b[38;5;45mNone\u001b[0m, \u001b[38;5;34m7\u001b[0m, \u001b[38;5;34m10\u001b[0m)          │       \u001b[38;5;34m100,000\u001b[0m │\n",
       "└─────────────────────────────────┴────────────────────────┴───────────────┘\n"
      ]
     },
     "metadata": {},
     "output_type": "display_data"
    },
    {
     "data": {
      "text/html": [
       "<pre style=\"white-space:pre;overflow-x:auto;line-height:normal;font-family:Menlo,'DejaVu Sans Mono',consolas,'Courier New',monospace\"><span style=\"font-weight: bold\"> Total params: </span><span style=\"color: #00af00; text-decoration-color: #00af00\">100,000</span> (390.62 KB)\n",
       "</pre>\n"
      ],
      "text/plain": [
       "\u001b[1m Total params: \u001b[0m\u001b[38;5;34m100,000\u001b[0m (390.62 KB)\n"
      ]
     },
     "metadata": {},
     "output_type": "display_data"
    },
    {
     "data": {
      "text/html": [
       "<pre style=\"white-space:pre;overflow-x:auto;line-height:normal;font-family:Menlo,'DejaVu Sans Mono',consolas,'Courier New',monospace\"><span style=\"font-weight: bold\"> Trainable params: </span><span style=\"color: #00af00; text-decoration-color: #00af00\">100,000</span> (390.62 KB)\n",
       "</pre>\n"
      ],
      "text/plain": [
       "\u001b[1m Trainable params: \u001b[0m\u001b[38;5;34m100,000\u001b[0m (390.62 KB)\n"
      ]
     },
     "metadata": {},
     "output_type": "display_data"
    },
    {
     "data": {
      "text/html": [
       "<pre style=\"white-space:pre;overflow-x:auto;line-height:normal;font-family:Menlo,'DejaVu Sans Mono',consolas,'Courier New',monospace\"><span style=\"font-weight: bold\"> Non-trainable params: </span><span style=\"color: #00af00; text-decoration-color: #00af00\">0</span> (0.00 B)\n",
       "</pre>\n"
      ],
      "text/plain": [
       "\u001b[1m Non-trainable params: \u001b[0m\u001b[38;5;34m0\u001b[0m (0.00 B)\n"
      ]
     },
     "metadata": {},
     "output_type": "display_data"
    }
   ],
   "source": [
    "model.summary()"
   ]
  },
  {
   "cell_type": "code",
   "execution_count": 31,
   "metadata": {},
   "outputs": [
    {
     "name": "stdout",
     "output_type": "stream",
     "text": [
      "\u001b[1m1/1\u001b[0m \u001b[32m━━━━━━━━━━━━━━━━━━━━\u001b[0m\u001b[37m\u001b[0m \u001b[1m0s\u001b[0m 41ms/step\n"
     ]
    },
    {
     "data": {
      "text/plain": [
       "array([[[-0.03924055,  0.00573438,  0.02859208,  0.00999935,\n",
       "         -0.02867278, -0.0340052 , -0.00041204,  0.0473137 ,\n",
       "          0.04807879, -0.00086183],\n",
       "        [-0.03924055,  0.00573438,  0.02859208,  0.00999935,\n",
       "         -0.02867278, -0.0340052 , -0.00041204,  0.0473137 ,\n",
       "          0.04807879, -0.00086183],\n",
       "        [-0.03924055,  0.00573438,  0.02859208,  0.00999935,\n",
       "         -0.02867278, -0.0340052 , -0.00041204,  0.0473137 ,\n",
       "          0.04807879, -0.00086183],\n",
       "        [-0.01256957,  0.03839036,  0.0121214 ,  0.03529363,\n",
       "         -0.01346838, -0.02092313, -0.0017042 ,  0.00325852,\n",
       "         -0.03350148, -0.03550392],\n",
       "        [-0.01516712,  0.04828042,  0.03207307, -0.02295617,\n",
       "          0.00418943,  0.03563832,  0.01290416,  0.04745105,\n",
       "         -0.02150483,  0.04985965],\n",
       "        [ 0.0457033 , -0.03071065, -0.02975959, -0.04828147,\n",
       "          0.00819664, -0.01200432, -0.02476536,  0.01563838,\n",
       "         -0.01344535,  0.00941537],\n",
       "        [-0.01499474,  0.04395353, -0.0130306 ,  0.01625865,\n",
       "          0.0190581 , -0.01317888, -0.0198023 , -0.01494473,\n",
       "          0.00013258,  0.01990056]],\n",
       "\n",
       "       [[-0.03924055,  0.00573438,  0.02859208,  0.00999935,\n",
       "         -0.02867278, -0.0340052 , -0.00041204,  0.0473137 ,\n",
       "          0.04807879, -0.00086183],\n",
       "        [-0.03924055,  0.00573438,  0.02859208,  0.00999935,\n",
       "         -0.02867278, -0.0340052 , -0.00041204,  0.0473137 ,\n",
       "          0.04807879, -0.00086183],\n",
       "        [-0.03924055,  0.00573438,  0.02859208,  0.00999935,\n",
       "         -0.02867278, -0.0340052 , -0.00041204,  0.0473137 ,\n",
       "          0.04807879, -0.00086183],\n",
       "        [-0.01256957,  0.03839036,  0.0121214 ,  0.03529363,\n",
       "         -0.01346838, -0.02092313, -0.0017042 ,  0.00325852,\n",
       "         -0.03350148, -0.03550392],\n",
       "        [-0.01516712,  0.04828042,  0.03207307, -0.02295617,\n",
       "          0.00418943,  0.03563832,  0.01290416,  0.04745105,\n",
       "         -0.02150483,  0.04985965],\n",
       "        [ 0.0457033 , -0.03071065, -0.02975959, -0.04828147,\n",
       "          0.00819664, -0.01200432, -0.02476536,  0.01563838,\n",
       "         -0.01344535,  0.00941537],\n",
       "        [ 0.00695164,  0.02588126, -0.04925781, -0.00189183,\n",
       "          0.00019845,  0.01707177,  0.02840816,  0.00297502,\n",
       "         -0.00414632, -0.03552482]],\n",
       "\n",
       "       [[-0.03924055,  0.00573438,  0.02859208,  0.00999935,\n",
       "         -0.02867278, -0.0340052 , -0.00041204,  0.0473137 ,\n",
       "          0.04807879, -0.00086183],\n",
       "        [-0.03924055,  0.00573438,  0.02859208,  0.00999935,\n",
       "         -0.02867278, -0.0340052 , -0.00041204,  0.0473137 ,\n",
       "          0.04807879, -0.00086183],\n",
       "        [-0.03924055,  0.00573438,  0.02859208,  0.00999935,\n",
       "         -0.02867278, -0.0340052 , -0.00041204,  0.0473137 ,\n",
       "          0.04807879, -0.00086183],\n",
       "        [-0.01256957,  0.03839036,  0.0121214 ,  0.03529363,\n",
       "         -0.01346838, -0.02092313, -0.0017042 ,  0.00325852,\n",
       "         -0.03350148, -0.03550392],\n",
       "        [ 0.00753321,  0.04433608,  0.00648604, -0.02382048,\n",
       "         -0.02712277,  0.01414916, -0.02118747,  0.0003708 ,\n",
       "          0.0158173 ,  0.03457366],\n",
       "        [ 0.0457033 , -0.03071065, -0.02975959, -0.04828147,\n",
       "          0.00819664, -0.01200432, -0.02476536,  0.01563838,\n",
       "         -0.01344535,  0.00941537],\n",
       "        [-0.01589553, -0.02586575,  0.04102664, -0.01341053,\n",
       "          0.02474361,  0.01287885,  0.00392914,  0.02954387,\n",
       "          0.0323878 , -0.03127287]],\n",
       "\n",
       "       [[-0.03924055,  0.00573438,  0.02859208,  0.00999935,\n",
       "         -0.02867278, -0.0340052 , -0.00041204,  0.0473137 ,\n",
       "          0.04807879, -0.00086183],\n",
       "        [-0.03924055,  0.00573438,  0.02859208,  0.00999935,\n",
       "         -0.02867278, -0.0340052 , -0.00041204,  0.0473137 ,\n",
       "          0.04807879, -0.00086183],\n",
       "        [-0.04189228,  0.00260212,  0.03898367,  0.04845115,\n",
       "         -0.02052728,  0.04059608, -0.02610679, -0.01357349,\n",
       "         -0.0265601 , -0.03913188],\n",
       "        [ 0.01482673,  0.0191901 , -0.04472305,  0.00405923,\n",
       "          0.01230291,  0.00874671, -0.01046037, -0.00242383,\n",
       "         -0.04672756,  0.00212921],\n",
       "        [ 0.04739462, -0.00638855, -0.01269479, -0.02038355,\n",
       "          0.04163046,  0.02888087,  0.02129484, -0.0420462 ,\n",
       "         -0.01585142, -0.00184906],\n",
       "        [ 0.04764095, -0.03484797, -0.01330479, -0.01997886,\n",
       "          0.03847197,  0.03299824,  0.01528282, -0.01684729,\n",
       "          0.04419348, -0.04660584],\n",
       "        [-0.02894455,  0.00602517, -0.03620122,  0.037593  ,\n",
       "         -0.04834801, -0.00829159,  0.04848286, -0.00454495,\n",
       "         -0.0342268 ,  0.03546423]],\n",
       "\n",
       "       [[-0.03924055,  0.00573438,  0.02859208,  0.00999935,\n",
       "         -0.02867278, -0.0340052 , -0.00041204,  0.0473137 ,\n",
       "          0.04807879, -0.00086183],\n",
       "        [-0.03924055,  0.00573438,  0.02859208,  0.00999935,\n",
       "         -0.02867278, -0.0340052 , -0.00041204,  0.0473137 ,\n",
       "          0.04807879, -0.00086183],\n",
       "        [-0.04189228,  0.00260212,  0.03898367,  0.04845115,\n",
       "         -0.02052728,  0.04059608, -0.02610679, -0.01357349,\n",
       "         -0.0265601 , -0.03913188],\n",
       "        [ 0.01482673,  0.0191901 , -0.04472305,  0.00405923,\n",
       "          0.01230291,  0.00874671, -0.01046037, -0.00242383,\n",
       "         -0.04672756,  0.00212921],\n",
       "        [ 0.04739462, -0.00638855, -0.01269479, -0.02038355,\n",
       "          0.04163046,  0.02888087,  0.02129484, -0.0420462 ,\n",
       "         -0.01585142, -0.00184906],\n",
       "        [ 0.04764095, -0.03484797, -0.01330479, -0.01997886,\n",
       "          0.03847197,  0.03299824,  0.01528282, -0.01684729,\n",
       "          0.04419348, -0.04660584],\n",
       "        [ 0.02489216,  0.0258483 , -0.02534807, -0.02396287,\n",
       "         -0.03703235,  0.04066711,  0.03631291, -0.02389811,\n",
       "          0.03224513, -0.01531417]],\n",
       "\n",
       "       [[-0.03924055,  0.00573438,  0.02859208,  0.00999935,\n",
       "         -0.02867278, -0.0340052 , -0.00041204,  0.0473137 ,\n",
       "          0.04807879, -0.00086183],\n",
       "        [-0.03924055,  0.00573438,  0.02859208,  0.00999935,\n",
       "         -0.02867278, -0.0340052 , -0.00041204,  0.0473137 ,\n",
       "          0.04807879, -0.00086183],\n",
       "        [-0.03548511,  0.0146434 ,  0.02376072, -0.0353744 ,\n",
       "         -0.03126675,  0.04390149,  0.00701103, -0.04471624,\n",
       "         -0.02568573,  0.01990631],\n",
       "        [-0.01256957,  0.03839036,  0.0121214 ,  0.03529363,\n",
       "         -0.01346838, -0.02092313, -0.0017042 ,  0.00325852,\n",
       "         -0.03350148, -0.03550392],\n",
       "        [-0.01864411,  0.04255465,  0.01640756,  0.01115378,\n",
       "         -0.03988034,  0.00763816, -0.04646016, -0.02203974,\n",
       "          0.0220193 , -0.01077204],\n",
       "        [ 0.0457033 , -0.03071065, -0.02975959, -0.04828147,\n",
       "          0.00819664, -0.01200432, -0.02476536,  0.01563838,\n",
       "         -0.01344535,  0.00941537],\n",
       "        [-0.04456983,  0.01678151,  0.0449759 ,  0.04988376,\n",
       "          0.02379243,  0.00974594, -0.01486366, -0.01180252,\n",
       "          0.02330248,  0.04814344]],\n",
       "\n",
       "       [[-0.03924055,  0.00573438,  0.02859208,  0.00999935,\n",
       "         -0.02867278, -0.0340052 , -0.00041204,  0.0473137 ,\n",
       "          0.04807879, -0.00086183],\n",
       "        [-0.03924055,  0.00573438,  0.02859208,  0.00999935,\n",
       "         -0.02867278, -0.0340052 , -0.00041204,  0.0473137 ,\n",
       "          0.04807879, -0.00086183],\n",
       "        [-0.03924055,  0.00573438,  0.02859208,  0.00999935,\n",
       "         -0.02867278, -0.0340052 , -0.00041204,  0.0473137 ,\n",
       "          0.04807879, -0.00086183],\n",
       "        [ 0.01455437,  0.00723758, -0.03239898, -0.01093171,\n",
       "         -0.03020431,  0.00588723,  0.00619559,  0.02985528,\n",
       "         -0.0192052 ,  0.04603131],\n",
       "        [ 0.03017403,  0.02044391,  0.04062964, -0.01678811,\n",
       "          0.02068326,  0.03651044, -0.0407531 , -0.03698199,\n",
       "          0.03519959, -0.00707167],\n",
       "        [-0.02166349,  0.04774869,  0.04897226, -0.02258351,\n",
       "         -0.00635294,  0.0288817 ,  0.03301496, -0.0093311 ,\n",
       "         -0.00858732,  0.04969496],\n",
       "        [ 0.04764095, -0.03484797, -0.01330479, -0.01997886,\n",
       "          0.03847197,  0.03299824,  0.01528282, -0.01684729,\n",
       "          0.04419348, -0.04660584]]], dtype=float32)"
      ]
     },
     "execution_count": 31,
     "metadata": {},
     "output_type": "execute_result"
    }
   ],
   "source": [
    "# Each word is presented by 10 dimensions, and each sentence is represented by 8 words.\n",
    "# So the whole corpus is represented by a 3D array.\n",
    "model.predict(embedded_docs)"
   ]
  },
  {
   "cell_type": "code",
   "execution_count": 32,
   "metadata": {},
   "outputs": [
    {
     "data": {
      "text/plain": [
       "array([   0,    0,    0, 6812, 9322, 4221,  488], dtype=int32)"
      ]
     },
     "execution_count": 32,
     "metadata": {},
     "output_type": "execute_result"
    }
   ],
   "source": [
    "embedded_docs[0]"
   ]
  },
  {
   "cell_type": "code",
   "execution_count": 33,
   "metadata": {},
   "outputs": [
    {
     "data": {
      "text/plain": [
       "array([[   0,    0,    0, 6812, 9322, 4221,  488]], dtype=int32)"
      ]
     },
     "execution_count": 33,
     "metadata": {},
     "output_type": "execute_result"
    }
   ],
   "source": [
    "# Convert the single document to a batch with one sample\n",
    "single_sample = np.expand_dims(embedded_docs[0], axis=0)\n",
    "single_sample"
   ]
  },
  {
   "cell_type": "code",
   "execution_count": 34,
   "metadata": {},
   "outputs": [
    {
     "name": "stdout",
     "output_type": "stream",
     "text": [
      "\u001b[1m1/1\u001b[0m \u001b[32m━━━━━━━━━━━━━━━━━━━━\u001b[0m\u001b[37m\u001b[0m \u001b[1m0s\u001b[0m 35ms/step\n"
     ]
    },
    {
     "data": {
      "text/plain": [
       "array([[[-0.03924055,  0.00573438,  0.02859208,  0.00999935,\n",
       "         -0.02867278, -0.0340052 , -0.00041204,  0.0473137 ,\n",
       "          0.04807879, -0.00086183],\n",
       "        [-0.03924055,  0.00573438,  0.02859208,  0.00999935,\n",
       "         -0.02867278, -0.0340052 , -0.00041204,  0.0473137 ,\n",
       "          0.04807879, -0.00086183],\n",
       "        [-0.03924055,  0.00573438,  0.02859208,  0.00999935,\n",
       "         -0.02867278, -0.0340052 , -0.00041204,  0.0473137 ,\n",
       "          0.04807879, -0.00086183],\n",
       "        [-0.01256957,  0.03839036,  0.0121214 ,  0.03529363,\n",
       "         -0.01346838, -0.02092313, -0.0017042 ,  0.00325852,\n",
       "         -0.03350148, -0.03550392],\n",
       "        [-0.01516712,  0.04828042,  0.03207307, -0.02295617,\n",
       "          0.00418943,  0.03563832,  0.01290416,  0.04745105,\n",
       "         -0.02150483,  0.04985965],\n",
       "        [ 0.0457033 , -0.03071065, -0.02975959, -0.04828147,\n",
       "          0.00819664, -0.01200432, -0.02476536,  0.01563838,\n",
       "         -0.01344535,  0.00941537],\n",
       "        [-0.01499474,  0.04395353, -0.0130306 ,  0.01625865,\n",
       "          0.0190581 , -0.01317888, -0.0198023 , -0.01494473,\n",
       "          0.00013258,  0.01990056]]], dtype=float32)"
      ]
     },
     "execution_count": 34,
     "metadata": {},
     "output_type": "execute_result"
    }
   ],
   "source": [
    "\n",
    "\n",
    "# Predict using the model\n",
    "prediction = model.predict(single_sample)\n",
    "prediction"
   ]
  }
 ],
 "metadata": {
  "kernelspec": {
   "display_name": "Python 3",
   "language": "python",
   "name": "python3"
  },
  "language_info": {
   "codemirror_mode": {
    "name": "ipython",
    "version": 3
   },
   "file_extension": ".py",
   "mimetype": "text/x-python",
   "name": "python",
   "nbconvert_exporter": "python",
   "pygments_lexer": "ipython3",
   "version": "3.12.8"
  }
 },
 "nbformat": 4,
 "nbformat_minor": 2
}
