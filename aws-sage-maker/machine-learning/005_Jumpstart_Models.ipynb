{
 "cells": [
  {
   "cell_type": "code",
   "execution_count": 1,
   "id": "ed6c2862",
   "metadata": {},
   "outputs": [
    {
     "data": {
      "application/javascript": "\n            setTimeout(function() {\n                var nbb_cell_id = 1;\n                var nbb_unformatted_code = \"%load_ext nb_black\";\n                var nbb_formatted_code = \"%load_ext nb_black\";\n                var nbb_cells = Jupyter.notebook.get_cells();\n                for (var i = 0; i < nbb_cells.length; ++i) {\n                    if (nbb_cells[i].input_prompt_number == nbb_cell_id) {\n                        if (nbb_cells[i].get_text() == nbb_unformatted_code) {\n                             nbb_cells[i].set_text(nbb_formatted_code);\n                        }\n                        break;\n                    }\n                }\n            }, 500);\n            ",
      "text/plain": [
       "<IPython.core.display.Javascript object>"
      ]
     },
     "metadata": {},
     "output_type": "display_data"
    }
   ],
   "source": [
    "%load_ext nb_black"
   ]
  },
  {
   "cell_type": "code",
   "execution_count": 2,
   "id": "9dfcd02b",
   "metadata": {},
   "outputs": [
    {
     "data": {
      "application/javascript": "\n            setTimeout(function() {\n                var nbb_cell_id = 2;\n                var nbb_unformatted_code = \"import json\\nimport pandas as pd\\nimport logging\\nfrom ipywidgets import Dropdown\";\n                var nbb_formatted_code = \"import json\\nimport pandas as pd\\nimport logging\\nfrom ipywidgets import Dropdown\";\n                var nbb_cells = Jupyter.notebook.get_cells();\n                for (var i = 0; i < nbb_cells.length; ++i) {\n                    if (nbb_cells[i].input_prompt_number == nbb_cell_id) {\n                        if (nbb_cells[i].get_text() == nbb_unformatted_code) {\n                             nbb_cells[i].set_text(nbb_formatted_code);\n                        }\n                        break;\n                    }\n                }\n            }, 500);\n            ",
      "text/plain": [
       "<IPython.core.display.Javascript object>"
      ]
     },
     "metadata": {},
     "output_type": "display_data"
    }
   ],
   "source": [
    "import json\n",
    "import pandas as pd\n",
    "import logging\n",
    "from ipywidgets import Dropdown"
   ]
  },
  {
   "cell_type": "code",
   "execution_count": 3,
   "id": "05b1115c",
   "metadata": {},
   "outputs": [
    {
     "name": "stderr",
     "output_type": "stream",
     "text": [
      "/home/thangtran3112/aws-sage-maker/machine-learning/venv/lib/python3.12/site-packages/pydantic/_internal/_fields.py:192: UserWarning: Field name \"json\" in \"MonitoringDatasetFormat\" shadows an attribute in parent \"Base\"\n",
      "  warnings.warn(\n"
     ]
    },
    {
     "data": {
      "text/html": [
       "<pre style=\"white-space:pre;overflow-x:auto;line-height:normal;font-family:Menlo,'DejaVu Sans Mono',consolas,'Courier New',monospace\"><span style=\"color: #7fbfbf; text-decoration-color: #7fbfbf\">[01/12/25 12:20:03] </span><span style=\"color: #0069ff; text-decoration-color: #0069ff; font-weight: bold\">INFO    </span> Found credentials in shared credentials file: ~<span style=\"color: #e100e1; text-decoration-color: #e100e1\">/.aws/credentials</span>   <a href=\"file:///home/thangtran3112/aws-sage-maker/machine-learning/venv/lib/python3.12/site-packages/botocore/credentials.py\" target=\"_blank\"><span style=\"color: #7f7f7f; text-decoration-color: #7f7f7f\">credentials.py</span></a><span style=\"color: #7f7f7f; text-decoration-color: #7f7f7f\">:</span><a href=\"file:///home/thangtran3112/aws-sage-maker/machine-learning/venv/lib/python3.12/site-packages/botocore/credentials.py#1278\" target=\"_blank\"><span style=\"color: #7f7f7f; text-decoration-color: #7f7f7f\">1278</span></a>\n",
       "</pre>\n"
      ],
      "text/plain": [
       "\u001b[2;36m[01/12/25 12:20:03]\u001b[0m\u001b[2;36m \u001b[0m\u001b[1;38;2;0;105;255mINFO    \u001b[0m Found credentials in shared credentials file: ~\u001b[38;2;225;0;225m/.aws/\u001b[0m\u001b[38;2;225;0;225mcredentials\u001b[0m   \u001b]8;id=230742;file:///home/thangtran3112/aws-sage-maker/machine-learning/venv/lib/python3.12/site-packages/botocore/credentials.py\u001b\\\u001b[2mcredentials.py\u001b[0m\u001b]8;;\u001b\\\u001b[2m:\u001b[0m\u001b]8;id=771874;file:///home/thangtran3112/aws-sage-maker/machine-learning/venv/lib/python3.12/site-packages/botocore/credentials.py#1278\u001b\\\u001b[2m1278\u001b[0m\u001b]8;;\u001b\\\n"
      ]
     },
     "metadata": {},
     "output_type": "display_data"
    },
    {
     "name": "stdout",
     "output_type": "stream",
     "text": [
      "sagemaker.config INFO - Not applying SDK defaults from location: /etc/xdg/xdg-ubuntu/sagemaker/config.yaml\n",
      "sagemaker.config INFO - Not applying SDK defaults from location: /home/thangtran3112/.config/sagemaker/config.yaml\n"
     ]
    },
    {
     "data": {
      "application/javascript": "\n            setTimeout(function() {\n                var nbb_cell_id = 3;\n                var nbb_unformatted_code = \"import boto3\\nimport sagemaker\";\n                var nbb_formatted_code = \"import boto3\\nimport sagemaker\";\n                var nbb_cells = Jupyter.notebook.get_cells();\n                for (var i = 0; i < nbb_cells.length; ++i) {\n                    if (nbb_cells[i].input_prompt_number == nbb_cell_id) {\n                        if (nbb_cells[i].get_text() == nbb_unformatted_code) {\n                             nbb_cells[i].set_text(nbb_formatted_code);\n                        }\n                        break;\n                    }\n                }\n            }, 500);\n            ",
      "text/plain": [
       "<IPython.core.display.Javascript object>"
      ]
     },
     "metadata": {},
     "output_type": "display_data"
    }
   ],
   "source": [
    "import boto3\n",
    "import sagemaker"
   ]
  },
  {
   "cell_type": "code",
   "execution_count": 4,
   "id": "82bd278d",
   "metadata": {},
   "outputs": [
    {
     "data": {
      "application/javascript": "\n            setTimeout(function() {\n                var nbb_cell_id = 4;\n                var nbb_unformatted_code = \"boto3.set_stream_logger(name=\\\"botocore.credentials\\\", level=logging.WARNING)\";\n                var nbb_formatted_code = \"boto3.set_stream_logger(name=\\\"botocore.credentials\\\", level=logging.WARNING)\";\n                var nbb_cells = Jupyter.notebook.get_cells();\n                for (var i = 0; i < nbb_cells.length; ++i) {\n                    if (nbb_cells[i].input_prompt_number == nbb_cell_id) {\n                        if (nbb_cells[i].get_text() == nbb_unformatted_code) {\n                             nbb_cells[i].set_text(nbb_formatted_code);\n                        }\n                        break;\n                    }\n                }\n            }, 500);\n            ",
      "text/plain": [
       "<IPython.core.display.Javascript object>"
      ]
     },
     "metadata": {},
     "output_type": "display_data"
    }
   ],
   "source": [
    "boto3.set_stream_logger(name=\"botocore.credentials\", level=logging.WARNING)"
   ]
  },
  {
   "cell_type": "code",
   "execution_count": 5,
   "id": "5019174d",
   "metadata": {},
   "outputs": [
    {
     "name": "stdout",
     "output_type": "stream",
     "text": [
      "us-west-2\n"
     ]
    },
    {
     "data": {
      "application/javascript": "\n            setTimeout(function() {\n                var nbb_cell_id = 5;\n                var nbb_unformatted_code = \"sess = sagemaker.Session()\\nregion = sess.boto_region_name\\nprint(region)\";\n                var nbb_formatted_code = \"sess = sagemaker.Session()\\nregion = sess.boto_region_name\\nprint(region)\";\n                var nbb_cells = Jupyter.notebook.get_cells();\n                for (var i = 0; i < nbb_cells.length; ++i) {\n                    if (nbb_cells[i].input_prompt_number == nbb_cell_id) {\n                        if (nbb_cells[i].get_text() == nbb_unformatted_code) {\n                             nbb_cells[i].set_text(nbb_formatted_code);\n                        }\n                        break;\n                    }\n                }\n            }, 500);\n            ",
      "text/plain": [
       "<IPython.core.display.Javascript object>"
      ]
     },
     "metadata": {},
     "output_type": "display_data"
    }
   ],
   "source": [
    "sess = sagemaker.Session()\n",
    "region = sess.boto_region_name\n",
    "print(region)"
   ]
  },
  {
   "cell_type": "code",
   "execution_count": 31,
   "id": "3906511a",
   "metadata": {},
   "outputs": [
    {
     "name": "stdout",
     "output_type": "stream",
     "text": [
      "number of models:  10433\n"
     ]
    },
    {
     "data": {
      "application/javascript": "\n            setTimeout(function() {\n                var nbb_cell_id = 31;\n                var nbb_unformatted_code = \"# download JumpStart model_manifest file. https://docs.aws.amazon.com/sagemaker/latest/dg/jumpstart-deploy.html\\nboto3.client(\\\"s3\\\").download_file(\\n    f\\\"jumpstart-cache-prod-{region}\\\", \\\"models_manifest.json\\\", \\\"models_manifest.json\\\"\\n)\\nwith open(\\\"models_manifest.json\\\", \\\"rb\\\") as json_file:\\n    model_list = json.load(json_file)\\n\\nprint(\\\"number of models: \\\", len(model_list))\";\n                var nbb_formatted_code = \"# download JumpStart model_manifest file. https://docs.aws.amazon.com/sagemaker/latest/dg/jumpstart-deploy.html\\nboto3.client(\\\"s3\\\").download_file(\\n    f\\\"jumpstart-cache-prod-{region}\\\", \\\"models_manifest.json\\\", \\\"models_manifest.json\\\"\\n)\\nwith open(\\\"models_manifest.json\\\", \\\"rb\\\") as json_file:\\n    model_list = json.load(json_file)\\n\\nprint(\\\"number of models: \\\", len(model_list))\";\n                var nbb_cells = Jupyter.notebook.get_cells();\n                for (var i = 0; i < nbb_cells.length; ++i) {\n                    if (nbb_cells[i].input_prompt_number == nbb_cell_id) {\n                        if (nbb_cells[i].get_text() == nbb_unformatted_code) {\n                             nbb_cells[i].set_text(nbb_formatted_code);\n                        }\n                        break;\n                    }\n                }\n            }, 500);\n            ",
      "text/plain": [
       "<IPython.core.display.Javascript object>"
      ]
     },
     "metadata": {},
     "output_type": "display_data"
    }
   ],
   "source": [
    "# download JumpStart model_manifest file. https://docs.aws.amazon.com/sagemaker/latest/dg/jumpstart-deploy.html\n",
    "boto3.client(\"s3\").download_file(\n",
    "    f\"jumpstart-cache-prod-{region}\", \"models_manifest.json\", \"models_manifest.json\"\n",
    ")\n",
    "with open(\"models_manifest.json\", \"rb\") as json_file:\n",
    "    model_list = json.load(json_file)\n",
    "\n",
    "print(\"number of models: \", len(model_list))"
   ]
  },
  {
   "cell_type": "code",
   "execution_count": 32,
   "id": "0dfaf25a",
   "metadata": {},
   "outputs": [
    {
     "data": {
      "text/html": [
       "<div>\n",
       "<style scoped>\n",
       "    .dataframe tbody tr th:only-of-type {\n",
       "        vertical-align: middle;\n",
       "    }\n",
       "\n",
       "    .dataframe tbody tr th {\n",
       "        vertical-align: top;\n",
       "    }\n",
       "\n",
       "    .dataframe thead th {\n",
       "        text-align: right;\n",
       "    }\n",
       "</style>\n",
       "<table border=\"1\" class=\"dataframe\">\n",
       "  <thead>\n",
       "    <tr style=\"text-align: right;\">\n",
       "      <th></th>\n",
       "      <th>model_id</th>\n",
       "      <th>version</th>\n",
       "      <th>min_version</th>\n",
       "      <th>spec_key</th>\n",
       "      <th>search_keywords</th>\n",
       "    </tr>\n",
       "  </thead>\n",
       "  <tbody>\n",
       "    <tr>\n",
       "      <th>4626</th>\n",
       "      <td>meta-textgeneration-llama-codellama-7b-python</td>\n",
       "      <td>2.1.0</td>\n",
       "      <td>2.198.0</td>\n",
       "      <td>community_models/meta-textgeneration-llama-cod...</td>\n",
       "      <td>NaN</td>\n",
       "    </tr>\n",
       "    <tr>\n",
       "      <th>4237</th>\n",
       "      <td>meta-textgeneration-llama-3-1-8b</td>\n",
       "      <td>2.4.0</td>\n",
       "      <td>2.232.1</td>\n",
       "      <td>community_models/meta-textgeneration-llama-3-1...</td>\n",
       "      <td>NaN</td>\n",
       "    </tr>\n",
       "    <tr>\n",
       "      <th>8153</th>\n",
       "      <td>tensorflow-ic-swin-tiny-patch4-window7-224</td>\n",
       "      <td>2.0.4</td>\n",
       "      <td>2.189.0</td>\n",
       "      <td>community_models/tensorflow-ic-swin-tiny-patch...</td>\n",
       "      <td>NaN</td>\n",
       "    </tr>\n",
       "    <tr>\n",
       "      <th>1029</th>\n",
       "      <td>huggingface-llm-openlm-research-open-llama-7b-v2</td>\n",
       "      <td>1.1.3</td>\n",
       "      <td>2.189.0</td>\n",
       "      <td>community_models/huggingface-llm-openlm-resear...</td>\n",
       "      <td>NaN</td>\n",
       "    </tr>\n",
       "    <tr>\n",
       "      <th>3151</th>\n",
       "      <td>huggingface-txt2img-fictiverse-stable-diffusio...</td>\n",
       "      <td>2.0.5</td>\n",
       "      <td>2.189.0</td>\n",
       "      <td>community_models/huggingface-txt2img-fictivers...</td>\n",
       "      <td>[Text, Text to image, Foundation Models]</td>\n",
       "    </tr>\n",
       "    <tr>\n",
       "      <th>9549</th>\n",
       "      <td>tensorflow-od1-ssd-resnet50-v1-fpn-640x640-coc...</td>\n",
       "      <td>1.1.0</td>\n",
       "      <td>2.129.0</td>\n",
       "      <td>community_models/tensorflow-od1-ssd-resnet50-v...</td>\n",
       "      <td>NaN</td>\n",
       "    </tr>\n",
       "    <tr>\n",
       "      <th>3798</th>\n",
       "      <td>huggingface-zstc-emrecan-distilbert-base-turki...</td>\n",
       "      <td>2.0.3</td>\n",
       "      <td>2.189.0</td>\n",
       "      <td>community_models/huggingface-zstc-emrecan-dist...</td>\n",
       "      <td>NaN</td>\n",
       "    </tr>\n",
       "    <tr>\n",
       "      <th>5875</th>\n",
       "      <td>pytorch-ic-wide-resnet50-2</td>\n",
       "      <td>1.0.0</td>\n",
       "      <td>2.75.0</td>\n",
       "      <td>community_models/pytorch-ic-wide-resnet50-2/sp...</td>\n",
       "      <td>NaN</td>\n",
       "    </tr>\n",
       "    <tr>\n",
       "      <th>5163</th>\n",
       "      <td>mxnet-od-ssd-512-vgg16-atrous-coco</td>\n",
       "      <td>2.0.5</td>\n",
       "      <td>2.189.0</td>\n",
       "      <td>community_models/mxnet-od-ssd-512-vgg16-atrous...</td>\n",
       "      <td>[Vision, Object Detection]</td>\n",
       "    </tr>\n",
       "    <tr>\n",
       "      <th>4227</th>\n",
       "      <td>meta-textgeneration-llama-3-1-70b-instruct</td>\n",
       "      <td>2.2.3</td>\n",
       "      <td>2.225.0</td>\n",
       "      <td>community_models/meta-textgeneration-llama-3-1...</td>\n",
       "      <td>NaN</td>\n",
       "    </tr>\n",
       "    <tr>\n",
       "      <th>6470</th>\n",
       "      <td>tensorflow-ic-deit-base-distilled-patch16-384</td>\n",
       "      <td>2.0.1</td>\n",
       "      <td>2.189.0</td>\n",
       "      <td>community_models/tensorflow-ic-deit-base-disti...</td>\n",
       "      <td>NaN</td>\n",
       "    </tr>\n",
       "    <tr>\n",
       "      <th>450</th>\n",
       "      <td>huggingface-llm-eleutherai-gpt-neo-1-3b</td>\n",
       "      <td>1.2.3</td>\n",
       "      <td>2.189.0</td>\n",
       "      <td>community_models/huggingface-llm-eleutherai-gp...</td>\n",
       "      <td>NaN</td>\n",
       "    </tr>\n",
       "    <tr>\n",
       "      <th>377</th>\n",
       "      <td>huggingface-llm-calm2-7b-chat-bf16</td>\n",
       "      <td>1.0.1</td>\n",
       "      <td>2.189.0</td>\n",
       "      <td>community_models/huggingface-llm-calm2-7b-chat...</td>\n",
       "      <td>NaN</td>\n",
       "    </tr>\n",
       "    <tr>\n",
       "      <th>633</th>\n",
       "      <td>huggingface-llm-falcon-7b-instruct-bf16</td>\n",
       "      <td>2.0.1</td>\n",
       "      <td>2.189.0</td>\n",
       "      <td>community_models/huggingface-llm-falcon-7b-ins...</td>\n",
       "      <td>NaN</td>\n",
       "    </tr>\n",
       "    <tr>\n",
       "      <th>4656</th>\n",
       "      <td>meta-textgenerationneuron-llama-2-13b</td>\n",
       "      <td>1.2.6</td>\n",
       "      <td>2.198.0</td>\n",
       "      <td>community_models/meta-textgenerationneuron-lla...</td>\n",
       "      <td>[Text Generation]</td>\n",
       "    </tr>\n",
       "    <tr>\n",
       "      <th>1384</th>\n",
       "      <td>huggingface-sentencesimilarity-bge-large-zh-v1-5</td>\n",
       "      <td>1.1.0</td>\n",
       "      <td>2.189.0</td>\n",
       "      <td>community_models/huggingface-sentencesimilarit...</td>\n",
       "      <td>NaN</td>\n",
       "    </tr>\n",
       "    <tr>\n",
       "      <th>9957</th>\n",
       "      <td>tensorflow-tc-small-bert-bert-en-uncased-L-4-H...</td>\n",
       "      <td>1.0.0</td>\n",
       "      <td>2.80.0</td>\n",
       "      <td>community_models/tensorflow-tc-small-bert-bert...</td>\n",
       "      <td>NaN</td>\n",
       "    </tr>\n",
       "    <tr>\n",
       "      <th>2400</th>\n",
       "      <td>huggingface-textgeneration-bloom-560m</td>\n",
       "      <td>1.2.1</td>\n",
       "      <td>2.144.0</td>\n",
       "      <td>community_models/huggingface-textgeneration-bl...</td>\n",
       "      <td>NaN</td>\n",
       "    </tr>\n",
       "    <tr>\n",
       "      <th>6666</th>\n",
       "      <td>tensorflow-ic-efficientnet-b5-classification-1</td>\n",
       "      <td>2.0.3</td>\n",
       "      <td>2.80.0</td>\n",
       "      <td>community_models/tensorflow-ic-efficientnet-b5...</td>\n",
       "      <td>NaN</td>\n",
       "    </tr>\n",
       "    <tr>\n",
       "      <th>5282</th>\n",
       "      <td>mxnet-semseg-fcn-resnet101-voc</td>\n",
       "      <td>1.3.1</td>\n",
       "      <td>2.75.0</td>\n",
       "      <td>community_models/mxnet-semseg-fcn-resnet101-vo...</td>\n",
       "      <td>NaN</td>\n",
       "    </tr>\n",
       "  </tbody>\n",
       "</table>\n",
       "</div>"
      ],
      "text/plain": [
       "                                               model_id version min_version  \\\n",
       "4626      meta-textgeneration-llama-codellama-7b-python   2.1.0     2.198.0   \n",
       "4237                   meta-textgeneration-llama-3-1-8b   2.4.0     2.232.1   \n",
       "8153         tensorflow-ic-swin-tiny-patch4-window7-224   2.0.4     2.189.0   \n",
       "1029   huggingface-llm-openlm-research-open-llama-7b-v2   1.1.3     2.189.0   \n",
       "3151  huggingface-txt2img-fictiverse-stable-diffusio...   2.0.5     2.189.0   \n",
       "9549  tensorflow-od1-ssd-resnet50-v1-fpn-640x640-coc...   1.1.0     2.129.0   \n",
       "3798  huggingface-zstc-emrecan-distilbert-base-turki...   2.0.3     2.189.0   \n",
       "5875                         pytorch-ic-wide-resnet50-2   1.0.0      2.75.0   \n",
       "5163                 mxnet-od-ssd-512-vgg16-atrous-coco   2.0.5     2.189.0   \n",
       "4227         meta-textgeneration-llama-3-1-70b-instruct   2.2.3     2.225.0   \n",
       "6470      tensorflow-ic-deit-base-distilled-patch16-384   2.0.1     2.189.0   \n",
       "450             huggingface-llm-eleutherai-gpt-neo-1-3b   1.2.3     2.189.0   \n",
       "377                  huggingface-llm-calm2-7b-chat-bf16   1.0.1     2.189.0   \n",
       "633             huggingface-llm-falcon-7b-instruct-bf16   2.0.1     2.189.0   \n",
       "4656              meta-textgenerationneuron-llama-2-13b   1.2.6     2.198.0   \n",
       "1384   huggingface-sentencesimilarity-bge-large-zh-v1-5   1.1.0     2.189.0   \n",
       "9957  tensorflow-tc-small-bert-bert-en-uncased-L-4-H...   1.0.0      2.80.0   \n",
       "2400              huggingface-textgeneration-bloom-560m   1.2.1     2.144.0   \n",
       "6666     tensorflow-ic-efficientnet-b5-classification-1   2.0.3      2.80.0   \n",
       "5282                     mxnet-semseg-fcn-resnet101-voc   1.3.1      2.75.0   \n",
       "\n",
       "                                               spec_key  \\\n",
       "4626  community_models/meta-textgeneration-llama-cod...   \n",
       "4237  community_models/meta-textgeneration-llama-3-1...   \n",
       "8153  community_models/tensorflow-ic-swin-tiny-patch...   \n",
       "1029  community_models/huggingface-llm-openlm-resear...   \n",
       "3151  community_models/huggingface-txt2img-fictivers...   \n",
       "9549  community_models/tensorflow-od1-ssd-resnet50-v...   \n",
       "3798  community_models/huggingface-zstc-emrecan-dist...   \n",
       "5875  community_models/pytorch-ic-wide-resnet50-2/sp...   \n",
       "5163  community_models/mxnet-od-ssd-512-vgg16-atrous...   \n",
       "4227  community_models/meta-textgeneration-llama-3-1...   \n",
       "6470  community_models/tensorflow-ic-deit-base-disti...   \n",
       "450   community_models/huggingface-llm-eleutherai-gp...   \n",
       "377   community_models/huggingface-llm-calm2-7b-chat...   \n",
       "633   community_models/huggingface-llm-falcon-7b-ins...   \n",
       "4656  community_models/meta-textgenerationneuron-lla...   \n",
       "1384  community_models/huggingface-sentencesimilarit...   \n",
       "9957  community_models/tensorflow-tc-small-bert-bert...   \n",
       "2400  community_models/huggingface-textgeneration-bl...   \n",
       "6666  community_models/tensorflow-ic-efficientnet-b5...   \n",
       "5282  community_models/mxnet-semseg-fcn-resnet101-vo...   \n",
       "\n",
       "                               search_keywords  \n",
       "4626                                       NaN  \n",
       "4237                                       NaN  \n",
       "8153                                       NaN  \n",
       "1029                                       NaN  \n",
       "3151  [Text, Text to image, Foundation Models]  \n",
       "9549                                       NaN  \n",
       "3798                                       NaN  \n",
       "5875                                       NaN  \n",
       "5163                [Vision, Object Detection]  \n",
       "4227                                       NaN  \n",
       "6470                                       NaN  \n",
       "450                                        NaN  \n",
       "377                                        NaN  \n",
       "633                                        NaN  \n",
       "4656                         [Text Generation]  \n",
       "1384                                       NaN  \n",
       "9957                                       NaN  \n",
       "2400                                       NaN  \n",
       "6666                                       NaN  \n",
       "5282                                       NaN  "
      ]
     },
     "execution_count": 32,
     "metadata": {},
     "output_type": "execute_result"
    },
    {
     "data": {
      "application/javascript": "\n            setTimeout(function() {\n                var nbb_cell_id = 32;\n                var nbb_unformatted_code = \"model_df = pd.DataFrame(model_list)\\nmodel_df.sample(20)\";\n                var nbb_formatted_code = \"model_df = pd.DataFrame(model_list)\\nmodel_df.sample(20)\";\n                var nbb_cells = Jupyter.notebook.get_cells();\n                for (var i = 0; i < nbb_cells.length; ++i) {\n                    if (nbb_cells[i].input_prompt_number == nbb_cell_id) {\n                        if (nbb_cells[i].get_text() == nbb_unformatted_code) {\n                             nbb_cells[i].set_text(nbb_formatted_code);\n                        }\n                        break;\n                    }\n                }\n            }, 500);\n            ",
      "text/plain": [
       "<IPython.core.display.Javascript object>"
      ]
     },
     "metadata": {},
     "output_type": "display_data"
    }
   ],
   "source": [
    "model_df = pd.DataFrame(model_list)\n",
    "model_df.sample(20)"
   ]
  },
  {
   "cell_type": "code",
   "execution_count": 34,
   "id": "98dbecee",
   "metadata": {},
   "outputs": [
    {
     "name": "stdout",
     "output_type": "stream",
     "text": [
      "Number of od models available for inference: 70\n"
     ]
    },
    {
     "data": {
      "application/javascript": "\n            setTimeout(function() {\n                var nbb_cell_id = 34;\n                var nbb_unformatted_code = \"# filter-out all the Object Detection models from the manifest list.\\nod_models = []\\nfor model in model_list:\\n    model_id = model[\\\"model_id\\\"]\\n    if (\\\"-od-\\\" in model_id or \\\"-od1-\\\" in model_id) and model_id not in od_models:\\n        od_models.append(model_id)\\n\\nprint(f\\\"Number of od models available for inference: {len(od_models)}\\\")\";\n                var nbb_formatted_code = \"# filter-out all the Object Detection models from the manifest list.\\nod_models = []\\nfor model in model_list:\\n    model_id = model[\\\"model_id\\\"]\\n    if (\\\"-od-\\\" in model_id or \\\"-od1-\\\" in model_id) and model_id not in od_models:\\n        od_models.append(model_id)\\n\\nprint(f\\\"Number of od models available for inference: {len(od_models)}\\\")\";\n                var nbb_cells = Jupyter.notebook.get_cells();\n                for (var i = 0; i < nbb_cells.length; ++i) {\n                    if (nbb_cells[i].input_prompt_number == nbb_cell_id) {\n                        if (nbb_cells[i].get_text() == nbb_unformatted_code) {\n                             nbb_cells[i].set_text(nbb_formatted_code);\n                        }\n                        break;\n                    }\n                }\n            }, 500);\n            ",
      "text/plain": [
       "<IPython.core.display.Javascript object>"
      ]
     },
     "metadata": {},
     "output_type": "display_data"
    }
   ],
   "source": [
    "# filter-out all the Object Detection models from the manifest list.\n",
    "od_models = []\n",
    "for model in model_list:\n",
    "    model_id = model[\"model_id\"]\n",
    "    if (\"-od-\" in model_id or \"-od1-\" in model_id) and model_id not in od_models:\n",
    "        od_models.append(model_id)\n",
    "\n",
    "print(f\"Number of od models available for inference: {len(od_models)}\")"
   ]
  },
  {
   "cell_type": "code",
   "execution_count": 35,
   "id": "c8b7383b",
   "metadata": {},
   "outputs": [
    {
     "data": {
      "text/plain": [
       "['pytorch-od-nvidia-ssd']"
      ]
     },
     "execution_count": 35,
     "metadata": {},
     "output_type": "execute_result"
    },
    {
     "data": {
      "application/javascript": "\n            setTimeout(function() {\n                var nbb_cell_id = 35;\n                var nbb_unformatted_code = \"pytorch_nvidia_models = []\\nfor model_id in od_models:\\n    if \\\"nvidia\\\" in model_id:\\n        pytorch_nvidia_models.append(model_id)\\npytorch_nvidia_models\";\n                var nbb_formatted_code = \"pytorch_nvidia_models = []\\nfor model_id in od_models:\\n    if \\\"nvidia\\\" in model_id:\\n        pytorch_nvidia_models.append(model_id)\\npytorch_nvidia_models\";\n                var nbb_cells = Jupyter.notebook.get_cells();\n                for (var i = 0; i < nbb_cells.length; ++i) {\n                    if (nbb_cells[i].input_prompt_number == nbb_cell_id) {\n                        if (nbb_cells[i].get_text() == nbb_unformatted_code) {\n                             nbb_cells[i].set_text(nbb_formatted_code);\n                        }\n                        break;\n                    }\n                }\n            }, 500);\n            ",
      "text/plain": [
       "<IPython.core.display.Javascript object>"
      ]
     },
     "metadata": {},
     "output_type": "display_data"
    }
   ],
   "source": [
    "pytorch_nvidia_models = []\n",
    "for model_id in od_models:\n",
    "    if \"nvidia\" in model_id:\n",
    "        pytorch_nvidia_models.append(model_id)\n",
    "pytorch_nvidia_models"
   ]
  },
  {
   "cell_type": "code",
   "execution_count": 36,
   "id": "c54f827d",
   "metadata": {},
   "outputs": [
    {
     "data": {
      "application/javascript": "\n            setTimeout(function() {\n                var nbb_cell_id = 36;\n                var nbb_unformatted_code = \"# display the model-ids in a dropdown to select a model for inference.\\ninfer_model_dropdown = Dropdown(\\n    options=od_models,\\n    value=pytorch_nvidia_models[0],\\n    description=\\\"Select a model:\\\",\\n    style={\\\"description_width\\\": \\\"initial\\\"},\\n    layout={\\\"width\\\": \\\"max-content\\\"},\\n)\";\n                var nbb_formatted_code = \"# display the model-ids in a dropdown to select a model for inference.\\ninfer_model_dropdown = Dropdown(\\n    options=od_models,\\n    value=pytorch_nvidia_models[0],\\n    description=\\\"Select a model:\\\",\\n    style={\\\"description_width\\\": \\\"initial\\\"},\\n    layout={\\\"width\\\": \\\"max-content\\\"},\\n)\";\n                var nbb_cells = Jupyter.notebook.get_cells();\n                for (var i = 0; i < nbb_cells.length; ++i) {\n                    if (nbb_cells[i].input_prompt_number == nbb_cell_id) {\n                        if (nbb_cells[i].get_text() == nbb_unformatted_code) {\n                             nbb_cells[i].set_text(nbb_formatted_code);\n                        }\n                        break;\n                    }\n                }\n            }, 500);\n            ",
      "text/plain": [
       "<IPython.core.display.Javascript object>"
      ]
     },
     "metadata": {},
     "output_type": "display_data"
    }
   ],
   "source": [
    "# display the model-ids in a dropdown to select a model for inference.\n",
    "infer_model_dropdown = Dropdown(\n",
    "    options=od_models,\n",
    "    value=pytorch_nvidia_models[0],\n",
    "    description=\"Select a model:\",\n",
    "    style={\"description_width\": \"initial\"},\n",
    "    layout={\"width\": \"max-content\"},\n",
    ")"
   ]
  },
  {
   "cell_type": "markdown",
   "id": "fb5b0a80",
   "metadata": {},
   "source": [
    "## Not all models can be fine-tuned or transfer learning\n",
    "For the list of fine-tunable models, please visit: https://sagemaker.readthedocs.io/en/stable/doc_utils/pretrainedmodels.html#built-in-algorithms-with-pre-trained-model-table"
   ]
  },
  {
   "cell_type": "code",
   "execution_count": 24,
   "id": "7c5690e5",
   "metadata": {},
   "outputs": [
    {
     "data": {
      "application/vnd.jupyter.widget-view+json": {
       "model_id": "9842659d61114671a4851dc9d5af29cf",
       "version_major": 2,
       "version_minor": 0
      },
      "text/plain": [
       "Dropdown(description='Select a model:', index=17, layout=Layout(width='max-content'), options=('mxnet-od-faste…"
      ]
     },
     "metadata": {},
     "output_type": "display_data"
    },
    {
     "data": {
      "application/javascript": "\n            setTimeout(function() {\n                var nbb_cell_id = 24;\n                var nbb_unformatted_code = \"display(infer_model_dropdown)\";\n                var nbb_formatted_code = \"display(infer_model_dropdown)\";\n                var nbb_cells = Jupyter.notebook.get_cells();\n                for (var i = 0; i < nbb_cells.length; ++i) {\n                    if (nbb_cells[i].input_prompt_number == nbb_cell_id) {\n                        if (nbb_cells[i].get_text() == nbb_unformatted_code) {\n                             nbb_cells[i].set_text(nbb_formatted_code);\n                        }\n                        break;\n                    }\n                }\n            }, 500);\n            ",
      "text/plain": [
       "<IPython.core.display.Javascript object>"
      ]
     },
     "metadata": {},
     "output_type": "display_data"
    }
   ],
   "source": [
    "display(infer_model_dropdown)\n"
   ]
  },
  {
   "cell_type": "code",
   "execution_count": 25,
   "id": "49017344",
   "metadata": {},
   "outputs": [
    {
     "name": "stdout",
     "output_type": "stream",
     "text": [
      "pytorch-od-nvidia-ssd\n"
     ]
    },
    {
     "data": {
      "application/javascript": "\n            setTimeout(function() {\n                var nbb_cell_id = 25;\n                var nbb_unformatted_code = \"print(infer_model_dropdown.value)\";\n                var nbb_formatted_code = \"print(infer_model_dropdown.value)\";\n                var nbb_cells = Jupyter.notebook.get_cells();\n                for (var i = 0; i < nbb_cells.length; ++i) {\n                    if (nbb_cells[i].input_prompt_number == nbb_cell_id) {\n                        if (nbb_cells[i].get_text() == nbb_unformatted_code) {\n                             nbb_cells[i].set_text(nbb_formatted_code);\n                        }\n                        break;\n                    }\n                }\n            }, 500);\n            ",
      "text/plain": [
       "<IPython.core.display.Javascript object>"
      ]
     },
     "metadata": {},
     "output_type": "display_data"
    }
   ],
   "source": [
    "print(infer_model_dropdown.value)"
   ]
  },
  {
   "cell_type": "code",
   "execution_count": 38,
   "id": "5e3e00d8",
   "metadata": {},
   "outputs": [
    {
     "name": "stdout",
     "output_type": "stream",
     "text": [
      "Number of ic models available for inference: 162\n"
     ]
    },
    {
     "data": {
      "application/javascript": "\n            setTimeout(function() {\n                var nbb_cell_id = 38;\n                var nbb_unformatted_code = \"# filter-out all the Image Classification models from the manifest list.\\nimage_classification_models = []\\nfor model in model_list:\\n    model_id = model[\\\"model_id\\\"]\\n    if (\\\"-ic-\\\" in model_id) and model_id not in image_classification_models:\\n        image_classification_models.append(model_id)\\n\\nprint(f\\\"Number of ic models available for inference: {len(image_classification_models)}\\\")\";\n                var nbb_formatted_code = \"# filter-out all the Image Classification models from the manifest list.\\nimage_classification_models = []\\nfor model in model_list:\\n    model_id = model[\\\"model_id\\\"]\\n    if (\\\"-ic-\\\" in model_id) and model_id not in image_classification_models:\\n        image_classification_models.append(model_id)\\n\\nprint(\\n    f\\\"Number of ic models available for inference: {len(image_classification_models)}\\\"\\n)\";\n                var nbb_cells = Jupyter.notebook.get_cells();\n                for (var i = 0; i < nbb_cells.length; ++i) {\n                    if (nbb_cells[i].input_prompt_number == nbb_cell_id) {\n                        if (nbb_cells[i].get_text() == nbb_unformatted_code) {\n                             nbb_cells[i].set_text(nbb_formatted_code);\n                        }\n                        break;\n                    }\n                }\n            }, 500);\n            ",
      "text/plain": [
       "<IPython.core.display.Javascript object>"
      ]
     },
     "metadata": {},
     "output_type": "display_data"
    }
   ],
   "source": [
    "# filter-out all the Image Classification models from the manifest list.\n",
    "image_classification_models = []\n",
    "for model in model_list:\n",
    "    model_id = model[\"model_id\"]\n",
    "    if (\"-ic-\" in model_id) and model_id not in image_classification_models:\n",
    "        image_classification_models.append(model_id)\n",
    "\n",
    "print(f\"Number of ic models available for inference: {len(image_classification_models)}\")"
   ]
  },
  {
   "cell_type": "code",
   "execution_count": 39,
   "id": "c8308367",
   "metadata": {},
   "outputs": [
    {
     "data": {
      "application/javascript": "\n            setTimeout(function() {\n                var nbb_cell_id = 39;\n                var nbb_unformatted_code = \"# display the model-ids in a dropdown to select a model for inference.\\ninfer_model_dropdown = Dropdown(\\n    options=image_classification_models,\\n    value=\\\"pytorch-ic-alexnet\\\",\\n    description=\\\"Select a model:\\\",\\n    style={\\\"description_width\\\": \\\"initial\\\"},\\n    layout={\\\"width\\\": \\\"max-content\\\"},\\n)\";\n                var nbb_formatted_code = \"# display the model-ids in a dropdown to select a model for inference.\\ninfer_model_dropdown = Dropdown(\\n    options=image_classification_models,\\n    value=\\\"pytorch-ic-alexnet\\\",\\n    description=\\\"Select a model:\\\",\\n    style={\\\"description_width\\\": \\\"initial\\\"},\\n    layout={\\\"width\\\": \\\"max-content\\\"},\\n)\";\n                var nbb_cells = Jupyter.notebook.get_cells();\n                for (var i = 0; i < nbb_cells.length; ++i) {\n                    if (nbb_cells[i].input_prompt_number == nbb_cell_id) {\n                        if (nbb_cells[i].get_text() == nbb_unformatted_code) {\n                             nbb_cells[i].set_text(nbb_formatted_code);\n                        }\n                        break;\n                    }\n                }\n            }, 500);\n            ",
      "text/plain": [
       "<IPython.core.display.Javascript object>"
      ]
     },
     "metadata": {},
     "output_type": "display_data"
    }
   ],
   "source": [
    "# display the model-ids in a dropdown to select a model for inference.\n",
    "infer_model_dropdown = Dropdown(\n",
    "    options=image_classification_models,\n",
    "    value=\"pytorch-ic-alexnet\",\n",
    "    description=\"Select a model:\",\n",
    "    style={\"description_width\": \"initial\"},\n",
    "    layout={\"width\": \"max-content\"},\n",
    ")"
   ]
  },
  {
   "cell_type": "code",
   "execution_count": 40,
   "id": "994247f0",
   "metadata": {},
   "outputs": [
    {
     "data": {
      "application/vnd.jupyter.widget-view+json": {
       "model_id": "743ffa5e9d2647fd8f092fbcdf5b3342",
       "version_major": 2,
       "version_minor": 0
      },
      "text/plain": [
       "Dropdown(description='Select a model:', layout=Layout(width='max-content'), options=('pytorch-ic-alexnet', 'py…"
      ]
     },
     "metadata": {},
     "output_type": "display_data"
    },
    {
     "data": {
      "application/javascript": "\n            setTimeout(function() {\n                var nbb_cell_id = 40;\n                var nbb_unformatted_code = \"display(infer_model_dropdown)\";\n                var nbb_formatted_code = \"display(infer_model_dropdown)\";\n                var nbb_cells = Jupyter.notebook.get_cells();\n                for (var i = 0; i < nbb_cells.length; ++i) {\n                    if (nbb_cells[i].input_prompt_number == nbb_cell_id) {\n                        if (nbb_cells[i].get_text() == nbb_unformatted_code) {\n                             nbb_cells[i].set_text(nbb_formatted_code);\n                        }\n                        break;\n                    }\n                }\n            }, 500);\n            ",
      "text/plain": [
       "<IPython.core.display.Javascript object>"
      ]
     },
     "metadata": {},
     "output_type": "display_data"
    }
   ],
   "source": [
    "display(infer_model_dropdown)"
   ]
  },
  {
   "cell_type": "code",
   "execution_count": 41,
   "id": "adaaab3f",
   "metadata": {},
   "outputs": [
    {
     "name": "stdout",
     "output_type": "stream",
     "text": [
      "pytorch-ic-alexnet\n"
     ]
    },
    {
     "data": {
      "application/javascript": "\n            setTimeout(function() {\n                var nbb_cell_id = 41;\n                var nbb_unformatted_code = \"print(infer_model_dropdown.value)\";\n                var nbb_formatted_code = \"print(infer_model_dropdown.value)\";\n                var nbb_cells = Jupyter.notebook.get_cells();\n                for (var i = 0; i < nbb_cells.length; ++i) {\n                    if (nbb_cells[i].input_prompt_number == nbb_cell_id) {\n                        if (nbb_cells[i].get_text() == nbb_unformatted_code) {\n                             nbb_cells[i].set_text(nbb_formatted_code);\n                        }\n                        break;\n                    }\n                }\n            }, 500);\n            ",
      "text/plain": [
       "<IPython.core.display.Javascript object>"
      ]
     },
     "metadata": {},
     "output_type": "display_data"
    }
   ],
   "source": [
    "print(infer_model_dropdown.value)"
   ]
  }
 ],
 "metadata": {
  "kernelspec": {
   "display_name": "Python 3",
   "language": "python",
   "name": "python3"
  },
  "language_info": {
   "codemirror_mode": {
    "name": "ipython",
    "version": 3
   },
   "file_extension": ".py",
   "mimetype": "text/x-python",
   "name": "python",
   "nbconvert_exporter": "python",
   "pygments_lexer": "ipython3",
   "version": "3.12.3"
  },
  "toc": {
   "base_numbering": 1,
   "nav_menu": {},
   "number_sections": true,
   "sideBar": true,
   "skip_h1_title": false,
   "title_cell": "Table of Contents",
   "title_sidebar": "Contents",
   "toc_cell": false,
   "toc_position": {},
   "toc_section_display": true,
   "toc_window_display": false
  }
 },
 "nbformat": 4,
 "nbformat_minor": 5
}
