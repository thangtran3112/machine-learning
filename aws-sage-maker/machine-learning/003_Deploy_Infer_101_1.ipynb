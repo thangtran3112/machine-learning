{
 "cells": [
  {
   "cell_type": "code",
   "execution_count": 1,
   "metadata": {},
   "outputs": [
    {
     "data": {
      "application/javascript": "\n            setTimeout(function() {\n                var nbb_cell_id = 1;\n                var nbb_unformatted_code = \"%load_ext nb_black\";\n                var nbb_formatted_code = \"%load_ext nb_black\";\n                var nbb_cells = Jupyter.notebook.get_cells();\n                for (var i = 0; i < nbb_cells.length; ++i) {\n                    if (nbb_cells[i].input_prompt_number == nbb_cell_id) {\n                        if (nbb_cells[i].get_text() == nbb_unformatted_code) {\n                             nbb_cells[i].set_text(nbb_formatted_code);\n                        }\n                        break;\n                    }\n                }\n            }, 500);\n            ",
      "text/plain": [
       "<IPython.core.display.Javascript object>"
      ]
     },
     "metadata": {},
     "output_type": "display_data"
    }
   ],
   "source": [
    "%load_ext nb_black"
   ]
  },
  {
   "cell_type": "code",
   "execution_count": 2,
   "metadata": {},
   "outputs": [
    {
     "data": {
      "application/javascript": "\n            setTimeout(function() {\n                var nbb_cell_id = 2;\n                var nbb_unformatted_code = \"import io\\nfrom datetime import datetime\\nimport logging\\nimport pandas as pd\";\n                var nbb_formatted_code = \"import io\\nfrom datetime import datetime\\nimport logging\\nimport pandas as pd\";\n                var nbb_cells = Jupyter.notebook.get_cells();\n                for (var i = 0; i < nbb_cells.length; ++i) {\n                    if (nbb_cells[i].input_prompt_number == nbb_cell_id) {\n                        if (nbb_cells[i].get_text() == nbb_unformatted_code) {\n                             nbb_cells[i].set_text(nbb_formatted_code);\n                        }\n                        break;\n                    }\n                }\n            }, 500);\n            ",
      "text/plain": [
       "<IPython.core.display.Javascript object>"
      ]
     },
     "metadata": {},
     "output_type": "display_data"
    }
   ],
   "source": [
    "import io\n",
    "from datetime import datetime\n",
    "import logging\n",
    "import pandas as pd"
   ]
  },
  {
   "cell_type": "code",
   "execution_count": 3,
   "metadata": {},
   "outputs": [
    {
     "name": "stdout",
     "output_type": "stream",
     "text": [
      "S3_BUCKET: sgmkr-thangtran3112\n",
      "REGION: us-west-2\n",
      "SAGE_MAKER_LOCAL_ROLE: arn:aws:iam::654654352356:role/service-role/AmazonSageMaker-ExecutionRole-20250111T085887\n"
     ]
    },
    {
     "data": {
      "application/javascript": "\n            setTimeout(function() {\n                var nbb_cell_id = 3;\n                var nbb_unformatted_code = \"import os\\nfrom dotenv import load_dotenv\\nload_dotenv()\\n# Define the bucket name and region\\nS3_BUCKET = os.getenv(\\\"S3_BUCKET\\\")\\nS3_PREFIX = os.getenv(\\\"S3_PREFIX\\\")\\nREGION = os.getenv(\\\"REGION\\\")\\nSAGE_MAKER_LOCAL_ROLE = os.getenv(\\\"SAGE_MAKER_LOCAL_ROLE\\\")\\nprint(f\\\"S3_BUCKET: {S3_BUCKET}\\\")\\nprint(f\\\"REGION: {REGION}\\\")\\nprint(f\\\"SAGE_MAKER_LOCAL_ROLE: {SAGE_MAKER_LOCAL_ROLE}\\\")\";\n                var nbb_formatted_code = \"import os\\nfrom dotenv import load_dotenv\\n\\nload_dotenv()\\n# Define the bucket name and region\\nS3_BUCKET = os.getenv(\\\"S3_BUCKET\\\")\\nS3_PREFIX = os.getenv(\\\"S3_PREFIX\\\")\\nREGION = os.getenv(\\\"REGION\\\")\\nSAGE_MAKER_LOCAL_ROLE = os.getenv(\\\"SAGE_MAKER_LOCAL_ROLE\\\")\\nprint(f\\\"S3_BUCKET: {S3_BUCKET}\\\")\\nprint(f\\\"REGION: {REGION}\\\")\\nprint(f\\\"SAGE_MAKER_LOCAL_ROLE: {SAGE_MAKER_LOCAL_ROLE}\\\")\";\n                var nbb_cells = Jupyter.notebook.get_cells();\n                for (var i = 0; i < nbb_cells.length; ++i) {\n                    if (nbb_cells[i].input_prompt_number == nbb_cell_id) {\n                        if (nbb_cells[i].get_text() == nbb_unformatted_code) {\n                             nbb_cells[i].set_text(nbb_formatted_code);\n                        }\n                        break;\n                    }\n                }\n            }, 500);\n            ",
      "text/plain": [
       "<IPython.core.display.Javascript object>"
      ]
     },
     "metadata": {},
     "output_type": "display_data"
    }
   ],
   "source": [
    "import os\n",
    "from dotenv import load_dotenv\n",
    "load_dotenv()\n",
    "# Define the bucket name and region\n",
    "S3_BUCKET = os.getenv(\"S3_BUCKET\")\n",
    "S3_PREFIX = os.getenv(\"S3_PREFIX\")\n",
    "REGION = os.getenv(\"REGION\")\n",
    "SAGE_MAKER_LOCAL_ROLE = os.getenv(\"SAGE_MAKER_LOCAL_ROLE\")\n",
    "print(f\"S3_BUCKET: {S3_BUCKET}\")\n",
    "print(f\"REGION: {REGION}\")\n",
    "print(f\"SAGE_MAKER_LOCAL_ROLE: {SAGE_MAKER_LOCAL_ROLE}\")"
   ]
  },
  {
   "cell_type": "code",
   "execution_count": 4,
   "metadata": {},
   "outputs": [
    {
     "name": "stderr",
     "output_type": "stream",
     "text": [
      "/home/thangtran3112/aws-sage-maker/machine-learning/venv/lib/python3.12/site-packages/pydantic/_internal/_fields.py:192: UserWarning: Field name \"json\" in \"MonitoringDatasetFormat\" shadows an attribute in parent \"Base\"\n",
      "  warnings.warn(\n"
     ]
    },
    {
     "data": {
      "text/html": [
       "<pre style=\"white-space:pre;overflow-x:auto;line-height:normal;font-family:Menlo,'DejaVu Sans Mono',consolas,'Courier New',monospace\"><span style=\"color: #7fbfbf; text-decoration-color: #7fbfbf\">[01/16/25 19:20:56] </span><span style=\"color: #0069ff; text-decoration-color: #0069ff; font-weight: bold\">INFO    </span> Found credentials in shared credentials file: ~<span style=\"color: #e100e1; text-decoration-color: #e100e1\">/.aws/credentials</span>   <a href=\"file:///home/thangtran3112/aws-sage-maker/machine-learning/venv/lib/python3.12/site-packages/botocore/credentials.py\" target=\"_blank\"><span style=\"color: #7f7f7f; text-decoration-color: #7f7f7f\">credentials.py</span></a><span style=\"color: #7f7f7f; text-decoration-color: #7f7f7f\">:</span><a href=\"file:///home/thangtran3112/aws-sage-maker/machine-learning/venv/lib/python3.12/site-packages/botocore/credentials.py#1278\" target=\"_blank\"><span style=\"color: #7f7f7f; text-decoration-color: #7f7f7f\">1278</span></a>\n",
       "</pre>\n"
      ],
      "text/plain": [
       "\u001b[2;36m[01/16/25 19:20:56]\u001b[0m\u001b[2;36m \u001b[0m\u001b[1;38;2;0;105;255mINFO    \u001b[0m Found credentials in shared credentials file: ~\u001b[38;2;225;0;225m/.aws/\u001b[0m\u001b[38;2;225;0;225mcredentials\u001b[0m   \u001b]8;id=602073;file:///home/thangtran3112/aws-sage-maker/machine-learning/venv/lib/python3.12/site-packages/botocore/credentials.py\u001b\\\u001b[2mcredentials.py\u001b[0m\u001b]8;;\u001b\\\u001b[2m:\u001b[0m\u001b]8;id=31614;file:///home/thangtran3112/aws-sage-maker/machine-learning/venv/lib/python3.12/site-packages/botocore/credentials.py#1278\u001b\\\u001b[2m1278\u001b[0m\u001b]8;;\u001b\\\n"
      ]
     },
     "metadata": {},
     "output_type": "display_data"
    },
    {
     "name": "stdout",
     "output_type": "stream",
     "text": [
      "sagemaker.config INFO - Not applying SDK defaults from location: /etc/xdg/xdg-ubuntu/sagemaker/config.yaml\n",
      "sagemaker.config INFO - Not applying SDK defaults from location: /home/thangtran3112/.config/sagemaker/config.yaml\n"
     ]
    },
    {
     "data": {
      "application/javascript": "\n            setTimeout(function() {\n                var nbb_cell_id = 4;\n                var nbb_unformatted_code = \"import boto3\\nimport sagemaker\\nfrom sagemaker.session import TrainingInput\\nfrom sagemaker import image_uris\\nfrom sagemaker import hyperparameters\";\n                var nbb_formatted_code = \"import boto3\\nimport sagemaker\\nfrom sagemaker.session import TrainingInput\\nfrom sagemaker import image_uris\\nfrom sagemaker import hyperparameters\";\n                var nbb_cells = Jupyter.notebook.get_cells();\n                for (var i = 0; i < nbb_cells.length; ++i) {\n                    if (nbb_cells[i].input_prompt_number == nbb_cell_id) {\n                        if (nbb_cells[i].get_text() == nbb_unformatted_code) {\n                             nbb_cells[i].set_text(nbb_formatted_code);\n                        }\n                        break;\n                    }\n                }\n            }, 500);\n            ",
      "text/plain": [
       "<IPython.core.display.Javascript object>"
      ]
     },
     "metadata": {},
     "output_type": "display_data"
    }
   ],
   "source": [
    "import boto3\n",
    "import sagemaker\n",
    "from sagemaker.session import TrainingInput\n",
    "from sagemaker import image_uris\n",
    "from sagemaker import hyperparameters"
   ]
  },
  {
   "cell_type": "code",
   "execution_count": 5,
   "metadata": {},
   "outputs": [
    {
     "data": {
      "application/javascript": "\n            setTimeout(function() {\n                var nbb_cell_id = 5;\n                var nbb_unformatted_code = \"boto3.set_stream_logger(name=\\\"botocore.credentials\\\", level=logging.WARNING)\";\n                var nbb_formatted_code = \"boto3.set_stream_logger(name=\\\"botocore.credentials\\\", level=logging.WARNING)\";\n                var nbb_cells = Jupyter.notebook.get_cells();\n                for (var i = 0; i < nbb_cells.length; ++i) {\n                    if (nbb_cells[i].input_prompt_number == nbb_cell_id) {\n                        if (nbb_cells[i].get_text() == nbb_unformatted_code) {\n                             nbb_cells[i].set_text(nbb_formatted_code);\n                        }\n                        break;\n                    }\n                }\n            }, 500);\n            ",
      "text/plain": [
       "<IPython.core.display.Javascript object>"
      ]
     },
     "metadata": {},
     "output_type": "display_data"
    }
   ],
   "source": [
    "boto3.set_stream_logger(name=\"botocore.credentials\", level=logging.WARNING)"
   ]
  },
  {
   "cell_type": "code",
   "execution_count": 6,
   "metadata": {},
   "outputs": [
    {
     "name": "stdout",
     "output_type": "stream",
     "text": [
      "us-west-2\n"
     ]
    },
    {
     "data": {
      "application/javascript": "\n            setTimeout(function() {\n                var nbb_cell_id = 6;\n                var nbb_unformatted_code = \"region = sagemaker.Session().boto_region_name\\nprint(region)\";\n                var nbb_formatted_code = \"region = sagemaker.Session().boto_region_name\\nprint(region)\";\n                var nbb_cells = Jupyter.notebook.get_cells();\n                for (var i = 0; i < nbb_cells.length; ++i) {\n                    if (nbb_cells[i].input_prompt_number == nbb_cell_id) {\n                        if (nbb_cells[i].get_text() == nbb_unformatted_code) {\n                             nbb_cells[i].set_text(nbb_formatted_code);\n                        }\n                        break;\n                    }\n                }\n            }, 500);\n            ",
      "text/plain": [
       "<IPython.core.display.Javascript object>"
      ]
     },
     "metadata": {},
     "output_type": "display_data"
    }
   ],
   "source": [
    "region = sagemaker.Session().boto_region_name\n",
    "print(region)"
   ]
  },
  {
   "cell_type": "code",
   "execution_count": 7,
   "metadata": {},
   "outputs": [
    {
     "name": "stdout",
     "output_type": "stream",
     "text": [
      "Not running in SageMaker Studio. Using custom role for local computer\n",
      "arn:aws:iam::654654352356:role/service-role/AmazonSageMaker-ExecutionRole-20250111T085887\n"
     ]
    },
    {
     "data": {
      "application/javascript": "\n            setTimeout(function() {\n                var nbb_cell_id = 7;\n                var nbb_unformatted_code = \"import os\\n\\nif \\\"SM_CURRENT_HOST\\\" in os.environ:\\n  print(\\\"Running in SageMaker Studio\\\")\\n  # only inside Sagemaker notebook Studio\\n  role_arn = sagemaker.get_execution_role()\\nelse:\\n  print(\\\"Not running in SageMaker Studio. Using custom role for local computer\\\")\\n  # in local computer, we will get it from environment variable\\n  role_arn = SAGE_MAKER_LOCAL_ROLE\\n\\nprint(role_arn)\";\n                var nbb_formatted_code = \"import os\\n\\nif \\\"SM_CURRENT_HOST\\\" in os.environ:\\n    print(\\\"Running in SageMaker Studio\\\")\\n    # only inside Sagemaker notebook Studio\\n    role_arn = sagemaker.get_execution_role()\\nelse:\\n    print(\\\"Not running in SageMaker Studio. Using custom role for local computer\\\")\\n    # in local computer, we will get it from environment variable\\n    role_arn = SAGE_MAKER_LOCAL_ROLE\\n\\nprint(role_arn)\";\n                var nbb_cells = Jupyter.notebook.get_cells();\n                for (var i = 0; i < nbb_cells.length; ++i) {\n                    if (nbb_cells[i].input_prompt_number == nbb_cell_id) {\n                        if (nbb_cells[i].get_text() == nbb_unformatted_code) {\n                             nbb_cells[i].set_text(nbb_formatted_code);\n                        }\n                        break;\n                    }\n                }\n            }, 500);\n            ",
      "text/plain": [
       "<IPython.core.display.Javascript object>"
      ]
     },
     "metadata": {},
     "output_type": "display_data"
    }
   ],
   "source": [
    "import os\n",
    "\n",
    "if \"SM_CURRENT_HOST\" in os.environ:\n",
    "  print(\"Running in SageMaker Studio\")\n",
    "  # only inside Sagemaker notebook Studio\n",
    "  role_arn = sagemaker.get_execution_role()\n",
    "else:\n",
    "  print(\"Not running in SageMaker Studio. Using custom role for local computer\")\n",
    "  # in local computer, we will get it from environment variable\n",
    "  role_arn = SAGE_MAKER_LOCAL_ROLE\n",
    "\n",
    "print(role_arn)"
   ]
  },
  {
   "cell_type": "code",
   "execution_count": 8,
   "metadata": {},
   "outputs": [
    {
     "name": "stdout",
     "output_type": "stream",
     "text": [
      "                           PRE data/\n",
      "                           PRE model/\n"
     ]
    },
    {
     "data": {
      "application/javascript": "\n            setTimeout(function() {\n                var nbb_cell_id = 8;\n                var nbb_unformatted_code = \"!aws s3 ls {S3_BUCKET}/{S3_PREFIX}/\";\n                var nbb_formatted_code = \"!aws s3 ls {S3_BUCKET}/{S3_PREFIX}/\";\n                var nbb_cells = Jupyter.notebook.get_cells();\n                for (var i = 0; i < nbb_cells.length; ++i) {\n                    if (nbb_cells[i].input_prompt_number == nbb_cell_id) {\n                        if (nbb_cells[i].get_text() == nbb_unformatted_code) {\n                             nbb_cells[i].set_text(nbb_formatted_code);\n                        }\n                        break;\n                    }\n                }\n            }, 500);\n            ",
      "text/plain": [
       "<IPython.core.display.Javascript object>"
      ]
     },
     "metadata": {},
     "output_type": "display_data"
    }
   ],
   "source": [
    "!aws s3 ls {S3_BUCKET}/{S3_PREFIX}/"
   ]
  },
  {
   "cell_type": "code",
   "execution_count": 9,
   "metadata": {},
   "outputs": [
    {
     "name": "stdout",
     "output_type": "stream",
     "text": [
      "2025-01-11 11:34:19        900 iris/data/iris_test.csv\n",
      "2025-01-11 11:34:19       1800 iris/data/iris_train.csv\n"
     ]
    },
    {
     "data": {
      "application/javascript": "\n            setTimeout(function() {\n                var nbb_cell_id = 9;\n                var nbb_unformatted_code = \"!aws s3 ls {S3_BUCKET}/{S3_PREFIX}/data/ --recursive\";\n                var nbb_formatted_code = \"!aws s3 ls {S3_BUCKET}/{S3_PREFIX}/data/ --recursive\";\n                var nbb_cells = Jupyter.notebook.get_cells();\n                for (var i = 0; i < nbb_cells.length; ++i) {\n                    if (nbb_cells[i].input_prompt_number == nbb_cell_id) {\n                        if (nbb_cells[i].get_text() == nbb_unformatted_code) {\n                             nbb_cells[i].set_text(nbb_formatted_code);\n                        }\n                        break;\n                    }\n                }\n            }, 500);\n            ",
      "text/plain": [
       "<IPython.core.display.Javascript object>"
      ]
     },
     "metadata": {},
     "output_type": "display_data"
    }
   ],
   "source": [
    "!aws s3 ls {S3_BUCKET}/{S3_PREFIX}/data/ --recursive"
   ]
  },
  {
   "cell_type": "code",
   "execution_count": 10,
   "metadata": {},
   "outputs": [
    {
     "data": {
      "application/javascript": "\n            setTimeout(function() {\n                var nbb_cell_id = 10;\n                var nbb_unformatted_code = \"train_file = \\\"data/iris_train.csv\\\"\\nvalid_file = \\\"data/iris_test.csv\\\"\";\n                var nbb_formatted_code = \"train_file = \\\"data/iris_train.csv\\\"\\nvalid_file = \\\"data/iris_test.csv\\\"\";\n                var nbb_cells = Jupyter.notebook.get_cells();\n                for (var i = 0; i < nbb_cells.length; ++i) {\n                    if (nbb_cells[i].input_prompt_number == nbb_cell_id) {\n                        if (nbb_cells[i].get_text() == nbb_unformatted_code) {\n                             nbb_cells[i].set_text(nbb_formatted_code);\n                        }\n                        break;\n                    }\n                }\n            }, 500);\n            ",
      "text/plain": [
       "<IPython.core.display.Javascript object>"
      ]
     },
     "metadata": {},
     "output_type": "display_data"
    }
   ],
   "source": [
    "train_file = \"data/iris_train.csv\"\n",
    "valid_file = \"data/iris_test.csv\""
   ]
  },
  {
   "cell_type": "code",
   "execution_count": 11,
   "metadata": {},
   "outputs": [
    {
     "data": {
      "application/javascript": "\n            setTimeout(function() {\n                var nbb_cell_id = 11;\n                var nbb_unformatted_code = \"train_ip = TrainingInput(\\n    \\\"s3://{}/{}/{}\\\".format(S3_BUCKET, S3_PREFIX, train_file), content_type=\\\"csv\\\"\\n)\\nvalid_ip = TrainingInput(\\n    \\\"s3://{}/{}/{}\\\".format(S3_BUCKET, S3_PREFIX, valid_file), content_type=\\\"csv\\\"\\n)\";\n                var nbb_formatted_code = \"train_ip = TrainingInput(\\n    \\\"s3://{}/{}/{}\\\".format(S3_BUCKET, S3_PREFIX, train_file), content_type=\\\"csv\\\"\\n)\\nvalid_ip = TrainingInput(\\n    \\\"s3://{}/{}/{}\\\".format(S3_BUCKET, S3_PREFIX, valid_file), content_type=\\\"csv\\\"\\n)\";\n                var nbb_cells = Jupyter.notebook.get_cells();\n                for (var i = 0; i < nbb_cells.length; ++i) {\n                    if (nbb_cells[i].input_prompt_number == nbb_cell_id) {\n                        if (nbb_cells[i].get_text() == nbb_unformatted_code) {\n                             nbb_cells[i].set_text(nbb_formatted_code);\n                        }\n                        break;\n                    }\n                }\n            }, 500);\n            ",
      "text/plain": [
       "<IPython.core.display.Javascript object>"
      ]
     },
     "metadata": {},
     "output_type": "display_data"
    }
   ],
   "source": [
    "train_ip = TrainingInput(\n",
    "    \"s3://{}/{}/{}\".format(S3_BUCKET, S3_PREFIX, train_file), content_type=\"csv\"\n",
    ")\n",
    "valid_ip = TrainingInput(\n",
    "    \"s3://{}/{}/{}\".format(S3_BUCKET, S3_PREFIX, valid_file), content_type=\"csv\"\n",
    ")"
   ]
  },
  {
   "cell_type": "code",
   "execution_count": 12,
   "metadata": {},
   "outputs": [
    {
     "data": {
      "application/javascript": "\n            setTimeout(function() {\n                var nbb_cell_id = 12;\n                var nbb_unformatted_code = \"model_op = \\\"s3://{}/{}/{}\\\".format(S3_BUCKET, S3_PREFIX, \\\"model\\\")\";\n                var nbb_formatted_code = \"model_op = \\\"s3://{}/{}/{}\\\".format(S3_BUCKET, S3_PREFIX, \\\"model\\\")\";\n                var nbb_cells = Jupyter.notebook.get_cells();\n                for (var i = 0; i < nbb_cells.length; ++i) {\n                    if (nbb_cells[i].input_prompt_number == nbb_cell_id) {\n                        if (nbb_cells[i].get_text() == nbb_unformatted_code) {\n                             nbb_cells[i].set_text(nbb_formatted_code);\n                        }\n                        break;\n                    }\n                }\n            }, 500);\n            ",
      "text/plain": [
       "<IPython.core.display.Javascript object>"
      ]
     },
     "metadata": {},
     "output_type": "display_data"
    }
   ],
   "source": [
    "model_op = \"s3://{}/{}/{}\".format(S3_BUCKET, S3_PREFIX, \"model\")"
   ]
  },
  {
   "cell_type": "code",
   "execution_count": 13,
   "metadata": {},
   "outputs": [
    {
     "data": {
      "text/html": [
       "<pre style=\"white-space:pre;overflow-x:auto;line-height:normal;font-family:Menlo,'DejaVu Sans Mono',consolas,'Courier New',monospace\"><span style=\"color: #7fbfbf; text-decoration-color: #7fbfbf\">[01/16/25 19:21:01] </span><span style=\"color: #0069ff; text-decoration-color: #0069ff; font-weight: bold\">INFO    </span> Ignoring unnecessary instance type: <span style=\"color: #e100e1; text-decoration-color: #e100e1; font-style: italic\">None</span>.                            <a href=\"file:///home/thangtran3112/aws-sage-maker/machine-learning/venv/lib/python3.12/site-packages/sagemaker/image_uris.py\" target=\"_blank\"><span style=\"color: #7f7f7f; text-decoration-color: #7f7f7f\">image_uris.py</span></a><span style=\"color: #7f7f7f; text-decoration-color: #7f7f7f\">:</span><a href=\"file:///home/thangtran3112/aws-sage-maker/machine-learning/venv/lib/python3.12/site-packages/sagemaker/image_uris.py#528\" target=\"_blank\"><span style=\"color: #7f7f7f; text-decoration-color: #7f7f7f\">528</span></a>\n",
       "</pre>\n"
      ],
      "text/plain": [
       "\u001b[2;36m[01/16/25 19:21:01]\u001b[0m\u001b[2;36m \u001b[0m\u001b[1;38;2;0;105;255mINFO    \u001b[0m Ignoring unnecessary instance type: \u001b[3;38;2;225;0;225mNone\u001b[0m.                            \u001b]8;id=683751;file:///home/thangtran3112/aws-sage-maker/machine-learning/venv/lib/python3.12/site-packages/sagemaker/image_uris.py\u001b\\\u001b[2mimage_uris.py\u001b[0m\u001b]8;;\u001b\\\u001b[2m:\u001b[0m\u001b]8;id=93956;file:///home/thangtran3112/aws-sage-maker/machine-learning/venv/lib/python3.12/site-packages/sagemaker/image_uris.py#528\u001b\\\u001b[2m528\u001b[0m\u001b]8;;\u001b\\\n"
      ]
     },
     "metadata": {},
     "output_type": "display_data"
    },
    {
     "name": "stdout",
     "output_type": "stream",
     "text": [
      "433757028032.dkr.ecr.us-west-2.amazonaws.com/xgboost:latest\n"
     ]
    },
    {
     "data": {
      "application/javascript": "\n            setTimeout(function() {\n                var nbb_cell_id = 13;\n                var nbb_unformatted_code = \"train_image_uri = sagemaker.image_uris.retrieve(\\\"xgboost\\\", region, \\\"latest\\\")\\nprint(train_image_uri)\";\n                var nbb_formatted_code = \"train_image_uri = sagemaker.image_uris.retrieve(\\\"xgboost\\\", region, \\\"latest\\\")\\nprint(train_image_uri)\";\n                var nbb_cells = Jupyter.notebook.get_cells();\n                for (var i = 0; i < nbb_cells.length; ++i) {\n                    if (nbb_cells[i].input_prompt_number == nbb_cell_id) {\n                        if (nbb_cells[i].get_text() == nbb_unformatted_code) {\n                             nbb_cells[i].set_text(nbb_formatted_code);\n                        }\n                        break;\n                    }\n                }\n            }, 500);\n            ",
      "text/plain": [
       "<IPython.core.display.Javascript object>"
      ]
     },
     "metadata": {},
     "output_type": "display_data"
    }
   ],
   "source": [
    "train_image_uri = sagemaker.image_uris.retrieve(\"xgboost\", region, \"latest\")\n",
    "print(train_image_uri)"
   ]
  },
  {
   "cell_type": "code",
   "execution_count": 14,
   "metadata": {},
   "outputs": [
    {
     "data": {
      "application/javascript": "\n            setTimeout(function() {\n                var nbb_cell_id = 14;\n                var nbb_unformatted_code = \"base_job_name = \\\"iris-xgboost\\\"\";\n                var nbb_formatted_code = \"base_job_name = \\\"iris-xgboost\\\"\";\n                var nbb_cells = Jupyter.notebook.get_cells();\n                for (var i = 0; i < nbb_cells.length; ++i) {\n                    if (nbb_cells[i].input_prompt_number == nbb_cell_id) {\n                        if (nbb_cells[i].get_text() == nbb_unformatted_code) {\n                             nbb_cells[i].set_text(nbb_formatted_code);\n                        }\n                        break;\n                    }\n                }\n            }, 500);\n            ",
      "text/plain": [
       "<IPython.core.display.Javascript object>"
      ]
     },
     "metadata": {},
     "output_type": "display_data"
    }
   ],
   "source": [
    "base_job_name = \"iris-xgboost\""
   ]
  },
  {
   "cell_type": "code",
   "execution_count": 15,
   "metadata": {},
   "outputs": [
    {
     "data": {
      "application/javascript": "\n            setTimeout(function() {\n                var nbb_cell_id = 15;\n                var nbb_unformatted_code = \"xgb_estimator = sagemaker.estimator.Estimator(\\n    image_uri=train_image_uri,\\n    role=role_arn,\\n    base_job_name=base_job_name,\\n    instance_count=1,\\n    instance_type=\\\"ml.m4.xlarge\\\",\\n    volume_size=5,\\n    output_path=model_op,\\n    sagemaker_session=sagemaker.Session(),\\n)\";\n                var nbb_formatted_code = \"xgb_estimator = sagemaker.estimator.Estimator(\\n    image_uri=train_image_uri,\\n    role=role_arn,\\n    base_job_name=base_job_name,\\n    instance_count=1,\\n    instance_type=\\\"ml.m4.xlarge\\\",\\n    volume_size=5,\\n    output_path=model_op,\\n    sagemaker_session=sagemaker.Session(),\\n)\";\n                var nbb_cells = Jupyter.notebook.get_cells();\n                for (var i = 0; i < nbb_cells.length; ++i) {\n                    if (nbb_cells[i].input_prompt_number == nbb_cell_id) {\n                        if (nbb_cells[i].get_text() == nbb_unformatted_code) {\n                             nbb_cells[i].set_text(nbb_formatted_code);\n                        }\n                        break;\n                    }\n                }\n            }, 500);\n            ",
      "text/plain": [
       "<IPython.core.display.Javascript object>"
      ]
     },
     "metadata": {},
     "output_type": "display_data"
    }
   ],
   "source": [
    "xgb_estimator = sagemaker.estimator.Estimator(\n",
    "    image_uri=train_image_uri,\n",
    "    role=role_arn,\n",
    "    base_job_name=base_job_name,\n",
    "    instance_count=1,\n",
    "    instance_type=\"ml.m4.xlarge\",\n",
    "    volume_size=5,\n",
    "    output_path=model_op,\n",
    "    sagemaker_session=sagemaker.Session(),\n",
    ")"
   ]
  },
  {
   "cell_type": "code",
   "execution_count": 16,
   "metadata": {},
   "outputs": [
    {
     "data": {
      "application/javascript": "\n            setTimeout(function() {\n                var nbb_cell_id = 16;\n                var nbb_unformatted_code = \"xgb_estimator.set_hyperparameters(\\n    num_class=3, max_depth=5, num_round=10, objective=\\\"multi:softmax\\\",\\n)\";\n                var nbb_formatted_code = \"xgb_estimator.set_hyperparameters(\\n    num_class=3,\\n    max_depth=5,\\n    num_round=10,\\n    objective=\\\"multi:softmax\\\",\\n)\";\n                var nbb_cells = Jupyter.notebook.get_cells();\n                for (var i = 0; i < nbb_cells.length; ++i) {\n                    if (nbb_cells[i].input_prompt_number == nbb_cell_id) {\n                        if (nbb_cells[i].get_text() == nbb_unformatted_code) {\n                             nbb_cells[i].set_text(nbb_formatted_code);\n                        }\n                        break;\n                    }\n                }\n            }, 500);\n            ",
      "text/plain": [
       "<IPython.core.display.Javascript object>"
      ]
     },
     "metadata": {},
     "output_type": "display_data"
    }
   ],
   "source": [
    "xgb_estimator.set_hyperparameters(\n",
    "    num_class=3, max_depth=5, num_round=10, objective=\"multi:softmax\",\n",
    ")"
   ]
  },
  {
   "cell_type": "code",
   "execution_count": 17,
   "metadata": {},
   "outputs": [
    {
     "data": {
      "application/javascript": "\n            setTimeout(function() {\n                var nbb_cell_id = 17;\n                var nbb_unformatted_code = \"# xgb_estimator.set_hyperparameters(\\n#     num_class=3,\\n#     max_depth=5,\\n#     eta=0.2,\\n#     gamma=4,\\n#     min_child_weight=6,\\n#     subsample=0.7,\\n#     objective=\\\"multi:softmax\\\",\\n#     num_round=10,\\n# )\";\n                var nbb_formatted_code = \"# xgb_estimator.set_hyperparameters(\\n#     num_class=3,\\n#     max_depth=5,\\n#     eta=0.2,\\n#     gamma=4,\\n#     min_child_weight=6,\\n#     subsample=0.7,\\n#     objective=\\\"multi:softmax\\\",\\n#     num_round=10,\\n# )\";\n                var nbb_cells = Jupyter.notebook.get_cells();\n                for (var i = 0; i < nbb_cells.length; ++i) {\n                    if (nbb_cells[i].input_prompt_number == nbb_cell_id) {\n                        if (nbb_cells[i].get_text() == nbb_unformatted_code) {\n                             nbb_cells[i].set_text(nbb_formatted_code);\n                        }\n                        break;\n                    }\n                }\n            }, 500);\n            ",
      "text/plain": [
       "<IPython.core.display.Javascript object>"
      ]
     },
     "metadata": {},
     "output_type": "display_data"
    }
   ],
   "source": [
    "# xgb_estimator.set_hyperparameters(\n",
    "#     num_class=3,\n",
    "#     max_depth=5,\n",
    "#     eta=0.2,\n",
    "#     gamma=4,\n",
    "#     min_child_weight=6,\n",
    "#     subsample=0.7,\n",
    "#     objective=\"multi:softmax\",\n",
    "#     num_round=10,\n",
    "# )"
   ]
  },
  {
   "cell_type": "code",
   "execution_count": 18,
   "metadata": {},
   "outputs": [
    {
     "name": "stdout",
     "output_type": "stream",
     "text": [
      "iris-xgboost-2025-01-16-19-21-02\n"
     ]
    },
    {
     "data": {
      "application/javascript": "\n            setTimeout(function() {\n                var nbb_cell_id = 18;\n                var nbb_unformatted_code = \"job_name = \\\"iris-xgboost-\\\" + datetime.today().strftime(\\\"%Y-%m-%d-%H-%M-%S\\\")\\nprint(job_name)\";\n                var nbb_formatted_code = \"job_name = \\\"iris-xgboost-\\\" + datetime.today().strftime(\\\"%Y-%m-%d-%H-%M-%S\\\")\\nprint(job_name)\";\n                var nbb_cells = Jupyter.notebook.get_cells();\n                for (var i = 0; i < nbb_cells.length; ++i) {\n                    if (nbb_cells[i].input_prompt_number == nbb_cell_id) {\n                        if (nbb_cells[i].get_text() == nbb_unformatted_code) {\n                             nbb_cells[i].set_text(nbb_formatted_code);\n                        }\n                        break;\n                    }\n                }\n            }, 500);\n            ",
      "text/plain": [
       "<IPython.core.display.Javascript object>"
      ]
     },
     "metadata": {},
     "output_type": "display_data"
    }
   ],
   "source": [
    "job_name = \"iris-xgboost-\" + datetime.today().strftime(\"%Y-%m-%d-%H-%M-%S\")\n",
    "print(job_name)"
   ]
  },
  {
   "cell_type": "code",
   "execution_count": 19,
   "metadata": {},
   "outputs": [
    {
     "data": {
      "text/html": [
       "<pre style=\"white-space:pre;overflow-x:auto;line-height:normal;font-family:Menlo,'DejaVu Sans Mono',consolas,'Courier New',monospace\"><span style=\"color: #7fbfbf; text-decoration-color: #7fbfbf\">[01/16/25 19:21:02] </span><span style=\"color: #0069ff; text-decoration-color: #0069ff; font-weight: bold\">INFO    </span> SageMaker Python SDK will collect telemetry to help us better  <a href=\"file:///home/thangtran3112/aws-sage-maker/machine-learning/venv/lib/python3.12/site-packages/sagemaker/telemetry/telemetry_logging.py\" target=\"_blank\"><span style=\"color: #7f7f7f; text-decoration-color: #7f7f7f\">telemetry_logging.py</span></a><span style=\"color: #7f7f7f; text-decoration-color: #7f7f7f\">:</span><a href=\"file:///home/thangtran3112/aws-sage-maker/machine-learning/venv/lib/python3.12/site-packages/sagemaker/telemetry/telemetry_logging.py#90\" target=\"_blank\"><span style=\"color: #7f7f7f; text-decoration-color: #7f7f7f\">90</span></a>\n",
       "<span style=\"color: #7fbfbf; text-decoration-color: #7fbfbf\">                    </span>         understand our user's needs, diagnose issues, and deliver      <span style=\"color: #7f7f7f; text-decoration-color: #7f7f7f\">                       </span>\n",
       "<span style=\"color: #7fbfbf; text-decoration-color: #7fbfbf\">                    </span>         additional features.                                           <span style=\"color: #7f7f7f; text-decoration-color: #7f7f7f\">                       </span>\n",
       "<span style=\"color: #7fbfbf; text-decoration-color: #7fbfbf\">                    </span>         To opt out of telemetry, please disable via TelemetryOptOut    <span style=\"color: #7f7f7f; text-decoration-color: #7f7f7f\">                       </span>\n",
       "<span style=\"color: #7fbfbf; text-decoration-color: #7fbfbf\">                    </span>         parameter in SDK defaults config. For more information, refer  <span style=\"color: #7f7f7f; text-decoration-color: #7f7f7f\">                       </span>\n",
       "<span style=\"color: #7fbfbf; text-decoration-color: #7fbfbf\">                    </span>         to                                                             <span style=\"color: #7f7f7f; text-decoration-color: #7f7f7f\">                       </span>\n",
       "<span style=\"color: #7fbfbf; text-decoration-color: #7fbfbf\">                    </span>         <span style=\"color: #0069ff; text-decoration-color: #0069ff; text-decoration: underline\">https://sagemaker.readthedocs.io/en/stable/overview.html#confi</span> <span style=\"color: #7f7f7f; text-decoration-color: #7f7f7f\">                       </span>\n",
       "<span style=\"color: #7fbfbf; text-decoration-color: #7fbfbf\">                    </span>         <span style=\"color: #0069ff; text-decoration-color: #0069ff; text-decoration: underline\">guring-and-using-defaults-with-the-sagemaker-python-sdk.</span>       <span style=\"color: #7f7f7f; text-decoration-color: #7f7f7f\">                       </span>\n",
       "</pre>\n"
      ],
      "text/plain": [
       "\u001b[2;36m[01/16/25 19:21:02]\u001b[0m\u001b[2;36m \u001b[0m\u001b[1;38;2;0;105;255mINFO    \u001b[0m SageMaker Python SDK will collect telemetry to help us better  \u001b]8;id=667004;file:///home/thangtran3112/aws-sage-maker/machine-learning/venv/lib/python3.12/site-packages/sagemaker/telemetry/telemetry_logging.py\u001b\\\u001b[2mtelemetry_logging.py\u001b[0m\u001b]8;;\u001b\\\u001b[2m:\u001b[0m\u001b]8;id=191143;file:///home/thangtran3112/aws-sage-maker/machine-learning/venv/lib/python3.12/site-packages/sagemaker/telemetry/telemetry_logging.py#90\u001b\\\u001b[2m90\u001b[0m\u001b]8;;\u001b\\\n",
       "\u001b[2;36m                    \u001b[0m         understand our user's needs, diagnose issues, and deliver      \u001b[2m                       \u001b[0m\n",
       "\u001b[2;36m                    \u001b[0m         additional features.                                           \u001b[2m                       \u001b[0m\n",
       "\u001b[2;36m                    \u001b[0m         To opt out of telemetry, please disable via TelemetryOptOut    \u001b[2m                       \u001b[0m\n",
       "\u001b[2;36m                    \u001b[0m         parameter in SDK defaults config. For more information, refer  \u001b[2m                       \u001b[0m\n",
       "\u001b[2;36m                    \u001b[0m         to                                                             \u001b[2m                       \u001b[0m\n",
       "\u001b[2;36m                    \u001b[0m         \u001b[4;38;2;0;105;255mhttps://sagemaker.readthedocs.io/en/stable/overview.html#confi\u001b[0m \u001b[2m                       \u001b[0m\n",
       "\u001b[2;36m                    \u001b[0m         \u001b[4;38;2;0;105;255mguring-and-using-defaults-with-the-sagemaker-python-sdk.\u001b[0m       \u001b[2m                       \u001b[0m\n"
      ]
     },
     "metadata": {},
     "output_type": "display_data"
    },
    {
     "data": {
      "text/html": [
       "<pre style=\"white-space:pre;overflow-x:auto;line-height:normal;font-family:Menlo,'DejaVu Sans Mono',consolas,'Courier New',monospace\"><span style=\"color: #7fbfbf; text-decoration-color: #7fbfbf\">                    </span><span style=\"color: #0069ff; text-decoration-color: #0069ff; font-weight: bold\">INFO    </span> Creating training-job with name: iris-xgboost-<span style=\"color: #008080; text-decoration-color: #008080; font-weight: bold\">2025</span>-<span style=\"color: #008080; text-decoration-color: #008080; font-weight: bold\">01</span>-<span style=\"color: #008080; text-decoration-color: #008080; font-weight: bold\">16</span>-<span style=\"color: #008080; text-decoration-color: #008080; font-weight: bold\">19</span>-<span style=\"color: #008080; text-decoration-color: #008080; font-weight: bold\">21</span>-<span style=\"color: #008080; text-decoration-color: #008080; font-weight: bold\">02</span>      <a href=\"file:///home/thangtran3112/aws-sage-maker/machine-learning/venv/lib/python3.12/site-packages/sagemaker/session.py\" target=\"_blank\"><span style=\"color: #7f7f7f; text-decoration-color: #7f7f7f\">session.py</span></a><span style=\"color: #7f7f7f; text-decoration-color: #7f7f7f\">:</span><a href=\"file:///home/thangtran3112/aws-sage-maker/machine-learning/venv/lib/python3.12/site-packages/sagemaker/session.py#1042\" target=\"_blank\"><span style=\"color: #7f7f7f; text-decoration-color: #7f7f7f\">1042</span></a>\n",
       "</pre>\n"
      ],
      "text/plain": [
       "\u001b[2;36m                   \u001b[0m\u001b[2;36m \u001b[0m\u001b[1;38;2;0;105;255mINFO    \u001b[0m Creating training-job with name: iris-xgboost-\u001b[1;36m2025\u001b[0m-\u001b[1;36m01\u001b[0m-\u001b[1;36m16\u001b[0m-\u001b[1;36m19\u001b[0m-\u001b[1;36m21\u001b[0m-\u001b[1;36m02\u001b[0m      \u001b]8;id=684997;file:///home/thangtran3112/aws-sage-maker/machine-learning/venv/lib/python3.12/site-packages/sagemaker/session.py\u001b\\\u001b[2msession.py\u001b[0m\u001b]8;;\u001b\\\u001b[2m:\u001b[0m\u001b]8;id=756543;file:///home/thangtran3112/aws-sage-maker/machine-learning/venv/lib/python3.12/site-packages/sagemaker/session.py#1042\u001b\\\u001b[2m1042\u001b[0m\u001b]8;;\u001b\\\n"
      ]
     },
     "metadata": {},
     "output_type": "display_data"
    },
    {
     "name": "stdout",
     "output_type": "stream",
     "text": [
      "2025-01-17 03:21:03 Starting - Starting the training job...\n",
      "2025-01-17 03:21:17 Starting - Preparing the instances for training...\n",
      "2025-01-17 03:21:44 Downloading - Downloading input data...\n",
      "2025-01-17 03:22:14 Downloading - Downloading the training image...\n",
      "2025-01-17 03:23:04 Training - Training image download completed. Training in progress...Arguments: train\n",
      "[2025-01-17:03:23:16:INFO] Running standalone xgboost training.\n",
      "[2025-01-17:03:23:16:INFO] File size need to be processed in the node: 0.0mb. Available memory size in the node: 8443.07mb\n",
      "[2025-01-17:03:23:16:INFO] Determined delimiter of CSV input is ','\n",
      "[03:23:16] S3DistributionType set as FullyReplicated\n",
      "[03:23:16] 100x4 matrix with 400 entries loaded from /opt/ml/input/data/train?format=csv&label_column=0&delimiter=,\n",
      "[2025-01-17:03:23:16:INFO] Determined delimiter of CSV input is ','\n",
      "[03:23:16] S3DistributionType set as FullyReplicated\n",
      "[03:23:16] 50x4 matrix with 200 entries loaded from /opt/ml/input/data/validation?format=csv&label_column=0&delimiter=,\n",
      "[03:23:16] src/tree/updater_prune.cc:74: tree pruning end, 1 roots, 2 extra nodes, 0 pruned nodes, max_depth=1\n",
      "[03:23:16] src/tree/updater_prune.cc:74: tree pruning end, 1 roots, 8 extra nodes, 0 pruned nodes, max_depth=3\n",
      "[03:23:16] src/tree/updater_prune.cc:74: tree pruning end, 1 roots, 4 extra nodes, 0 pruned nodes, max_depth=2\n",
      "[0]#011train-merror:0.03#011validation-merror:0.06\n",
      "[03:23:16] src/tree/updater_prune.cc:74: tree pruning end, 1 roots, 2 extra nodes, 0 pruned nodes, max_depth=1\n",
      "[03:23:16] src/tree/updater_prune.cc:74: tree pruning end, 1 roots, 8 extra nodes, 0 pruned nodes, max_depth=3\n",
      "[03:23:16] src/tree/updater_prune.cc:74: tree pruning end, 1 roots, 6 extra nodes, 0 pruned nodes, max_depth=2\n",
      "[1]#011train-merror:0.02#011validation-merror:0.02\n",
      "[03:23:16] src/tree/updater_prune.cc:74: tree pruning end, 1 roots, 2 extra nodes, 0 pruned nodes, max_depth=1\n",
      "[03:23:16] src/tree/updater_prune.cc:74: tree pruning end, 1 roots, 8 extra nodes, 0 pruned nodes, max_depth=3\n",
      "[03:23:16] src/tree/updater_prune.cc:74: tree pruning end, 1 roots, 6 extra nodes, 0 pruned nodes, max_depth=2\n",
      "[2]#011train-merror:0.02#011validation-merror:0.02\n",
      "[03:23:16] src/tree/updater_prune.cc:74: tree pruning end, 1 roots, 2 extra nodes, 0 pruned nodes, max_depth=1\n",
      "[03:23:16] src/tree/updater_prune.cc:74: tree pruning end, 1 roots, 8 extra nodes, 0 pruned nodes, max_depth=3\n",
      "[03:23:16] src/tree/updater_prune.cc:74: tree pruning end, 1 roots, 6 extra nodes, 0 pruned nodes, max_depth=2\n",
      "[3]#011train-merror:0.02#011validation-merror:0.02\n",
      "[03:23:16] src/tree/updater_prune.cc:74: tree pruning end, 1 roots, 2 extra nodes, 0 pruned nodes, max_depth=1\n",
      "[03:23:16] src/tree/updater_prune.cc:74: tree pruning end, 1 roots, 8 extra nodes, 0 pruned nodes, max_depth=3\n",
      "[03:23:16] src/tree/updater_prune.cc:74: tree pruning end, 1 roots, 6 extra nodes, 0 pruned nodes, max_depth=2\n",
      "[4]#011train-merror:0.02#011validation-merror:0.02\n",
      "[03:23:16] src/tree/updater_prune.cc:74: tree pruning end, 1 roots, 2 extra nodes, 0 pruned nodes, max_depth=1\n",
      "[03:23:16] src/tree/updater_prune.cc:74: tree pruning end, 1 roots, 6 extra nodes, 0 pruned nodes, max_depth=3\n",
      "[03:23:16] src/tree/updater_prune.cc:74: tree pruning end, 1 roots, 8 extra nodes, 0 pruned nodes, max_depth=3\n",
      "[5]#011train-merror:0.02#011validation-merror:0.04\n",
      "[03:23:16] src/tree/updater_prune.cc:74: tree pruning end, 1 roots, 2 extra nodes, 0 pruned nodes, max_depth=1\n",
      "[03:23:16] src/tree/updater_prune.cc:74: tree pruning end, 1 roots, 8 extra nodes, 0 pruned nodes, max_depth=3\n",
      "[03:23:16] src/tree/updater_prune.cc:74: tree pruning end, 1 roots, 8 extra nodes, 0 pruned nodes, max_depth=3\n",
      "[6]#011train-merror:0.02#011validation-merror:0.04\n",
      "[03:23:16] src/tree/updater_prune.cc:74: tree pruning end, 1 roots, 2 extra nodes, 0 pruned nodes, max_depth=1\n",
      "[03:23:16] src/tree/updater_prune.cc:74: tree pruning end, 1 roots, 8 extra nodes, 0 pruned nodes, max_depth=3\n",
      "[03:23:16] src/tree/updater_prune.cc:74: tree pruning end, 1 roots, 6 extra nodes, 0 pruned nodes, max_depth=2\n",
      "[7]#011train-merror:0.01#011validation-merror:0.06\n",
      "[03:23:16] src/tree/updater_prune.cc:74: tree pruning end, 1 roots, 2 extra nodes, 0 pruned nodes, max_depth=1\n",
      "[03:23:16] src/tree/updater_prune.cc:74: tree pruning end, 1 roots, 8 extra nodes, 0 pruned nodes, max_depth=3\n",
      "[03:23:16] src/tree/updater_prune.cc:74: tree pruning end, 1 roots, 6 extra nodes, 0 pruned nodes, max_depth=2\n",
      "[03:23:16] src/tree/updater_prune.cc:74: tree pruning end, 1 roots, 2 extra nodes, 0 pruned nodes, max_depth=1\n",
      "[03:23:16] src/tree/updater_prune.cc:74: tree pruning end, 1 roots, 10 extra nodes, 0 pruned nodes, max_depth=4\n",
      "[03:23:16] src/tree/updater_prune.cc:74: tree pruning end, 1 roots, 6 extra nodes, 0 pruned nodes, max_depth=2\n",
      "[8]#011train-merror:0.01#011validation-merror:0.06\n",
      "[9]#011train-merror:0.01#011validation-merror:0.06\n",
      "\n",
      "2025-01-17 03:23:33 Uploading - Uploading generated training model\n",
      "2025-01-17 03:23:33 Completed - Training job completed\n",
      "Training seconds: 110\n",
      "Billable seconds: 110\n"
     ]
    },
    {
     "data": {
      "application/javascript": "\n            setTimeout(function() {\n                var nbb_cell_id = 19;\n                var nbb_unformatted_code = \"xgb_estimator.fit(\\n    {\\\"train\\\": train_ip, \\\"validation\\\": valid_ip}, wait=True, job_name=job_name\\n)\";\n                var nbb_formatted_code = \"xgb_estimator.fit(\\n    {\\\"train\\\": train_ip, \\\"validation\\\": valid_ip}, wait=True, job_name=job_name\\n)\";\n                var nbb_cells = Jupyter.notebook.get_cells();\n                for (var i = 0; i < nbb_cells.length; ++i) {\n                    if (nbb_cells[i].input_prompt_number == nbb_cell_id) {\n                        if (nbb_cells[i].get_text() == nbb_unformatted_code) {\n                             nbb_cells[i].set_text(nbb_formatted_code);\n                        }\n                        break;\n                    }\n                }\n            }, 500);\n            ",
      "text/plain": [
       "<IPython.core.display.Javascript object>"
      ]
     },
     "metadata": {},
     "output_type": "display_data"
    }
   ],
   "source": [
    "xgb_estimator.fit(\n",
    "    {\"train\": train_ip, \"validation\": valid_ip}, wait=True, job_name=job_name\n",
    ")"
   ]
  },
  {
   "cell_type": "code",
   "execution_count": 20,
   "metadata": {},
   "outputs": [
    {
     "name": "stdout",
     "output_type": "stream",
     "text": [
      "                           PRE iris-xgboost-2025-01-11-18-03-55/\n",
      "                           PRE iris-xgboost-2025-01-11-19-59-53/\n",
      "                           PRE iris-xgboost-2025-01-16-19-21-02/\n"
     ]
    },
    {
     "data": {
      "application/javascript": "\n            setTimeout(function() {\n                var nbb_cell_id = 20;\n                var nbb_unformatted_code = \"!aws s3 ls {S3_BUCKET}/{S3_PREFIX}/model/\";\n                var nbb_formatted_code = \"!aws s3 ls {S3_BUCKET}/{S3_PREFIX}/model/\";\n                var nbb_cells = Jupyter.notebook.get_cells();\n                for (var i = 0; i < nbb_cells.length; ++i) {\n                    if (nbb_cells[i].input_prompt_number == nbb_cell_id) {\n                        if (nbb_cells[i].get_text() == nbb_unformatted_code) {\n                             nbb_cells[i].set_text(nbb_formatted_code);\n                        }\n                        break;\n                    }\n                }\n            }, 500);\n            ",
      "text/plain": [
       "<IPython.core.display.Javascript object>"
      ]
     },
     "metadata": {},
     "output_type": "display_data"
    }
   ],
   "source": [
    "!aws s3 ls {S3_BUCKET}/{S3_PREFIX}/model/"
   ]
  },
  {
   "cell_type": "markdown",
   "metadata": {},
   "source": [
    "### Inference "
   ]
  },
  {
   "cell_type": "code",
   "execution_count": 21,
   "metadata": {},
   "outputs": [
    {
     "data": {
      "application/javascript": "\n            setTimeout(function() {\n                var nbb_cell_id = 21;\n                var nbb_unformatted_code = \"from sagemaker.serializers import CSVSerializer\";\n                var nbb_formatted_code = \"from sagemaker.serializers import CSVSerializer\";\n                var nbb_cells = Jupyter.notebook.get_cells();\n                for (var i = 0; i < nbb_cells.length; ++i) {\n                    if (nbb_cells[i].input_prompt_number == nbb_cell_id) {\n                        if (nbb_cells[i].get_text() == nbb_unformatted_code) {\n                             nbb_cells[i].set_text(nbb_formatted_code);\n                        }\n                        break;\n                    }\n                }\n            }, 500);\n            ",
      "text/plain": [
       "<IPython.core.display.Javascript object>"
      ]
     },
     "metadata": {},
     "output_type": "display_data"
    }
   ],
   "source": [
    "from sagemaker.serializers import CSVSerializer"
   ]
  },
  {
   "cell_type": "markdown",
   "metadata": {},
   "source": [
    "#### Deploy the model as an endpoint"
   ]
  },
  {
   "cell_type": "code",
   "execution_count": 22,
   "metadata": {},
   "outputs": [
    {
     "data": {
      "text/plain": [
       "sagemaker.estimator.Estimator"
      ]
     },
     "execution_count": 22,
     "metadata": {},
     "output_type": "execute_result"
    },
    {
     "data": {
      "application/javascript": "\n            setTimeout(function() {\n                var nbb_cell_id = 22;\n                var nbb_unformatted_code = \"type(xgb_estimator)\";\n                var nbb_formatted_code = \"type(xgb_estimator)\";\n                var nbb_cells = Jupyter.notebook.get_cells();\n                for (var i = 0; i < nbb_cells.length; ++i) {\n                    if (nbb_cells[i].input_prompt_number == nbb_cell_id) {\n                        if (nbb_cells[i].get_text() == nbb_unformatted_code) {\n                             nbb_cells[i].set_text(nbb_formatted_code);\n                        }\n                        break;\n                    }\n                }\n            }, 500);\n            ",
      "text/plain": [
       "<IPython.core.display.Javascript object>"
      ]
     },
     "metadata": {},
     "output_type": "display_data"
    }
   ],
   "source": [
    "type(xgb_estimator)"
   ]
  },
  {
   "cell_type": "code",
   "execution_count": 23,
   "metadata": {},
   "outputs": [
    {
     "data": {
      "text/html": [
       "<pre style=\"white-space:pre;overflow-x:auto;line-height:normal;font-family:Menlo,'DejaVu Sans Mono',consolas,'Courier New',monospace\"><span style=\"color: #7fbfbf; text-decoration-color: #7fbfbf\">[01/16/25 19:23:55] </span><span style=\"color: #0069ff; text-decoration-color: #0069ff; font-weight: bold\">INFO    </span> Creating model with name: iris-xgboost-<span style=\"color: #008080; text-decoration-color: #008080; font-weight: bold\">2025</span>-01-17-03-23-55-165         <a href=\"file:///home/thangtran3112/aws-sage-maker/machine-learning/venv/lib/python3.12/site-packages/sagemaker/session.py\" target=\"_blank\"><span style=\"color: #7f7f7f; text-decoration-color: #7f7f7f\">session.py</span></a><span style=\"color: #7f7f7f; text-decoration-color: #7f7f7f\">:</span><a href=\"file:///home/thangtran3112/aws-sage-maker/machine-learning/venv/lib/python3.12/site-packages/sagemaker/session.py#4094\" target=\"_blank\"><span style=\"color: #7f7f7f; text-decoration-color: #7f7f7f\">4094</span></a>\n",
       "</pre>\n"
      ],
      "text/plain": [
       "\u001b[2;36m[01/16/25 19:23:55]\u001b[0m\u001b[2;36m \u001b[0m\u001b[1;38;2;0;105;255mINFO    \u001b[0m Creating model with name: iris-xgboost-\u001b[1;36m2025\u001b[0m-01-17-03-23-55-165         \u001b]8;id=215807;file:///home/thangtran3112/aws-sage-maker/machine-learning/venv/lib/python3.12/site-packages/sagemaker/session.py\u001b\\\u001b[2msession.py\u001b[0m\u001b]8;;\u001b\\\u001b[2m:\u001b[0m\u001b]8;id=94322;file:///home/thangtran3112/aws-sage-maker/machine-learning/venv/lib/python3.12/site-packages/sagemaker/session.py#4094\u001b\\\u001b[2m4094\u001b[0m\u001b]8;;\u001b\\\n"
      ]
     },
     "metadata": {},
     "output_type": "display_data"
    },
    {
     "data": {
      "text/html": [
       "<pre style=\"white-space:pre;overflow-x:auto;line-height:normal;font-family:Menlo,'DejaVu Sans Mono',consolas,'Courier New',monospace\"><span style=\"color: #7fbfbf; text-decoration-color: #7fbfbf\">                    </span><span style=\"color: #0069ff; text-decoration-color: #0069ff; font-weight: bold\">INFO    </span> Creating endpoint-config with name                                     <a href=\"file:///home/thangtran3112/aws-sage-maker/machine-learning/venv/lib/python3.12/site-packages/sagemaker/session.py\" target=\"_blank\"><span style=\"color: #7f7f7f; text-decoration-color: #7f7f7f\">session.py</span></a><span style=\"color: #7f7f7f; text-decoration-color: #7f7f7f\">:</span><a href=\"file:///home/thangtran3112/aws-sage-maker/machine-learning/venv/lib/python3.12/site-packages/sagemaker/session.py#5889\" target=\"_blank\"><span style=\"color: #7f7f7f; text-decoration-color: #7f7f7f\">5889</span></a>\n",
       "<span style=\"color: #7fbfbf; text-decoration-color: #7fbfbf\">                    </span>         iris-xgboost-<span style=\"color: #008080; text-decoration-color: #008080; font-weight: bold\">2025</span>-01-17-03-23-55-165                                   <span style=\"color: #7f7f7f; text-decoration-color: #7f7f7f\">               </span>\n",
       "</pre>\n"
      ],
      "text/plain": [
       "\u001b[2;36m                   \u001b[0m\u001b[2;36m \u001b[0m\u001b[1;38;2;0;105;255mINFO    \u001b[0m Creating endpoint-config with name                                     \u001b]8;id=744073;file:///home/thangtran3112/aws-sage-maker/machine-learning/venv/lib/python3.12/site-packages/sagemaker/session.py\u001b\\\u001b[2msession.py\u001b[0m\u001b]8;;\u001b\\\u001b[2m:\u001b[0m\u001b]8;id=570298;file:///home/thangtran3112/aws-sage-maker/machine-learning/venv/lib/python3.12/site-packages/sagemaker/session.py#5889\u001b\\\u001b[2m5889\u001b[0m\u001b]8;;\u001b\\\n",
       "\u001b[2;36m                    \u001b[0m         iris-xgboost-\u001b[1;36m2025\u001b[0m-01-17-03-23-55-165                                   \u001b[2m               \u001b[0m\n"
      ]
     },
     "metadata": {},
     "output_type": "display_data"
    },
    {
     "data": {
      "text/html": [
       "<pre style=\"white-space:pre;overflow-x:auto;line-height:normal;font-family:Menlo,'DejaVu Sans Mono',consolas,'Courier New',monospace\"><span style=\"color: #7fbfbf; text-decoration-color: #7fbfbf\">[01/16/25 19:23:56] </span><span style=\"color: #0069ff; text-decoration-color: #0069ff; font-weight: bold\">INFO    </span> Creating endpoint with name iris-xgboost-<span style=\"color: #008080; text-decoration-color: #008080; font-weight: bold\">2025</span>-01-17-03-23-55-165       <a href=\"file:///home/thangtran3112/aws-sage-maker/machine-learning/venv/lib/python3.12/site-packages/sagemaker/session.py\" target=\"_blank\"><span style=\"color: #7f7f7f; text-decoration-color: #7f7f7f\">session.py</span></a><span style=\"color: #7f7f7f; text-decoration-color: #7f7f7f\">:</span><a href=\"file:///home/thangtran3112/aws-sage-maker/machine-learning/venv/lib/python3.12/site-packages/sagemaker/session.py#4711\" target=\"_blank\"><span style=\"color: #7f7f7f; text-decoration-color: #7f7f7f\">4711</span></a>\n",
       "</pre>\n"
      ],
      "text/plain": [
       "\u001b[2;36m[01/16/25 19:23:56]\u001b[0m\u001b[2;36m \u001b[0m\u001b[1;38;2;0;105;255mINFO    \u001b[0m Creating endpoint with name iris-xgboost-\u001b[1;36m2025\u001b[0m-01-17-03-23-55-165       \u001b]8;id=807637;file:///home/thangtran3112/aws-sage-maker/machine-learning/venv/lib/python3.12/site-packages/sagemaker/session.py\u001b\\\u001b[2msession.py\u001b[0m\u001b]8;;\u001b\\\u001b[2m:\u001b[0m\u001b]8;id=503198;file:///home/thangtran3112/aws-sage-maker/machine-learning/venv/lib/python3.12/site-packages/sagemaker/session.py#4711\u001b\\\u001b[2m4711\u001b[0m\u001b]8;;\u001b\\\n"
      ]
     },
     "metadata": {},
     "output_type": "display_data"
    },
    {
     "name": "stdout",
     "output_type": "stream",
     "text": [
      "------------!"
     ]
    },
    {
     "data": {
      "application/javascript": "\n            setTimeout(function() {\n                var nbb_cell_id = 23;\n                var nbb_unformatted_code = \"xgb_predictor = xgb_estimator.deploy(\\n    initial_instance_count=1, instance_type=\\\"ml.t2.medium\\\", serializer=CSVSerializer()\\n)\";\n                var nbb_formatted_code = \"xgb_predictor = xgb_estimator.deploy(\\n    initial_instance_count=1, instance_type=\\\"ml.t2.medium\\\", serializer=CSVSerializer()\\n)\";\n                var nbb_cells = Jupyter.notebook.get_cells();\n                for (var i = 0; i < nbb_cells.length; ++i) {\n                    if (nbb_cells[i].input_prompt_number == nbb_cell_id) {\n                        if (nbb_cells[i].get_text() == nbb_unformatted_code) {\n                             nbb_cells[i].set_text(nbb_formatted_code);\n                        }\n                        break;\n                    }\n                }\n            }, 500);\n            ",
      "text/plain": [
       "<IPython.core.display.Javascript object>"
      ]
     },
     "metadata": {},
     "output_type": "display_data"
    }
   ],
   "source": [
    "xgb_predictor = xgb_estimator.deploy(\n",
    "    initial_instance_count=1, instance_type=\"ml.t2.medium\", serializer=CSVSerializer()\n",
    ")"
   ]
  },
  {
   "cell_type": "markdown",
   "metadata": {},
   "source": [
    "#### Predictor single record"
   ]
  },
  {
   "cell_type": "code",
   "execution_count": 24,
   "metadata": {},
   "outputs": [
    {
     "data": {
      "text/plain": [
       "b'2.0'"
      ]
     },
     "execution_count": 24,
     "metadata": {},
     "output_type": "execute_result"
    },
    {
     "data": {
      "application/javascript": "\n            setTimeout(function() {\n                var nbb_cell_id = 24;\n                var nbb_unformatted_code = \"xgb_predictor.predict(\\\"7.7, 3.0, 6.1, 2.3\\\")\";\n                var nbb_formatted_code = \"xgb_predictor.predict(\\\"7.7, 3.0, 6.1, 2.3\\\")\";\n                var nbb_cells = Jupyter.notebook.get_cells();\n                for (var i = 0; i < nbb_cells.length; ++i) {\n                    if (nbb_cells[i].input_prompt_number == nbb_cell_id) {\n                        if (nbb_cells[i].get_text() == nbb_unformatted_code) {\n                             nbb_cells[i].set_text(nbb_formatted_code);\n                        }\n                        break;\n                    }\n                }\n            }, 500);\n            ",
      "text/plain": [
       "<IPython.core.display.Javascript object>"
      ]
     },
     "metadata": {},
     "output_type": "display_data"
    }
   ],
   "source": [
    "xgb_predictor.predict(\"7.7, 3.0, 6.1, 2.3\")"
   ]
  },
  {
   "cell_type": "markdown",
   "metadata": {},
   "source": [
    "#### Endpoint"
   ]
  },
  {
   "cell_type": "code",
   "execution_count": 25,
   "metadata": {},
   "outputs": [
    {
     "name": "stdout",
     "output_type": "stream",
     "text": [
      "iris-xgboost-2025-01-17-03-23-55-165\n"
     ]
    },
    {
     "data": {
      "application/javascript": "\n            setTimeout(function() {\n                var nbb_cell_id = 25;\n                var nbb_unformatted_code = \"endpoint_name = xgb_predictor.endpoint_name\\nprint(endpoint_name)\";\n                var nbb_formatted_code = \"endpoint_name = xgb_predictor.endpoint_name\\nprint(endpoint_name)\";\n                var nbb_cells = Jupyter.notebook.get_cells();\n                for (var i = 0; i < nbb_cells.length; ++i) {\n                    if (nbb_cells[i].input_prompt_number == nbb_cell_id) {\n                        if (nbb_cells[i].get_text() == nbb_unformatted_code) {\n                             nbb_cells[i].set_text(nbb_formatted_code);\n                        }\n                        break;\n                    }\n                }\n            }, 500);\n            ",
      "text/plain": [
       "<IPython.core.display.Javascript object>"
      ]
     },
     "metadata": {},
     "output_type": "display_data"
    }
   ],
   "source": [
    "endpoint_name = xgb_predictor.endpoint_name\n",
    "print(endpoint_name)"
   ]
  },
  {
   "cell_type": "code",
   "execution_count": 26,
   "metadata": {},
   "outputs": [
    {
     "data": {
      "application/javascript": "\n            setTimeout(function() {\n                var nbb_cell_id = 26;\n                var nbb_unformatted_code = \"sgmkr_runtime = boto3.client(\\\"runtime.sagemaker\\\")\";\n                var nbb_formatted_code = \"sgmkr_runtime = boto3.client(\\\"runtime.sagemaker\\\")\";\n                var nbb_cells = Jupyter.notebook.get_cells();\n                for (var i = 0; i < nbb_cells.length; ++i) {\n                    if (nbb_cells[i].input_prompt_number == nbb_cell_id) {\n                        if (nbb_cells[i].get_text() == nbb_unformatted_code) {\n                             nbb_cells[i].set_text(nbb_formatted_code);\n                        }\n                        break;\n                    }\n                }\n            }, 500);\n            ",
      "text/plain": [
       "<IPython.core.display.Javascript object>"
      ]
     },
     "metadata": {},
     "output_type": "display_data"
    }
   ],
   "source": [
    "sgmkr_runtime = boto3.client(\"runtime.sagemaker\")"
   ]
  },
  {
   "cell_type": "markdown",
   "metadata": {},
   "source": [
    "#### Endpoint - One record"
   ]
  },
  {
   "cell_type": "code",
   "execution_count": 27,
   "metadata": {},
   "outputs": [
    {
     "data": {
      "text/plain": [
       "{'ResponseMetadata': {'RequestId': '2950134d-4aba-4757-a561-a5bf4d73f10f',\n",
       "  'HTTPStatusCode': 200,\n",
       "  'HTTPHeaders': {'x-amzn-requestid': '2950134d-4aba-4757-a561-a5bf4d73f10f',\n",
       "   'x-amzn-invoked-production-variant': 'AllTraffic',\n",
       "   'date': 'Fri, 17 Jan 2025 03:30:29 GMT',\n",
       "   'content-type': 'text/csv; charset=utf-8',\n",
       "   'content-length': '3',\n",
       "   'connection': 'keep-alive'},\n",
       "  'RetryAttempts': 0},\n",
       " 'ContentType': 'text/csv; charset=utf-8',\n",
       " 'InvokedProductionVariant': 'AllTraffic',\n",
       " 'Body': <botocore.response.StreamingBody at 0x7873027bfe50>}"
      ]
     },
     "execution_count": 27,
     "metadata": {},
     "output_type": "execute_result"
    },
    {
     "data": {
      "application/javascript": "\n            setTimeout(function() {\n                var nbb_cell_id = 27;\n                var nbb_unformatted_code = \"payload_csv_text = \\\"7.7, 3.0, 6.1, 2.3\\\"\\nresponse = sgmkr_runtime.invoke_endpoint(\\n    EndpointName=endpoint_name, ContentType=\\\"text/csv\\\", Body=payload_csv_text\\n)\\nresponse\";\n                var nbb_formatted_code = \"payload_csv_text = \\\"7.7, 3.0, 6.1, 2.3\\\"\\nresponse = sgmkr_runtime.invoke_endpoint(\\n    EndpointName=endpoint_name, ContentType=\\\"text/csv\\\", Body=payload_csv_text\\n)\\nresponse\";\n                var nbb_cells = Jupyter.notebook.get_cells();\n                for (var i = 0; i < nbb_cells.length; ++i) {\n                    if (nbb_cells[i].input_prompt_number == nbb_cell_id) {\n                        if (nbb_cells[i].get_text() == nbb_unformatted_code) {\n                             nbb_cells[i].set_text(nbb_formatted_code);\n                        }\n                        break;\n                    }\n                }\n            }, 500);\n            ",
      "text/plain": [
       "<IPython.core.display.Javascript object>"
      ]
     },
     "metadata": {},
     "output_type": "display_data"
    }
   ],
   "source": [
    "payload_csv_text = \"7.7, 3.0, 6.1, 2.3\"\n",
    "response = sgmkr_runtime.invoke_endpoint(\n",
    "    EndpointName=endpoint_name, ContentType=\"text/csv\", Body=payload_csv_text\n",
    ")\n",
    "response"
   ]
  },
  {
   "cell_type": "code",
   "execution_count": 28,
   "metadata": {},
   "outputs": [
    {
     "name": "stdout",
     "output_type": "stream",
     "text": [
      "2.0\n"
     ]
    },
    {
     "data": {
      "application/javascript": "\n            setTimeout(function() {\n                var nbb_cell_id = 28;\n                var nbb_unformatted_code = \"print(response[\\\"Body\\\"].read().decode())\";\n                var nbb_formatted_code = \"print(response[\\\"Body\\\"].read().decode())\";\n                var nbb_cells = Jupyter.notebook.get_cells();\n                for (var i = 0; i < nbb_cells.length; ++i) {\n                    if (nbb_cells[i].input_prompt_number == nbb_cell_id) {\n                        if (nbb_cells[i].get_text() == nbb_unformatted_code) {\n                             nbb_cells[i].set_text(nbb_formatted_code);\n                        }\n                        break;\n                    }\n                }\n            }, 500);\n            ",
      "text/plain": [
       "<IPython.core.display.Javascript object>"
      ]
     },
     "metadata": {},
     "output_type": "display_data"
    }
   ],
   "source": [
    "print(response[\"Body\"].read().decode())"
   ]
  },
  {
   "cell_type": "markdown",
   "metadata": {},
   "source": [
    "#### Endpoint - Multiple records"
   ]
  },
  {
   "cell_type": "code",
   "execution_count": 29,
   "metadata": {},
   "outputs": [
    {
     "name": "stdout",
     "output_type": "stream",
     "text": [
      "2.0,2.0\n"
     ]
    },
    {
     "data": {
      "application/javascript": "\n            setTimeout(function() {\n                var nbb_cell_id = 29;\n                var nbb_unformatted_code = \"payload_csv_text = \\\"7.7, 3.0, 6.1, 2.3 \\\\n 7.9, 3.8, 6.4, 2.1\\\"\\n\\nresponse = sgmkr_runtime.invoke_endpoint(\\n    EndpointName=endpoint_name, ContentType=\\\"text/csv\\\", Body=payload_csv_text\\n)\\nprint(response[\\\"Body\\\"].read().decode())\";\n                var nbb_formatted_code = \"payload_csv_text = \\\"7.7, 3.0, 6.1, 2.3 \\\\n 7.9, 3.8, 6.4, 2.1\\\"\\n\\nresponse = sgmkr_runtime.invoke_endpoint(\\n    EndpointName=endpoint_name, ContentType=\\\"text/csv\\\", Body=payload_csv_text\\n)\\nprint(response[\\\"Body\\\"].read().decode())\";\n                var nbb_cells = Jupyter.notebook.get_cells();\n                for (var i = 0; i < nbb_cells.length; ++i) {\n                    if (nbb_cells[i].input_prompt_number == nbb_cell_id) {\n                        if (nbb_cells[i].get_text() == nbb_unformatted_code) {\n                             nbb_cells[i].set_text(nbb_formatted_code);\n                        }\n                        break;\n                    }\n                }\n            }, 500);\n            ",
      "text/plain": [
       "<IPython.core.display.Javascript object>"
      ]
     },
     "metadata": {},
     "output_type": "display_data"
    }
   ],
   "source": [
    "payload_csv_text = \"7.7, 3.0, 6.1, 2.3 \\n 7.9, 3.8, 6.4, 2.1\"\n",
    "\n",
    "response = sgmkr_runtime.invoke_endpoint(\n",
    "    EndpointName=endpoint_name, ContentType=\"text/csv\", Body=payload_csv_text\n",
    ")\n",
    "print(response[\"Body\"].read().decode())"
   ]
  },
  {
   "cell_type": "markdown",
   "metadata": {},
   "source": [
    "#### Endpoint - Multiple records from a local file"
   ]
  },
  {
   "cell_type": "code",
   "execution_count": 30,
   "metadata": {},
   "outputs": [
    {
     "data": {
      "text/plain": [
       "'6.3,2.8,5.1,1.5\\n6.3,3.3,4.7,1.6\\n5.0,3.4,1.5,0.2\\n5.8,2.7,4.1,1.0\\n7.3,2.9,6.3,1.8\\n4.9,2.4,3.3,1.0\\n5.7,2.8,4.5,1.3\\n5.7,3.8,1.7,0.3\\n5.6,3.0,4.5,1.5\\n5.5,2.3,4.0,1.3\\n4.4,3.2,1.3,0.2\\n5.8,4.0,1.2,0.2\\n5.1,3.3,1.7,0.5\\n5.1,3.4,1.5,0.2\\n5.4,3.7,1.5,0.2\\n6.4,2.8,5.6,2.2\\n6.0,3.0,4.8,1.8\\n5.6,2.5,3.9,1.1\\n7.7,2.8,6.7,2.0\\n5.7,2.8,4.1,1.3\\n6.5,3.0,5.2,2.0\\n5.6,3.0,4.1,1.3\\n4.7,3.2,1.3,0.2\\n6.5,3.0,5.5,1.8\\n4.6,3.6,1.0,0.2\\n6.5,3.0,5.8,2.2\\n6.7,3.1,5.6,2.4\\n5.0,3.2,1.2,0.2\\n5.4,3.4,1.7,0.2\\n6.2,3.4,5.4,2.3\\n6.4,2.7,5.3,1.9\\n6.9,3.1,5.1,2.3\\n5.1,3.7,1.5,0.4\\n5.4,3.0,4.5,1.5\\n5.2,3.4,1.4,0.2\\n4.5,2.3,1.3,0.3\\n6.7,3.0,5.2,2.3\\n5.7,2.9,4.2,1.3\\n6.7,3.0,5.0,1.7\\n6.0,3.4,4.5,1.6\\n6.1,2.9,4.7,1.4\\n5.0,2.3,3.3,1.0\\n4.4,3.0,1.3,0.2\\n4.9,3.0,1.4,0.2\\n6.1,2.6,5.6,1.4\\n6.0,2.9,4.5,1.5\\n6.7,2.5,5.8,1.8\\n4.9,2.5,4.5,1.7\\n6.4,3.2,4.5,1.5\\n6.1,3.0,4.9,1.8\\n'"
      ]
     },
     "execution_count": 30,
     "metadata": {},
     "output_type": "execute_result"
    },
    {
     "data": {
      "application/javascript": "\n            setTimeout(function() {\n                var nbb_cell_id = 30;\n                var nbb_unformatted_code = \"csv_buffer = open(\\\"data/iris_infer.csv\\\")\\npayload_csv_text = csv_buffer.read()\\npayload_csv_text\";\n                var nbb_formatted_code = \"csv_buffer = open(\\\"data/iris_infer.csv\\\")\\npayload_csv_text = csv_buffer.read()\\npayload_csv_text\";\n                var nbb_cells = Jupyter.notebook.get_cells();\n                for (var i = 0; i < nbb_cells.length; ++i) {\n                    if (nbb_cells[i].input_prompt_number == nbb_cell_id) {\n                        if (nbb_cells[i].get_text() == nbb_unformatted_code) {\n                             nbb_cells[i].set_text(nbb_formatted_code);\n                        }\n                        break;\n                    }\n                }\n            }, 500);\n            ",
      "text/plain": [
       "<IPython.core.display.Javascript object>"
      ]
     },
     "metadata": {},
     "output_type": "display_data"
    }
   ],
   "source": [
    "csv_buffer = open(\"data/iris_infer.csv\")\n",
    "payload_csv_text = csv_buffer.read()\n",
    "payload_csv_text"
   ]
  },
  {
   "cell_type": "code",
   "execution_count": 33,
   "metadata": {},
   "outputs": [
    {
     "name": "stdout",
     "output_type": "stream",
     "text": [
      "2.0,1.0,0.0,1.0,2.0,1.0,1.0,0.0,1.0,1.0,0.0,0.0,0.0,0.0,0.0,2.0,1.0,1.0,2.0,1.0,2.0,1.0,0.0,2.0,0.0,2.0,2.0,0.0,0.0,2.0,2.0,2.0,0.0,1.0,0.0,0.0,2.0,1.0,2.0,1.0,1.0,1.0,0.0,0.0,2.0,1.0,2.0,1.0,1.0,2.0\n"
     ]
    },
    {
     "data": {
      "application/javascript": "\n            setTimeout(function() {\n                var nbb_cell_id = 33;\n                var nbb_unformatted_code = \"response = sgmkr_runtime.invoke_endpoint(\\n    EndpointName=endpoint_name, ContentType=\\\"text/csv\\\", Body=payload_csv_text\\n)\\nprint(response[\\\"Body\\\"].read().decode())\";\n                var nbb_formatted_code = \"response = sgmkr_runtime.invoke_endpoint(\\n    EndpointName=endpoint_name, ContentType=\\\"text/csv\\\", Body=payload_csv_text\\n)\\nprint(response[\\\"Body\\\"].read().decode())\";\n                var nbb_cells = Jupyter.notebook.get_cells();\n                for (var i = 0; i < nbb_cells.length; ++i) {\n                    if (nbb_cells[i].input_prompt_number == nbb_cell_id) {\n                        if (nbb_cells[i].get_text() == nbb_unformatted_code) {\n                             nbb_cells[i].set_text(nbb_formatted_code);\n                        }\n                        break;\n                    }\n                }\n            }, 500);\n            ",
      "text/plain": [
       "<IPython.core.display.Javascript object>"
      ]
     },
     "metadata": {},
     "output_type": "display_data"
    }
   ],
   "source": [
    "response = sgmkr_runtime.invoke_endpoint(\n",
    "    EndpointName=endpoint_name, ContentType=\"text/csv\", Body=payload_csv_text\n",
    ")\n",
    "print(response[\"Body\"].read().decode())"
   ]
  },
  {
   "cell_type": "markdown",
   "metadata": {},
   "source": [
    "#### Endpoint - Multiple records from a S3 file"
   ]
  },
  {
   "cell_type": "code",
   "execution_count": 36,
   "metadata": {},
   "outputs": [
    {
     "name": "stdout",
     "output_type": "stream",
     "text": [
      "1.0,0.0,1.0,2.0,1.0,1.0,0.0,1.0,1.0,0.0,0.0,0.0,0.0,0.0,2.0,1.0,1.0,2.0,1.0,2.0,1.0,0.0,2.0,0.0,2.0,2.0,0.0,0.0,2.0,2.0,2.0,0.0,1.0,0.0,0.0,2.0,1.0,2.0,1.0,1.0,1.0,0.0,0.0,2.0,1.0,2.0,1.0,1.0,2.0\n"
     ]
    },
    {
     "data": {
      "application/javascript": "\n            setTimeout(function() {\n                var nbb_cell_id = 36;\n                var nbb_unformatted_code = \"infer_ip_s3_uri = \\\"s3://{}/{}/{}\\\".format(\\n    S3_BUCKET, S3_PREFIX, \\\"batch_transform/iris_infer.csv\\\"\\n)\\ns3_clnt = boto3.client(\\\"s3\\\")\\n\\n# Upload the local file to S3\\ns3_clnt.upload_file(\\n    Filename=\\\"data/iris_infer.csv\\\",\\n    Bucket=S3_BUCKET,\\n    Key=f\\\"{S3_PREFIX}/batch_transform/iris_infer.csv\\\"\\n)\\n\\n# Option 1: Read the CSV file from S3 using pandas\\n# payload_df = pd.read_csv(infer_ip_s3_uri)\\n\\n# Option 2: Read the CSV file from S3 using AWS Data Wrangler\\n# payload_df = wr.s3.read_csv(path=infer_ip_s3_uri)\\n\\n# Option 3: Read the CSV file from S3 using boto3\\nobj = s3_clnt.get_object(Bucket=S3_BUCKET, Key=\\\"iris/batch_transform/iris_infer.csv\\\")\\npayload_df = pd.read_csv(obj[\\\"Body\\\"])\\n\\ncsv_buffer = io.StringIO()\\npayload_df.to_csv(csv_buffer, header=None, index=None)\\npayload_csv_text = csv_buffer.getvalue()\\n\\nresponse = sgmkr_runtime.invoke_endpoint(\\n    EndpointName=endpoint_name, ContentType=\\\"text/csv\\\", Body=payload_csv_text\\n)\\nprint(response[\\\"Body\\\"].read().decode())\";\n                var nbb_formatted_code = \"infer_ip_s3_uri = \\\"s3://{}/{}/{}\\\".format(\\n    S3_BUCKET, S3_PREFIX, \\\"batch_transform/iris_infer.csv\\\"\\n)\\ns3_clnt = boto3.client(\\\"s3\\\")\\n\\n# Upload the local file to S3\\ns3_clnt.upload_file(\\n    Filename=\\\"data/iris_infer.csv\\\",\\n    Bucket=S3_BUCKET,\\n    Key=f\\\"{S3_PREFIX}/batch_transform/iris_infer.csv\\\",\\n)\\n\\n# Option 1: Read the CSV file from S3 using pandas\\n# payload_df = pd.read_csv(infer_ip_s3_uri)\\n\\n# Option 2: Read the CSV file from S3 using AWS Data Wrangler\\n# payload_df = wr.s3.read_csv(path=infer_ip_s3_uri)\\n\\n# Option 3: Read the CSV file from S3 using boto3\\nobj = s3_clnt.get_object(Bucket=S3_BUCKET, Key=\\\"iris/batch_transform/iris_infer.csv\\\")\\npayload_df = pd.read_csv(obj[\\\"Body\\\"])\\n\\ncsv_buffer = io.StringIO()\\npayload_df.to_csv(csv_buffer, header=None, index=None)\\npayload_csv_text = csv_buffer.getvalue()\\n\\nresponse = sgmkr_runtime.invoke_endpoint(\\n    EndpointName=endpoint_name, ContentType=\\\"text/csv\\\", Body=payload_csv_text\\n)\\nprint(response[\\\"Body\\\"].read().decode())\";\n                var nbb_cells = Jupyter.notebook.get_cells();\n                for (var i = 0; i < nbb_cells.length; ++i) {\n                    if (nbb_cells[i].input_prompt_number == nbb_cell_id) {\n                        if (nbb_cells[i].get_text() == nbb_unformatted_code) {\n                             nbb_cells[i].set_text(nbb_formatted_code);\n                        }\n                        break;\n                    }\n                }\n            }, 500);\n            ",
      "text/plain": [
       "<IPython.core.display.Javascript object>"
      ]
     },
     "metadata": {},
     "output_type": "display_data"
    }
   ],
   "source": [
    "infer_ip_s3_uri = \"s3://{}/{}/{}\".format(\n",
    "    S3_BUCKET, S3_PREFIX, \"batch_transform/iris_infer.csv\"\n",
    ")\n",
    "s3_clnt = boto3.client(\"s3\")\n",
    "\n",
    "# Upload the local file to S3\n",
    "s3_clnt.upload_file(\n",
    "    Filename=\"data/iris_infer.csv\",\n",
    "    Bucket=S3_BUCKET,\n",
    "    Key=f\"{S3_PREFIX}/batch_transform/iris_infer.csv\"\n",
    ")\n",
    "\n",
    "# Option 1: Read the CSV file from S3 using pandas\n",
    "# payload_df = pd.read_csv(infer_ip_s3_uri)\n",
    "\n",
    "# Option 2: Read the CSV file from S3 using AWS Data Wrangler\n",
    "# payload_df = wr.s3.read_csv(path=infer_ip_s3_uri)\n",
    "\n",
    "# Option 3: Read the CSV file from S3 using boto3\n",
    "obj = s3_clnt.get_object(Bucket=S3_BUCKET, Key=\"iris/batch_transform/iris_infer.csv\")\n",
    "payload_df = pd.read_csv(obj[\"Body\"])\n",
    "\n",
    "csv_buffer = io.StringIO()\n",
    "payload_df.to_csv(csv_buffer, header=None, index=None)\n",
    "payload_csv_text = csv_buffer.getvalue()\n",
    "\n",
    "response = sgmkr_runtime.invoke_endpoint(\n",
    "    EndpointName=endpoint_name, ContentType=\"text/csv\", Body=payload_csv_text\n",
    ")\n",
    "print(response[\"Body\"].read().decode())"
   ]
  },
  {
   "cell_type": "markdown",
   "metadata": {},
   "source": [
    "#### Delete the endpoint"
   ]
  },
  {
   "cell_type": "code",
   "execution_count": 37,
   "metadata": {},
   "outputs": [
    {
     "data": {
      "application/javascript": "\n            setTimeout(function() {\n                var nbb_cell_id = 37;\n                var nbb_unformatted_code = \"sgmkr_clnt = boto3.client(\\\"sagemaker\\\")\";\n                var nbb_formatted_code = \"sgmkr_clnt = boto3.client(\\\"sagemaker\\\")\";\n                var nbb_cells = Jupyter.notebook.get_cells();\n                for (var i = 0; i < nbb_cells.length; ++i) {\n                    if (nbb_cells[i].input_prompt_number == nbb_cell_id) {\n                        if (nbb_cells[i].get_text() == nbb_unformatted_code) {\n                             nbb_cells[i].set_text(nbb_formatted_code);\n                        }\n                        break;\n                    }\n                }\n            }, 500);\n            ",
      "text/plain": [
       "<IPython.core.display.Javascript object>"
      ]
     },
     "metadata": {},
     "output_type": "display_data"
    }
   ],
   "source": [
    "sgmkr_clnt = boto3.client(\"sagemaker\")"
   ]
  },
  {
   "cell_type": "code",
   "execution_count": 38,
   "metadata": {},
   "outputs": [
    {
     "data": {
      "text/plain": [
       "{'ResponseMetadata': {'RequestId': '221ec3d7-2389-45ac-bec9-b3e468baf9c4',\n",
       "  'HTTPStatusCode': 200,\n",
       "  'HTTPHeaders': {'x-amzn-requestid': '221ec3d7-2389-45ac-bec9-b3e468baf9c4',\n",
       "   'content-type': 'application/x-amz-json-1.1',\n",
       "   'date': 'Fri, 17 Jan 2025 03:37:54 GMT',\n",
       "   'content-length': '0'},\n",
       "  'RetryAttempts': 0}}"
      ]
     },
     "execution_count": 38,
     "metadata": {},
     "output_type": "execute_result"
    },
    {
     "data": {
      "application/javascript": "\n            setTimeout(function() {\n                var nbb_cell_id = 38;\n                var nbb_unformatted_code = \"sgmkr_clnt.delete_endpoint(EndpointName=endpoint_name)\";\n                var nbb_formatted_code = \"sgmkr_clnt.delete_endpoint(EndpointName=endpoint_name)\";\n                var nbb_cells = Jupyter.notebook.get_cells();\n                for (var i = 0; i < nbb_cells.length; ++i) {\n                    if (nbb_cells[i].input_prompt_number == nbb_cell_id) {\n                        if (nbb_cells[i].get_text() == nbb_unformatted_code) {\n                             nbb_cells[i].set_text(nbb_formatted_code);\n                        }\n                        break;\n                    }\n                }\n            }, 500);\n            ",
      "text/plain": [
       "<IPython.core.display.Javascript object>"
      ]
     },
     "metadata": {},
     "output_type": "display_data"
    }
   ],
   "source": [
    "sgmkr_clnt.delete_endpoint(EndpointName=endpoint_name)"
   ]
  },
  {
   "cell_type": "markdown",
   "metadata": {},
   "source": [
    "#### Batch Transform\n",
    "* Transform a batch of inputs into a batch of outputs, instead of invoking APIs"
   ]
  },
  {
   "cell_type": "code",
   "execution_count": 39,
   "metadata": {},
   "outputs": [
    {
     "data": {
      "application/javascript": "\n            setTimeout(function() {\n                var nbb_cell_id = 39;\n                var nbb_unformatted_code = \"batch_ip = \\\"s3://{}/{}/{}\\\".format(S3_BUCKET, S3_PREFIX, \\\"batch_transform\\\")\\nbatch_op = \\\"s3://{}/{}/{}\\\".format(S3_BUCKET, S3_PREFIX, \\\"batch_transform\\\")\";\n                var nbb_formatted_code = \"batch_ip = \\\"s3://{}/{}/{}\\\".format(S3_BUCKET, S3_PREFIX, \\\"batch_transform\\\")\\nbatch_op = \\\"s3://{}/{}/{}\\\".format(S3_BUCKET, S3_PREFIX, \\\"batch_transform\\\")\";\n                var nbb_cells = Jupyter.notebook.get_cells();\n                for (var i = 0; i < nbb_cells.length; ++i) {\n                    if (nbb_cells[i].input_prompt_number == nbb_cell_id) {\n                        if (nbb_cells[i].get_text() == nbb_unformatted_code) {\n                             nbb_cells[i].set_text(nbb_formatted_code);\n                        }\n                        break;\n                    }\n                }\n            }, 500);\n            ",
      "text/plain": [
       "<IPython.core.display.Javascript object>"
      ]
     },
     "metadata": {},
     "output_type": "display_data"
    }
   ],
   "source": [
    "batch_ip = \"s3://{}/{}/{}\".format(S3_BUCKET, S3_PREFIX, \"batch_transform\")\n",
    "batch_op = \"s3://{}/{}/{}\".format(S3_BUCKET, S3_PREFIX, \"batch_transform\")"
   ]
  },
  {
   "cell_type": "code",
   "execution_count": 40,
   "metadata": {},
   "outputs": [
    {
     "name": "stdout",
     "output_type": "stream",
     "text": [
      "2025-01-16 19:37:41        800 iris/batch_transform/iris_infer.csv\n"
     ]
    },
    {
     "data": {
      "application/javascript": "\n            setTimeout(function() {\n                var nbb_cell_id = 40;\n                var nbb_unformatted_code = \"!aws s3 ls {batch_ip}/ --recursive\";\n                var nbb_formatted_code = \"!aws s3 ls {batch_ip}/ --recursive\";\n                var nbb_cells = Jupyter.notebook.get_cells();\n                for (var i = 0; i < nbb_cells.length; ++i) {\n                    if (nbb_cells[i].input_prompt_number == nbb_cell_id) {\n                        if (nbb_cells[i].get_text() == nbb_unformatted_code) {\n                             nbb_cells[i].set_text(nbb_formatted_code);\n                        }\n                        break;\n                    }\n                }\n            }, 500);\n            ",
      "text/plain": [
       "<IPython.core.display.Javascript object>"
      ]
     },
     "metadata": {},
     "output_type": "display_data"
    }
   ],
   "source": [
    "!aws s3 ls {batch_ip}/ --recursive"
   ]
  },
  {
   "cell_type": "code",
   "execution_count": 41,
   "metadata": {},
   "outputs": [
    {
     "data": {
      "text/html": [
       "<pre style=\"white-space:pre;overflow-x:auto;line-height:normal;font-family:Menlo,'DejaVu Sans Mono',consolas,'Courier New',monospace\"><span style=\"color: #7fbfbf; text-decoration-color: #7fbfbf\">[01/16/25 19:38:31] </span><span style=\"color: #0069ff; text-decoration-color: #0069ff; font-weight: bold\">INFO    </span> Creating model with name: iris-xgboost-<span style=\"color: #008080; text-decoration-color: #008080; font-weight: bold\">2025</span>-01-17-03-38-31-754         <a href=\"file:///home/thangtran3112/aws-sage-maker/machine-learning/venv/lib/python3.12/site-packages/sagemaker/session.py\" target=\"_blank\"><span style=\"color: #7f7f7f; text-decoration-color: #7f7f7f\">session.py</span></a><span style=\"color: #7f7f7f; text-decoration-color: #7f7f7f\">:</span><a href=\"file:///home/thangtran3112/aws-sage-maker/machine-learning/venv/lib/python3.12/site-packages/sagemaker/session.py#4094\" target=\"_blank\"><span style=\"color: #7f7f7f; text-decoration-color: #7f7f7f\">4094</span></a>\n",
       "</pre>\n"
      ],
      "text/plain": [
       "\u001b[2;36m[01/16/25 19:38:31]\u001b[0m\u001b[2;36m \u001b[0m\u001b[1;38;2;0;105;255mINFO    \u001b[0m Creating model with name: iris-xgboost-\u001b[1;36m2025\u001b[0m-01-17-03-38-31-754         \u001b]8;id=822055;file:///home/thangtran3112/aws-sage-maker/machine-learning/venv/lib/python3.12/site-packages/sagemaker/session.py\u001b\\\u001b[2msession.py\u001b[0m\u001b]8;;\u001b\\\u001b[2m:\u001b[0m\u001b]8;id=132808;file:///home/thangtran3112/aws-sage-maker/machine-learning/venv/lib/python3.12/site-packages/sagemaker/session.py#4094\u001b\\\u001b[2m4094\u001b[0m\u001b]8;;\u001b\\\n"
      ]
     },
     "metadata": {},
     "output_type": "display_data"
    },
    {
     "data": {
      "application/javascript": "\n            setTimeout(function() {\n                var nbb_cell_id = 41;\n                var nbb_unformatted_code = \"# We can also use multiple instances, when we have large input dataset\\ntransformer = xgb_estimator.transformer(\\n    instance_count=1, instance_type=\\\"ml.m4.xlarge\\\", output_path=batch_op\\n)\";\n                var nbb_formatted_code = \"# We can also use multiple instances, when we have large input dataset\\ntransformer = xgb_estimator.transformer(\\n    instance_count=1, instance_type=\\\"ml.m4.xlarge\\\", output_path=batch_op\\n)\";\n                var nbb_cells = Jupyter.notebook.get_cells();\n                for (var i = 0; i < nbb_cells.length; ++i) {\n                    if (nbb_cells[i].input_prompt_number == nbb_cell_id) {\n                        if (nbb_cells[i].get_text() == nbb_unformatted_code) {\n                             nbb_cells[i].set_text(nbb_formatted_code);\n                        }\n                        break;\n                    }\n                }\n            }, 500);\n            ",
      "text/plain": [
       "<IPython.core.display.Javascript object>"
      ]
     },
     "metadata": {},
     "output_type": "display_data"
    }
   ],
   "source": [
    "# We can also use multiple instances, when we have large input dataset\n",
    "transformer = xgb_estimator.transformer(\n",
    "    instance_count=1, instance_type=\"ml.m4.xlarge\", output_path=batch_op\n",
    ")"
   ]
  },
  {
   "cell_type": "markdown",
   "metadata": {},
   "source": [
    "Must increase the Sagemaker transform job quota for the corresponding instance, to run the following code"
   ]
  },
  {
   "cell_type": "code",
   "execution_count": 42,
   "metadata": {},
   "outputs": [
    {
     "data": {
      "text/html": [
       "<pre style=\"white-space:pre;overflow-x:auto;line-height:normal;font-family:Menlo,'DejaVu Sans Mono',consolas,'Courier New',monospace\"><span style=\"color: #7fbfbf; text-decoration-color: #7fbfbf\">[01/16/25 19:38:39] </span><span style=\"color: #0069ff; text-decoration-color: #0069ff; font-weight: bold\">INFO    </span> Creating transform job with name: iris-xgboost-<span style=\"color: #008080; text-decoration-color: #008080; font-weight: bold\">2025</span>-01-17-03-38-39-744 <a href=\"file:///home/thangtran3112/aws-sage-maker/machine-learning/venv/lib/python3.12/site-packages/sagemaker/session.py\" target=\"_blank\"><span style=\"color: #7f7f7f; text-decoration-color: #7f7f7f\">session.py</span></a><span style=\"color: #7f7f7f; text-decoration-color: #7f7f7f\">:</span><a href=\"file:///home/thangtran3112/aws-sage-maker/machine-learning/venv/lib/python3.12/site-packages/sagemaker/session.py#3951\" target=\"_blank\"><span style=\"color: #7f7f7f; text-decoration-color: #7f7f7f\">3951</span></a>\n",
       "</pre>\n"
      ],
      "text/plain": [
       "\u001b[2;36m[01/16/25 19:38:39]\u001b[0m\u001b[2;36m \u001b[0m\u001b[1;38;2;0;105;255mINFO    \u001b[0m Creating transform job with name: iris-xgboost-\u001b[1;36m2025\u001b[0m-01-17-03-38-39-744 \u001b]8;id=989704;file:///home/thangtran3112/aws-sage-maker/machine-learning/venv/lib/python3.12/site-packages/sagemaker/session.py\u001b\\\u001b[2msession.py\u001b[0m\u001b]8;;\u001b\\\u001b[2m:\u001b[0m\u001b]8;id=821712;file:///home/thangtran3112/aws-sage-maker/machine-learning/venv/lib/python3.12/site-packages/sagemaker/session.py#3951\u001b\\\u001b[2m3951\u001b[0m\u001b]8;;\u001b\\\n"
      ]
     },
     "metadata": {},
     "output_type": "display_data"
    },
    {
     "name": "stdout",
     "output_type": "stream",
     "text": [
      "................................Arguments: serve\n",
      "[2025-01-17 03:44:14 +0000] [1] [INFO] Starting gunicorn 19.9.0\n",
      "[2025-01-17 03:44:14 +0000] [1] [INFO] Listening at: http://0.0.0.0:8080 (1)\n",
      "[2025-01-17 03:44:14 +0000] [1] [INFO] Using worker: gevent\n",
      "[2025-01-17 03:44:14 +0000] [21] [INFO] Booting worker with pid: 21\n",
      "[2025-01-17 03:44:14 +0000] [22] [INFO] Booting worker with pid: 22\n",
      "[2025-01-17 03:44:14 +0000] [23] [INFO] Booting worker with pid: 23\n",
      "[2025-01-17 03:44:14 +0000] [24] [INFO] Booting worker with pid: 24\n",
      "/opt/amazon/lib/python3.7/site-packages/gunicorn/workers/ggevent.py:65: MonkeyPatchWarning: Monkey-patching ssl after ssl has already been imported may lead to errors, including RecursionError on Python 3.6. It may also silently lead to incorrect behaviour on Python 3.7. Please monkey-patch earlier. See https://github.com/gevent/gevent/issues/1016. Modules that had direct imports (NOT patched): ['urllib3.util.ssl_ (/opt/amazon/lib/python3.7/site-packages/urllib3/util/ssl_.py)', 'urllib3.util (/opt/amazon/lib/python3.7/site-packages/urllib3/util/__init__.py)']. \n",
      "  monkey.patch_all(subprocess=True)\n",
      "[2025-01-17:03:44:14:INFO] Model loaded successfully for worker : 21\n",
      "/opt/amazon/lib/python3.7/site-packages/gunicorn/workers/ggevent.py:65: MonkeyPatchWarning: Monkey-patching ssl after ssl has already been imported may lead to errors, including RecursionError on Python 3.6. It may also silently lead to incorrect behaviour on Python 3.7. Please monkey-patch earlier. See https://github.com/gevent/gevent/issues/1016. Modules that had direct imports (NOT patched): ['urllib3.util.ssl_ (/opt/amazon/lib/python3.7/site-packages/urllib3/util/ssl_.py)', 'urllib3.util (/opt/amazon/lib/python3.7/site-packages/urllib3/util/__init__.py)']. \n",
      "  monkey.patch_all(subprocess=True)\n",
      "[2025-01-17:03:44:14:INFO] Model loaded successfully for worker : 22\n",
      "/opt/amazon/lib/python3.7/site-packages/gunicorn/workers/ggevent.py:65: MonkeyPatchWarning: Monkey-patching ssl after ssl has already been imported may lead to errors, including RecursionError on Python 3.6. It may also silently lead to incorrect behaviour on Python 3.7. Please monkey-patch earlier. See https://github.com/gevent/gevent/issues/1016. Modules that had direct imports (NOT patched): ['urllib3.util.ssl_ (/opt/amazon/lib/python3.7/site-packages/urllib3/util/ssl_.py)', 'urllib3.util (/opt/amazon/lib/python3.7/site-packages/urllib3/util/__init__.py)']. \n",
      "  monkey.patch_all(subprocess=True)\n",
      "[2025-01-17:03:44:14:INFO] Model loaded successfully for worker : 23\n",
      "/opt/amazon/lib/python3.7/site-packages/gunicorn/workers/ggevent.py:65: MonkeyPatchWarning: Monkey-patching ssl after ssl has already been imported may lead to errors, including RecursionError on Python 3.6. It may also silently lead to incorrect behaviour on Python 3.7. Please monkey-patch earlier. See https://github.com/gevent/gevent/issues/1016. Modules that had direct imports (NOT patched): ['urllib3.util.ssl_ (/opt/amazon/lib/python3.7/site-packages/urllib3/util/ssl_.py)', 'urllib3.util (/opt/amazon/lib/python3.7/site-packages/urllib3/util/__init__.py)']. \n",
      "  monkey.patch_all(subprocess=True)\n",
      "[2025-01-17:03:44:14:INFO] Model loaded successfully for worker : 24\n",
      "[2025-01-17:03:44:18:INFO] Sniff delimiter as ','\n",
      "[2025-01-17:03:44:18:INFO] Determined delimiter of CSV input is ','\n",
      "\n",
      "2025-01-17T03:44:18.185:[sagemaker logs]: MaxConcurrentTransforms=4, MaxPayloadInMB=6, BatchStrategy=MULTI_RECORD\n",
      "Arguments: serve\n",
      "[2025-01-17 03:44:14 +0000] [1] [INFO] Starting gunicorn 19.9.0\n",
      "[2025-01-17 03:44:14 +0000] [1] [INFO] Listening at: http://0.0.0.0:8080 (1)\n",
      "[2025-01-17 03:44:14 +0000] [1] [INFO] Using worker: gevent\n",
      "Arguments: serve\n",
      "[2025-01-17 03:44:14 +0000] [1] [INFO] Starting gunicorn 19.9.0\n",
      "[2025-01-17 03:44:14 +0000] [1] [INFO] Listening at: http://0.0.0.0:8080 (1)\n",
      "[2025-01-17 03:44:14 +0000] [1] [INFO] Using worker: gevent\n",
      "[2025-01-17 03:44:14 +0000] [21] [INFO] Booting worker with pid: 21\n",
      "[2025-01-17 03:44:14 +0000] [22] [INFO] Booting worker with pid: 22\n",
      "[2025-01-17 03:44:14 +0000] [23] [INFO] Booting worker with pid: 23\n",
      "[2025-01-17 03:44:14 +0000] [24] [INFO] Booting worker with pid: 24\n",
      "/opt/amazon/lib/python3.7/site-packages/gunicorn/workers/ggevent.py:65: MonkeyPatchWarning: Monkey-patching ssl after ssl has already been imported may lead to errors, including RecursionError on Python 3.6. It may also silently lead to incorrect behaviour on Python 3.7. Please monkey-patch earlier. See https://github.com/gevent/gevent/issues/1016. Modules that had direct imports (NOT patched): ['urllib3.util.ssl_ (/opt/amazon/lib/python3.7/site-packages/urllib3/util/ssl_.py)', 'urllib3.util (/opt/amazon/lib/python3.7/site-packages/urllib3/util/__init__.py)']. \n",
      "  monkey.patch_all(subprocess=True)\n",
      "[2025-01-17:03:44:14:INFO] Model loaded successfully for worker : 21\n",
      "/opt/amazon/lib/python3.7/site-packages/gunicorn/workers/ggevent.py:65: MonkeyPatchWarning: Monkey-patching ssl after ssl has already been imported may lead to errors, including RecursionError on Python 3.6. It may also silently lead to incorrect behaviour on Python 3.7. Please monkey-patch earlier. See https://github.com/gevent/gevent/issues/1016. Modules that had direct imports (NOT patched): ['urllib3.util.ssl_ (/opt/amazon/lib/python3.7/site-packages/urllib3/util/ssl_.py)', 'urllib3.util (/opt/amazon/lib/python3.7/site-packages/urllib3/util/__init__.py)']. \n",
      "  monkey.patch_all(subprocess=True)\n",
      "[2025-01-17:03:44:14:INFO] Model loaded successfully for worker : 22\n",
      "/opt/amazon/lib/python3.7/site-packages/gunicorn/workers/ggevent.py:65: MonkeyPatchWarning: Monkey-patching ssl after ssl has already been imported may lead to errors, including RecursionError on Python 3.6. It may also silently lead to incorrect behaviour on Python 3.7. Please monkey-patch earlier. See https://github.com/gevent/gevent/issues/1016. Modules that had direct imports (NOT patched): ['urllib3.util.ssl_ (/opt/amazon/lib/python3.7/site-packages/urllib3/util/ssl_.py)', 'urllib3.util (/opt/amazon/lib/python3.7/site-packages/urllib3/util/__init__.py)']. \n",
      "  monkey.patch_all(subprocess=True)\n",
      "[2025-01-17:03:44:14:INFO] Model loaded successfully for worker : 23\n",
      "/opt/amazon/lib/python3.7/site-packages/gunicorn/workers/ggevent.py:65: MonkeyPatchWarning: Monkey-patching ssl after ssl has already been imported may lead to errors, including RecursionError on Python 3.6. It may also silently lead to incorrect behaviour on Python 3.7. Please monkey-patch earlier. See https://github.com/gevent/gevent/issues/1016. Modules that had direct imports (NOT patched): ['urllib3.util.ssl_ (/opt/amazon/lib/python3.7/site-packages/urllib3/util/ssl_.py)', 'urllib3.util (/opt/amazon/lib/python3.7/site-packages/urllib3/util/__init__.py)']. \n",
      "  monkey.patch_all(subprocess=True)\n",
      "[2025-01-17:03:44:14:INFO] Model loaded successfully for worker : 24\n",
      "[2025-01-17 03:44:14 +0000] [21] [INFO] Booting worker with pid: 21\n",
      "[2025-01-17 03:44:14 +0000] [22] [INFO] Booting worker with pid: 22\n",
      "[2025-01-17 03:44:14 +0000] [23] [INFO] Booting worker with pid: 23\n",
      "[2025-01-17 03:44:14 +0000] [24] [INFO] Booting worker with pid: 24\n",
      "/opt/amazon/lib/python3.7/site-packages/gunicorn/workers/ggevent.py:65: MonkeyPatchWarning: Monkey-patching ssl after ssl has already been imported may lead to errors, including RecursionError on Python 3.6. It may also silently lead to incorrect behaviour on Python 3.7. Please monkey-patch earlier. See https://github.com/gevent/gevent/issues/1016. Modules that had direct imports (NOT patched): ['urllib3.util.ssl_ (/opt/amazon/lib/python3.7/site-packages/urllib3/util/ssl_.py)', 'urllib3.util (/opt/amazon/lib/python3.7/site-packages/urllib3/util/__init__.py)']. \n",
      "  monkey.patch_all(subprocess=True)\n",
      "[2025-01-17:03:44:14:INFO] Model loaded successfully for worker : 21\n",
      "/opt/amazon/lib/python3.7/site-packages/gunicorn/workers/ggevent.py:65: MonkeyPatchWarning: Monkey-patching ssl after ssl has already been imported may lead to errors, including RecursionError on Python 3.6. It may also silently lead to incorrect behaviour on Python 3.7. Please monkey-patch earlier. See https://github.com/gevent/gevent/issues/1016. Modules that had direct imports (NOT patched): ['urllib3.util.ssl_ (/opt/amazon/lib/python3.7/site-packages/urllib3/util/ssl_.py)', 'urllib3.util (/opt/amazon/lib/python3.7/site-packages/urllib3/util/__init__.py)']. \n",
      "  monkey.patch_all(subprocess=True)\n",
      "[2025-01-17:03:44:14:INFO] Model loaded successfully for worker : 22\n",
      "/opt/amazon/lib/python3.7/site-packages/gunicorn/workers/ggevent.py:65: MonkeyPatchWarning: Monkey-patching ssl after ssl has already been imported may lead to errors, including RecursionError on Python 3.6. It may also silently lead to incorrect behaviour on Python 3.7. Please monkey-patch earlier. See https://github.com/gevent/gevent/issues/1016. Modules that had direct imports (NOT patched): ['urllib3.util.ssl_ (/opt/amazon/lib/python3.7/site-packages/urllib3/util/ssl_.py)', 'urllib3.util (/opt/amazon/lib/python3.7/site-packages/urllib3/util/__init__.py)']. \n",
      "  monkey.patch_all(subprocess=True)\n",
      "[2025-01-17:03:44:14:INFO] Model loaded successfully for worker : 23\n",
      "/opt/amazon/lib/python3.7/site-packages/gunicorn/workers/ggevent.py:65: MonkeyPatchWarning: Monkey-patching ssl after ssl has already been imported may lead to errors, including RecursionError on Python 3.6. It may also silently lead to incorrect behaviour on Python 3.7. Please monkey-patch earlier. See https://github.com/gevent/gevent/issues/1016. Modules that had direct imports (NOT patched): ['urllib3.util.ssl_ (/opt/amazon/lib/python3.7/site-packages/urllib3/util/ssl_.py)', 'urllib3.util (/opt/amazon/lib/python3.7/site-packages/urllib3/util/__init__.py)']. \n",
      "  monkey.patch_all(subprocess=True)\n",
      "[2025-01-17:03:44:14:INFO] Model loaded successfully for worker : 24\n",
      "[2025-01-17:03:44:18:INFO] Sniff delimiter as ','\n",
      "[2025-01-17:03:44:18:INFO] Sniff delimiter as ','\n",
      "[2025-01-17:03:44:18:INFO] Determined delimiter of CSV input is ','\n",
      "[2025-01-17:03:44:18:INFO] Determined delimiter of CSV input is ','\n",
      "2025-01-17T03:44:18.185:[sagemaker logs]: MaxConcurrentTransforms=4, MaxPayloadInMB=6, BatchStrategy=MULTI_RECORD\n"
     ]
    },
    {
     "data": {
      "application/javascript": "\n            setTimeout(function() {\n                var nbb_cell_id = 42;\n                var nbb_unformatted_code = \"transformer.transform(\\n    data=batch_ip, data_type=\\\"S3Prefix\\\", content_type=\\\"text/csv\\\", split_type=\\\"Line\\\"\\n)\\ntransformer.wait()\";\n                var nbb_formatted_code = \"transformer.transform(\\n    data=batch_ip, data_type=\\\"S3Prefix\\\", content_type=\\\"text/csv\\\", split_type=\\\"Line\\\"\\n)\\ntransformer.wait()\";\n                var nbb_cells = Jupyter.notebook.get_cells();\n                for (var i = 0; i < nbb_cells.length; ++i) {\n                    if (nbb_cells[i].input_prompt_number == nbb_cell_id) {\n                        if (nbb_cells[i].get_text() == nbb_unformatted_code) {\n                             nbb_cells[i].set_text(nbb_formatted_code);\n                        }\n                        break;\n                    }\n                }\n            }, 500);\n            ",
      "text/plain": [
       "<IPython.core.display.Javascript object>"
      ]
     },
     "metadata": {},
     "output_type": "display_data"
    }
   ],
   "source": [
    "transformer.transform(\n",
    "    data=batch_ip, data_type=\"S3Prefix\", content_type=\"text/csv\", split_type=\"Line\"\n",
    ")\n",
    "transformer.wait()"
   ]
  },
  {
   "cell_type": "code",
   "execution_count": 43,
   "metadata": {},
   "outputs": [
    {
     "name": "stdout",
     "output_type": "stream",
     "text": [
      "2025-01-16 19:37:41        800 iris/batch_transform/iris_infer.csv\n",
      "2025-01-16 19:44:19        200 iris/batch_transform/iris_infer.csv.out\n"
     ]
    },
    {
     "data": {
      "application/javascript": "\n            setTimeout(function() {\n                var nbb_cell_id = 43;\n                var nbb_unformatted_code = \"!aws s3 ls {S3_BUCKET}/{S3_PREFIX}/batch_transform/ --recursive\";\n                var nbb_formatted_code = \"!aws s3 ls {S3_BUCKET}/{S3_PREFIX}/batch_transform/ --recursive\";\n                var nbb_cells = Jupyter.notebook.get_cells();\n                for (var i = 0; i < nbb_cells.length; ++i) {\n                    if (nbb_cells[i].input_prompt_number == nbb_cell_id) {\n                        if (nbb_cells[i].get_text() == nbb_unformatted_code) {\n                             nbb_cells[i].set_text(nbb_formatted_code);\n                        }\n                        break;\n                    }\n                }\n            }, 500);\n            ",
      "text/plain": [
       "<IPython.core.display.Javascript object>"
      ]
     },
     "metadata": {},
     "output_type": "display_data"
    }
   ],
   "source": [
    "!aws s3 ls {S3_BUCKET}/{S3_PREFIX}/batch_transform/ --recursive"
   ]
  },
  {
   "cell_type": "markdown",
   "metadata": {},
   "source": [
    "* The classification results will be stored in `iris/batch_transform/iris_infer.csv.out`"
   ]
  },
  {
   "cell_type": "code",
   "execution_count": 44,
   "metadata": {},
   "outputs": [
    {
     "name": "stdout",
     "output_type": "stream",
     "text": [
      "download: s3://sgmkr-thangtran3112/iris/batch_transform/iris_infer.csv.out to ./iris_infer.csv.out\n"
     ]
    },
    {
     "data": {
      "application/javascript": "\n            setTimeout(function() {\n                var nbb_cell_id = 44;\n                var nbb_unformatted_code = \"!aws s3 cp s3://{S3_BUCKET}/{S3_PREFIX}/batch_transform/iris_infer.csv.out .\";\n                var nbb_formatted_code = \"!aws s3 cp s3://{S3_BUCKET}/{S3_PREFIX}/batch_transform/iris_infer.csv.out .\";\n                var nbb_cells = Jupyter.notebook.get_cells();\n                for (var i = 0; i < nbb_cells.length; ++i) {\n                    if (nbb_cells[i].input_prompt_number == nbb_cell_id) {\n                        if (nbb_cells[i].get_text() == nbb_unformatted_code) {\n                             nbb_cells[i].set_text(nbb_formatted_code);\n                        }\n                        break;\n                    }\n                }\n            }, 500);\n            ",
      "text/plain": [
       "<IPython.core.display.Javascript object>"
      ]
     },
     "metadata": {},
     "output_type": "display_data"
    }
   ],
   "source": [
    "!aws s3 cp s3://{S3_BUCKET}/{S3_PREFIX}/batch_transform/iris_infer.csv.out ."
   ]
  },
  {
   "cell_type": "code",
   "execution_count": 45,
   "metadata": {},
   "outputs": [
    {
     "name": "stdout",
     "output_type": "stream",
     "text": [
      "2.0\n",
      "1.0\n",
      "0.0\n",
      "1.0\n",
      "2.0\n"
     ]
    },
    {
     "data": {
      "application/javascript": "\n            setTimeout(function() {\n                var nbb_cell_id = 45;\n                var nbb_unformatted_code = \"!head -n 5 iris_infer.csv.out\";\n                var nbb_formatted_code = \"!head -n 5 iris_infer.csv.out\";\n                var nbb_cells = Jupyter.notebook.get_cells();\n                for (var i = 0; i < nbb_cells.length; ++i) {\n                    if (nbb_cells[i].input_prompt_number == nbb_cell_id) {\n                        if (nbb_cells[i].get_text() == nbb_unformatted_code) {\n                             nbb_cells[i].set_text(nbb_formatted_code);\n                        }\n                        break;\n                    }\n                }\n            }, 500);\n            ",
      "text/plain": [
       "<IPython.core.display.Javascript object>"
      ]
     },
     "metadata": {},
     "output_type": "display_data"
    }
   ],
   "source": [
    "!head -n 5 iris_infer.csv.out"
   ]
  }
 ],
 "metadata": {
  "kernelspec": {
   "display_name": "Python 3",
   "language": "python",
   "name": "python3"
  },
  "language_info": {
   "codemirror_mode": {
    "name": "ipython",
    "version": 3
   },
   "file_extension": ".py",
   "mimetype": "text/x-python",
   "name": "python",
   "nbconvert_exporter": "python",
   "pygments_lexer": "ipython3",
   "version": "3.12.3"
  },
  "toc": {
   "base_numbering": 1,
   "nav_menu": {},
   "number_sections": true,
   "sideBar": true,
   "skip_h1_title": false,
   "title_cell": "Table of Contents",
   "title_sidebar": "Contents",
   "toc_cell": false,
   "toc_position": {},
   "toc_section_display": true,
   "toc_window_display": false
  }
 },
 "nbformat": 4,
 "nbformat_minor": 4
}
