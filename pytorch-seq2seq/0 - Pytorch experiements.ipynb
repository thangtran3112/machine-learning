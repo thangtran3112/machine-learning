{
 "cells": [
  {
   "cell_type": "code",
   "execution_count": 3,
   "metadata": {},
   "outputs": [
    {
     "data": {
      "text/plain": [
       "tensor([[[-1.4043, -0.4011,  1.6967,  2.4041, -0.2251,  1.0248],\n",
       "         [-0.1186,  0.1278, -0.7602,  0.8845, -1.2966,  0.7585],\n",
       "         [ 0.0783, -0.4681,  0.0772,  0.3696,  0.8051, -0.7423]]])"
      ]
     },
     "execution_count": 3,
     "metadata": {},
     "output_type": "execute_result"
    }
   ],
   "source": [
    "import torch\n",
    "\n",
    "# Creates a 3D tensor with random numbers from normal distribution (mean=0, std=1)\n",
    "x = torch.randn(1, 3, 6)\n",
    "\n",
    "# Dimensions breakdown:\n",
    "# 1   -> Number of sequences/batches (singleton dimension)\n",
    "# 3  -> Batch size (number of samples)\n",
    "# 6 -> Hidden dimension/feature size\n",
    "\n",
    "# Shape components:\n",
    "dimensions = {\n",
    "    'dim 0 (sequences)': 1,    # Often used for sequence length or layers\n",
    "    'dim 1 (batch)': 3,      # Number of samples processed together\n",
    "    'dim 2 (features)': 6   # Size of hidden state/embedding\n",
    "}\n",
    "\n",
    "# Common uses:\n",
    "# - Neural network initialization\n",
    "# - Creating dummy data for testing\n",
    "# - Initializing hidden states in RNN/LSTM\n",
    "\n",
    "# The tensor x is a 3D tensor with shape (1, 3, 6)\n",
    "x"
   ]
  },
  {
   "cell_type": "code",
   "execution_count": 4,
   "metadata": {},
   "outputs": [
    {
     "data": {
      "text/plain": [
       "tensor([[-1.4043, -0.4011,  1.6967,  2.4041, -0.2251,  1.0248],\n",
       "        [-0.1186,  0.1278, -0.7602,  0.8845, -1.2966,  0.7585],\n",
       "        [ 0.0783, -0.4681,  0.0772,  0.3696,  0.8051, -0.7423]])"
      ]
     },
     "execution_count": 4,
     "metadata": {},
     "output_type": "execute_result"
    }
   ],
   "source": [
    "# Squeeze - removes dimensions of size 1\n",
    "# Because the number of batches is 1, we can remove the first dimension. It will result into a 2D tensor\n",
    "squeezed = x.squeeze(0) \n",
    "squeezed"
   ]
  },
  {
   "cell_type": "code",
   "execution_count": 5,
   "metadata": {},
   "outputs": [
    {
     "data": {
      "text/plain": [
       "tensor([[-1.4043, -0.4011,  1.6967,  2.4041, -0.2251,  1.0248],\n",
       "        [-0.1186,  0.1278, -0.7602,  0.8845, -1.2966,  0.7585],\n",
       "        [ 0.0783, -0.4681,  0.0772,  0.3696,  0.8051, -0.7423]])"
      ]
     },
     "execution_count": 5,
     "metadata": {},
     "output_type": "execute_result"
    }
   ],
   "source": [
    "# Removes all dimensions of size 1. Not just the first dimension\n",
    "squeezed = x.squeeze()       \n",
    "squeezed"
   ]
  },
  {
   "cell_type": "code",
   "execution_count": 6,
   "metadata": {},
   "outputs": [
    {
     "data": {
      "text/plain": [
       "tensor([[[[-1.4043, -0.4011,  1.6967,  2.4041, -0.2251,  1.0248],\n",
       "          [-0.1186,  0.1278, -0.7602,  0.8845, -1.2966,  0.7585],\n",
       "          [ 0.0783, -0.4681,  0.0772,  0.3696,  0.8051, -0.7423]]]])"
      ]
     },
     "execution_count": 6,
     "metadata": {},
     "output_type": "execute_result"
    }
   ],
   "source": [
    "\n",
    "# Unsqueeze - adds dimension of size 1\n",
    "unsqueezed = x.unsqueeze(1)  # Shape: [1, 1, 3, 6]\n",
    "\n",
    "# Result will be a 4D tensor with shape (1, 1, 3, 6)\n",
    "unsqueezed"
   ]
  },
  {
   "cell_type": "code",
   "execution_count": 9,
   "metadata": {},
   "outputs": [
    {
     "data": {
      "text/plain": [
       "tensor([[[-0.1988,  0.1294, -0.3280, -0.1420]],\n",
       "\n",
       "        [[-1.3942, -1.5514, -0.7374, -0.6113]]])"
      ]
     },
     "execution_count": 9,
     "metadata": {},
     "output_type": "execute_result"
    }
   ],
   "source": [
    "# Example 2. Adding sequence dimension\n",
    "\n",
    "# Shape: [batch, hidden]\n",
    "hidden = torch.randn(2, 4)            \n",
    "\n",
    "# Shape: [batch, 1, hidden]\n",
    "sequence = hidden.unsqueeze(1)           \n",
    "sequence"
   ]
  },
  {
   "cell_type": "code",
   "execution_count": 6,
   "metadata": {},
   "outputs": [
    {
     "data": {
      "text/plain": [
       "tensor([[[-0.2523, -0.7688,  0.4002, -0.4287,  0.6104],\n",
       "         [ 0.7961, -0.5849,  0.4927, -0.3052, -0.8675],\n",
       "         [ 0.7898, -1.1308,  0.0450, -1.0427, -1.2169]],\n",
       "\n",
       "        [[-0.5405,  1.3746,  0.4098, -1.1473, -0.0319],\n",
       "         [-1.5157,  0.0699,  0.3763, -1.1690, -0.3738],\n",
       "         [-0.1964,  0.9854,  0.8022, -0.2907, -1.3828]]])"
      ]
     },
     "execution_count": 6,
     "metadata": {},
     "output_type": "execute_result"
    }
   ],
   "source": [
    "import torch\n",
    "# Example: \n",
    "# Initial shape: [sequence_length=2, batch_size=3, vocab_size=5]\n",
    "output = torch.randn(2, 3, 5)\n",
    "output\n",
    "\n",
    "\n",
    "\n",
    "\n"
   ]
  },
  {
   "cell_type": "code",
   "execution_count": 7,
   "metadata": {},
   "outputs": [
    {
     "data": {
      "text/plain": [
       "5"
      ]
     },
     "execution_count": 7,
     "metadata": {},
     "output_type": "execute_result"
    }
   ],
   "source": [
    "output_dim = output.shape[-1]  # 5\n",
    "output_dim"
   ]
  },
  {
   "cell_type": "code",
   "execution_count": null,
   "metadata": {},
   "outputs": [
    {
     "data": {
      "text/plain": [
       "tensor([[[-0.5405,  1.3746,  0.4098, -1.1473, -0.0319],\n",
       "         [-1.5157,  0.0699,  0.3763, -1.1690, -0.3738],\n",
       "         [-0.1964,  0.9854,  0.8022, -0.2907, -1.3828]]])"
      ]
     },
     "execution_count": 8,
     "metadata": {},
     "output_type": "execute_result"
    }
   ],
   "source": [
    "# 1. Slice first timestep (column) for all batches\n",
    "sliced = output[1:]\n",
    "sliced"
   ]
  },
  {
   "cell_type": "code",
   "execution_count": 12,
   "metadata": {},
   "outputs": [
    {
     "data": {
      "text/plain": [
       "torch.Size([1, 3, 5])"
      ]
     },
     "execution_count": 12,
     "metadata": {},
     "output_type": "execute_result"
    }
   ],
   "source": [
    "sliced.shape"
   ]
  },
  {
   "cell_type": "code",
   "execution_count": 10,
   "metadata": {},
   "outputs": [
    {
     "data": {
      "text/plain": [
       "'torch.FloatTensor'"
      ]
     },
     "execution_count": 10,
     "metadata": {},
     "output_type": "execute_result"
    }
   ],
   "source": [
    "sliced.type()"
   ]
  },
  {
   "cell_type": "code",
   "execution_count": null,
   "metadata": {},
   "outputs": [
    {
     "data": {
      "text/plain": [
       "tensor([[-0.5405,  1.3746,  0.4098, -1.1473, -0.0319],\n",
       "        [-1.5157,  0.0699,  0.3763, -1.1690, -0.3738],\n",
       "        [-0.1964,  0.9854,  0.8022, -0.2907, -1.3828]])"
      ]
     },
     "execution_count": 9,
     "metadata": {},
     "output_type": "execute_result"
    }
   ],
   "source": [
    "# 2. Reshape from 3D to 2D\n",
    "# -1 means compute the size to maintain total elements\n",
    "# output_dim specifies the size of the last dimension\n",
    "reshaped = sliced.view(-1, output_dim)\n",
    "reshaped"
   ]
  },
  {
   "cell_type": "code",
   "execution_count": 13,
   "metadata": {},
   "outputs": [
    {
     "data": {
      "text/plain": [
       "torch.Size([3, 5])"
      ]
     },
     "execution_count": 13,
     "metadata": {},
     "output_type": "execute_result"
    }
   ],
   "source": [
    "reshaped.shape"
   ]
  },
  {
   "cell_type": "markdown",
   "metadata": {},
   "source": [
    "Here, we can experiment pytorch `squeeze` and `unsqueeze`"
   ]
  },
  {
   "cell_type": "code",
   "execution_count": 2,
   "metadata": {},
   "outputs": [
    {
     "name": "stdout",
     "output_type": "stream",
     "text": [
      "Original: torch.Size([4])\n",
      "tensor([1, 2, 3, 4])\n",
      "\n",
      "After unsqueeze: torch.Size([4, 1])\n",
      "tensor([[1],\n",
      "        [2],\n",
      "        [3],\n",
      "        [4]])\n",
      "\n",
      "Original sentence: torch.Size([5])\n",
      "tensor([5, 2, 8, 1, 9])\n",
      "\n",
      "After unsqueeze: torch.Size([5, 1])\n",
      "tensor([[5],\n",
      "        [2],\n",
      "        [8],\n",
      "        [1],\n",
      "        [9]])\n",
      "\n",
      "Different unsqueeze positions:\n",
      "Original: torch.Size([3])\n",
      "unsqueeze(-1): torch.Size([3, 1])\n",
      "unsqueeze(0): torch.Size([1, 3])\n",
      "unsqueeze(1): torch.Size([3, 1])\n"
     ]
    }
   ],
   "source": [
    "import torch\n",
    "# Examples of handling torch tensors\n",
    "# Example 1: Simple sequence\n",
    "ids = [1, 2, 3, 4]  # sequence of token ids\n",
    "tensor = torch.LongTensor(ids)\n",
    "print(\"Original:\", tensor.shape)  # Shape: [4]\n",
    "print(tensor)\n",
    "\n",
    "tensor = tensor.unsqueeze(-1)\n",
    "print(\"\\nAfter unsqueeze:\", tensor.shape)  # Shape: [4, 1]\n",
    "print(tensor)\n",
    "\n",
    "# Example 2: Sentence tokens\n",
    "sentence_ids = [5, 2, 8, 1, 9]  # Example token IDs for \"Hello world\"\n",
    "tensor = torch.LongTensor(sentence_ids)\n",
    "print(\"\\nOriginal sentence:\", tensor.shape)  # Shape: [5]\n",
    "print(tensor)\n",
    "\n",
    "tensor = tensor.unsqueeze(-1)\n",
    "print(\"\\nAfter unsqueeze:\", tensor.shape)  # Shape: [5, 1]\n",
    "print(tensor)\n",
    "\n",
    "# Example 3: Alternative ways to unsqueeze\n",
    "tensor = torch.LongTensor([1, 2, 3])\n",
    "print(\"\\nDifferent unsqueeze positions:\")\n",
    "print(\"Original:\", tensor.shape)  # [3]\n",
    "print(\"unsqueeze(-1):\", tensor.unsqueeze(-1).shape)  # [3, 1]\n",
    "print(\"unsqueeze(0):\", tensor.unsqueeze(0).shape)    # [1, 3]\n",
    "print(\"unsqueeze(1):\", tensor.unsqueeze(1).shape)    # [3, 1]"
   ]
  }
 ],
 "metadata": {
  "kernelspec": {
   "display_name": "Python 3",
   "language": "python",
   "name": "python3"
  },
  "language_info": {
   "codemirror_mode": {
    "name": "ipython",
    "version": 3
   },
   "file_extension": ".py",
   "mimetype": "text/x-python",
   "name": "python",
   "nbconvert_exporter": "python",
   "pygments_lexer": "ipython3",
   "version": "3.12.8"
  }
 },
 "nbformat": 4,
 "nbformat_minor": 2
}
